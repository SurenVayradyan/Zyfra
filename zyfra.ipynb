{
 "cells": [
  {
   "cell_type": "markdown",
   "metadata": {
    "toc": true
   },
   "source": [
    "<h1>Содержание<span class=\"tocSkip\"></span></h1>\n",
    "<div class=\"toc\"><ul class=\"toc-item\"><li><span><a href=\"#Подготовка-данных\" data-toc-modified-id=\"Подготовка-данных-1\"><span class=\"toc-item-num\">1&nbsp;&nbsp;</span>Подготовка данных</a></span><ul class=\"toc-item\"><li><span><a href=\"#Импорт-библиотек\" data-toc-modified-id=\"Импорт-библиотек-1.1\"><span class=\"toc-item-num\">1.1&nbsp;&nbsp;</span>Импорт библиотек</a></span></li><li><span><a href=\"#Проверим-долю-обогащения-золота\" data-toc-modified-id=\"Проверим-долю-обогащения-золота-1.2\"><span class=\"toc-item-num\">1.2&nbsp;&nbsp;</span>Проверим долю обогащения золота</a></span></li><li><span><a href=\"#Анализ-недостающих-признаков-в-тестовой-выборке\" data-toc-modified-id=\"Анализ-недостающих-признаков-в-тестовой-выборке-1.3\"><span class=\"toc-item-num\">1.3&nbsp;&nbsp;</span>Анализ недостающих признаков в тестовой выборке</a></span></li><li><span><a href=\"#Предобработка-данных\" data-toc-modified-id=\"Предобработка-данных-1.4\"><span class=\"toc-item-num\">1.4&nbsp;&nbsp;</span>Предобработка данных</a></span></li></ul></li><li><span><a href=\"#Анализ-данных\" data-toc-modified-id=\"Анализ-данных-2\"><span class=\"toc-item-num\">2&nbsp;&nbsp;</span>Анализ данных</a></span><ul class=\"toc-item\"><li><span><a href=\"#Посмотрим,-как-меняется-концентрация-металлов-(Au,-Ag,-Pb)-на-различных-этапах-очистки.-Опишите-выводы.\" data-toc-modified-id=\"Посмотрим,-как-меняется-концентрация-металлов-(Au,-Ag,-Pb)-на-различных-этапах-очистки.-Опишите-выводы.-2.1\"><span class=\"toc-item-num\">2.1&nbsp;&nbsp;</span>Посмотрим, как меняется концентрация металлов (Au, Ag, Pb) на различных этапах очистки. Опишите выводы.</a></span></li><li><span><a href=\"#Сравним-распределения-размеров-гранул-сырья-на-обучающей-и-тестовой-выборках.\" data-toc-modified-id=\"Сравним-распределения-размеров-гранул-сырья-на-обучающей-и-тестовой-выборках.-2.2\"><span class=\"toc-item-num\">2.2&nbsp;&nbsp;</span>Сравним распределения размеров гранул сырья на обучающей и тестовой выборках.</a></span></li><li><span><a href=\"#Исследуем-суммарную-концентрацию-всех-веществ-на-разных-стадиях:-в-сырье,-в-черновом-и-финальном-концентратах.\" data-toc-modified-id=\"Исследуем-суммарную-концентрацию-всех-веществ-на-разных-стадиях:-в-сырье,-в-черновом-и-финальном-концентратах.-2.3\"><span class=\"toc-item-num\">2.3&nbsp;&nbsp;</span>Исследуем суммарную концентрацию всех веществ на разных стадиях: в сырье, в черновом и финальном концентратах.</a></span></li></ul></li><li><span><a href=\"#Модель\" data-toc-modified-id=\"Модель-3\"><span class=\"toc-item-num\">3&nbsp;&nbsp;</span>Модель</a></span><ul class=\"toc-item\"><li><span><a href=\"#Расчет-модели-на-тренировочных-данных\" data-toc-modified-id=\"Расчет-модели-на-тренировочных-данных-3.1\"><span class=\"toc-item-num\">3.1&nbsp;&nbsp;</span>Расчет модели на тренировочных данных</a></span></li><li><span><a href=\"#Расчет-на-тестовых-данных\" data-toc-modified-id=\"Расчет-на-тестовых-данных-3.2\"><span class=\"toc-item-num\">3.2&nbsp;&nbsp;</span>Расчет на тестовых данных</a></span></li></ul></li></ul></div>"
   ]
  },
  {
   "cell_type": "markdown",
   "metadata": {},
   "source": [
    "# Восстановление золота из руды"
   ]
  },
  {
   "cell_type": "markdown",
   "metadata": {},
   "source": [
    "Цель работы: подготовить прототип модели машинного обучения для «Цифры». Компания разрабатывает решения для эффективной работы промышленных предприятий.\n",
    "\n",
    "Модель должна предсказать коэффициент восстановления золота из золотосодержащей руды. Используйте данные с параметрами добычи и очистки. \n",
    "\n",
    "Модель поможет оптимизировать производство, чтобы не запускать предприятие с убыточными характеристиками.\n",
    "\n",
    "Нам нужно:\n",
    "\n",
    "1. Подготовить данные;\n",
    "2. Провести исследовательский анализ данных;\n",
    "3. Построить и обучить модель."
   ]
  },
  {
   "cell_type": "markdown",
   "metadata": {},
   "source": [
    "## Подготовка данных"
   ]
  },
  {
   "cell_type": "markdown",
   "metadata": {},
   "source": [
    "### Импорт библиотек"
   ]
  },
  {
   "cell_type": "code",
   "execution_count": 1,
   "metadata": {},
   "outputs": [],
   "source": [
    "import pandas as pd\n",
    "import warnings\n",
    "warnings.filterwarnings(\"ignore\")\n",
    "import seaborn as sns\n",
    "import matplotlib.pyplot as plt\n",
    "import numpy as np\n",
    "\n",
    "\n",
    "from sklearn.model_selection import GridSearchCV\n",
    "from sklearn.ensemble import RandomForestRegressor\n",
    "from sklearn.linear_model import LinearRegression\n",
    "from sklearn.dummy import DummyRegressor\n",
    "\n",
    "\n",
    "from sklearn.metrics import mean_absolute_error\n",
    "from sklearn.metrics import make_scorer\n",
    "from sklearn.model_selection import cross_val_score"
   ]
  },
  {
   "cell_type": "code",
   "execution_count": 2,
   "metadata": {},
   "outputs": [
    {
     "name": "stdout",
     "output_type": "stream",
     "text": [
      "(14149, 87)\n",
      "(5290, 53)\n",
      "(19439, 87)\n"
     ]
    }
   ],
   "source": [
    "train_df = pd.read_csv('/datasets/gold_recovery_train_new.csv')\n",
    "test_df = pd.read_csv('/datasets/gold_recovery_test_new.csv')\n",
    "full_df = pd.read_csv('/datasets/gold_recovery_full_new.csv')\n",
    "\n",
    "print(train_df.shape)\n",
    "print(test_df.shape)\n",
    "print(full_df.shape)"
   ]
  },
  {
   "cell_type": "code",
   "execution_count": 3,
   "metadata": {},
   "outputs": [
    {
     "name": "stdout",
     "output_type": "stream",
     "text": [
      "<class 'pandas.core.frame.DataFrame'>\n",
      "RangeIndex: 14149 entries, 0 to 14148\n",
      "Data columns (total 87 columns):\n",
      " #   Column                                              Non-Null Count  Dtype  \n",
      "---  ------                                              --------------  -----  \n",
      " 0   date                                                14149 non-null  object \n",
      " 1   final.output.concentrate_ag                         14148 non-null  float64\n",
      " 2   final.output.concentrate_pb                         14148 non-null  float64\n",
      " 3   final.output.concentrate_sol                        13938 non-null  float64\n",
      " 4   final.output.concentrate_au                         14149 non-null  float64\n",
      " 5   final.output.recovery                               14149 non-null  float64\n",
      " 6   final.output.tail_ag                                14149 non-null  float64\n",
      " 7   final.output.tail_pb                                14049 non-null  float64\n",
      " 8   final.output.tail_sol                               14144 non-null  float64\n",
      " 9   final.output.tail_au                                14149 non-null  float64\n",
      " 10  primary_cleaner.input.sulfate                       14129 non-null  float64\n",
      " 11  primary_cleaner.input.depressant                    14117 non-null  float64\n",
      " 12  primary_cleaner.input.feed_size                     14149 non-null  float64\n",
      " 13  primary_cleaner.input.xanthate                      14049 non-null  float64\n",
      " 14  primary_cleaner.output.concentrate_ag               14149 non-null  float64\n",
      " 15  primary_cleaner.output.concentrate_pb               14063 non-null  float64\n",
      " 16  primary_cleaner.output.concentrate_sol              13863 non-null  float64\n",
      " 17  primary_cleaner.output.concentrate_au               14149 non-null  float64\n",
      " 18  primary_cleaner.output.tail_ag                      14148 non-null  float64\n",
      " 19  primary_cleaner.output.tail_pb                      14134 non-null  float64\n",
      " 20  primary_cleaner.output.tail_sol                     14103 non-null  float64\n",
      " 21  primary_cleaner.output.tail_au                      14149 non-null  float64\n",
      " 22  primary_cleaner.state.floatbank8_a_air              14145 non-null  float64\n",
      " 23  primary_cleaner.state.floatbank8_a_level            14148 non-null  float64\n",
      " 24  primary_cleaner.state.floatbank8_b_air              14145 non-null  float64\n",
      " 25  primary_cleaner.state.floatbank8_b_level            14148 non-null  float64\n",
      " 26  primary_cleaner.state.floatbank8_c_air              14147 non-null  float64\n",
      " 27  primary_cleaner.state.floatbank8_c_level            14148 non-null  float64\n",
      " 28  primary_cleaner.state.floatbank8_d_air              14146 non-null  float64\n",
      " 29  primary_cleaner.state.floatbank8_d_level            14148 non-null  float64\n",
      " 30  rougher.calculation.sulfate_to_au_concentrate       14148 non-null  float64\n",
      " 31  rougher.calculation.floatbank10_sulfate_to_au_feed  14148 non-null  float64\n",
      " 32  rougher.calculation.floatbank11_sulfate_to_au_feed  14148 non-null  float64\n",
      " 33  rougher.calculation.au_pb_ratio                     14149 non-null  float64\n",
      " 34  rougher.input.feed_ag                               14149 non-null  float64\n",
      " 35  rougher.input.feed_pb                               14049 non-null  float64\n",
      " 36  rougher.input.feed_rate                             14141 non-null  float64\n",
      " 37  rougher.input.feed_size                             14005 non-null  float64\n",
      " 38  rougher.input.feed_sol                              14071 non-null  float64\n",
      " 39  rougher.input.feed_au                               14149 non-null  float64\n",
      " 40  rougher.input.floatbank10_sulfate                   14120 non-null  float64\n",
      " 41  rougher.input.floatbank10_xanthate                  14141 non-null  float64\n",
      " 42  rougher.input.floatbank11_sulfate                   14113 non-null  float64\n",
      " 43  rougher.input.floatbank11_xanthate                  13721 non-null  float64\n",
      " 44  rougher.output.concentrate_ag                       14149 non-null  float64\n",
      " 45  rougher.output.concentrate_pb                       14149 non-null  float64\n",
      " 46  rougher.output.concentrate_sol                      14127 non-null  float64\n",
      " 47  rougher.output.concentrate_au                       14149 non-null  float64\n",
      " 48  rougher.output.recovery                             14149 non-null  float64\n",
      " 49  rougher.output.tail_ag                              14148 non-null  float64\n",
      " 50  rougher.output.tail_pb                              14149 non-null  float64\n",
      " 51  rougher.output.tail_sol                             14149 non-null  float64\n",
      " 52  rougher.output.tail_au                              14149 non-null  float64\n",
      " 53  rougher.state.floatbank10_a_air                     14148 non-null  float64\n",
      " 54  rougher.state.floatbank10_a_level                   14148 non-null  float64\n",
      " 55  rougher.state.floatbank10_b_air                     14148 non-null  float64\n",
      " 56  rougher.state.floatbank10_b_level                   14148 non-null  float64\n",
      " 57  rougher.state.floatbank10_c_air                     14148 non-null  float64\n",
      " 58  rougher.state.floatbank10_c_level                   14148 non-null  float64\n",
      " 59  rougher.state.floatbank10_d_air                     14149 non-null  float64\n",
      " 60  rougher.state.floatbank10_d_level                   14149 non-null  float64\n",
      " 61  rougher.state.floatbank10_e_air                     13713 non-null  float64\n",
      " 62  rougher.state.floatbank10_e_level                   14149 non-null  float64\n",
      " 63  rougher.state.floatbank10_f_air                     14149 non-null  float64\n",
      " 64  rougher.state.floatbank10_f_level                   14149 non-null  float64\n",
      " 65  secondary_cleaner.output.tail_ag                    14147 non-null  float64\n",
      " 66  secondary_cleaner.output.tail_pb                    14139 non-null  float64\n",
      " 67  secondary_cleaner.output.tail_sol                   12544 non-null  float64\n",
      " 68  secondary_cleaner.output.tail_au                    14149 non-null  float64\n",
      " 69  secondary_cleaner.state.floatbank2_a_air            13932 non-null  float64\n",
      " 70  secondary_cleaner.state.floatbank2_a_level          14148 non-null  float64\n",
      " 71  secondary_cleaner.state.floatbank2_b_air            14128 non-null  float64\n",
      " 72  secondary_cleaner.state.floatbank2_b_level          14148 non-null  float64\n",
      " 73  secondary_cleaner.state.floatbank3_a_air            14145 non-null  float64\n",
      " 74  secondary_cleaner.state.floatbank3_a_level          14148 non-null  float64\n",
      " 75  secondary_cleaner.state.floatbank3_b_air            14148 non-null  float64\n",
      " 76  secondary_cleaner.state.floatbank3_b_level          14148 non-null  float64\n",
      " 77  secondary_cleaner.state.floatbank4_a_air            14143 non-null  float64\n",
      " 78  secondary_cleaner.state.floatbank4_a_level          14148 non-null  float64\n",
      " 79  secondary_cleaner.state.floatbank4_b_air            14148 non-null  float64\n",
      " 80  secondary_cleaner.state.floatbank4_b_level          14148 non-null  float64\n",
      " 81  secondary_cleaner.state.floatbank5_a_air            14148 non-null  float64\n",
      " 82  secondary_cleaner.state.floatbank5_a_level          14148 non-null  float64\n",
      " 83  secondary_cleaner.state.floatbank5_b_air            14148 non-null  float64\n",
      " 84  secondary_cleaner.state.floatbank5_b_level          14148 non-null  float64\n",
      " 85  secondary_cleaner.state.floatbank6_a_air            14147 non-null  float64\n",
      " 86  secondary_cleaner.state.floatbank6_a_level          14148 non-null  float64\n",
      "dtypes: float64(86), object(1)\n",
      "memory usage: 9.4+ MB\n"
     ]
    }
   ],
   "source": [
    "train_df.info()"
   ]
  },
  {
   "cell_type": "code",
   "execution_count": 4,
   "metadata": {
    "scrolled": true
   },
   "outputs": [
    {
     "name": "stdout",
     "output_type": "stream",
     "text": [
      "<class 'pandas.core.frame.DataFrame'>\n",
      "RangeIndex: 5290 entries, 0 to 5289\n",
      "Data columns (total 53 columns):\n",
      " #   Column                                      Non-Null Count  Dtype  \n",
      "---  ------                                      --------------  -----  \n",
      " 0   date                                        5290 non-null   object \n",
      " 1   primary_cleaner.input.sulfate               5286 non-null   float64\n",
      " 2   primary_cleaner.input.depressant            5285 non-null   float64\n",
      " 3   primary_cleaner.input.feed_size             5290 non-null   float64\n",
      " 4   primary_cleaner.input.xanthate              5286 non-null   float64\n",
      " 5   primary_cleaner.state.floatbank8_a_air      5290 non-null   float64\n",
      " 6   primary_cleaner.state.floatbank8_a_level    5290 non-null   float64\n",
      " 7   primary_cleaner.state.floatbank8_b_air      5290 non-null   float64\n",
      " 8   primary_cleaner.state.floatbank8_b_level    5290 non-null   float64\n",
      " 9   primary_cleaner.state.floatbank8_c_air      5290 non-null   float64\n",
      " 10  primary_cleaner.state.floatbank8_c_level    5290 non-null   float64\n",
      " 11  primary_cleaner.state.floatbank8_d_air      5290 non-null   float64\n",
      " 12  primary_cleaner.state.floatbank8_d_level    5290 non-null   float64\n",
      " 13  rougher.input.feed_ag                       5290 non-null   float64\n",
      " 14  rougher.input.feed_pb                       5290 non-null   float64\n",
      " 15  rougher.input.feed_rate                     5287 non-null   float64\n",
      " 16  rougher.input.feed_size                     5289 non-null   float64\n",
      " 17  rougher.input.feed_sol                      5269 non-null   float64\n",
      " 18  rougher.input.feed_au                       5290 non-null   float64\n",
      " 19  rougher.input.floatbank10_sulfate           5285 non-null   float64\n",
      " 20  rougher.input.floatbank10_xanthate          5290 non-null   float64\n",
      " 21  rougher.input.floatbank11_sulfate           5282 non-null   float64\n",
      " 22  rougher.input.floatbank11_xanthate          5265 non-null   float64\n",
      " 23  rougher.state.floatbank10_a_air             5290 non-null   float64\n",
      " 24  rougher.state.floatbank10_a_level           5290 non-null   float64\n",
      " 25  rougher.state.floatbank10_b_air             5290 non-null   float64\n",
      " 26  rougher.state.floatbank10_b_level           5290 non-null   float64\n",
      " 27  rougher.state.floatbank10_c_air             5290 non-null   float64\n",
      " 28  rougher.state.floatbank10_c_level           5290 non-null   float64\n",
      " 29  rougher.state.floatbank10_d_air             5290 non-null   float64\n",
      " 30  rougher.state.floatbank10_d_level           5290 non-null   float64\n",
      " 31  rougher.state.floatbank10_e_air             5290 non-null   float64\n",
      " 32  rougher.state.floatbank10_e_level           5290 non-null   float64\n",
      " 33  rougher.state.floatbank10_f_air             5290 non-null   float64\n",
      " 34  rougher.state.floatbank10_f_level           5290 non-null   float64\n",
      " 35  secondary_cleaner.state.floatbank2_a_air    5287 non-null   float64\n",
      " 36  secondary_cleaner.state.floatbank2_a_level  5290 non-null   float64\n",
      " 37  secondary_cleaner.state.floatbank2_b_air    5288 non-null   float64\n",
      " 38  secondary_cleaner.state.floatbank2_b_level  5290 non-null   float64\n",
      " 39  secondary_cleaner.state.floatbank3_a_air    5281 non-null   float64\n",
      " 40  secondary_cleaner.state.floatbank3_a_level  5290 non-null   float64\n",
      " 41  secondary_cleaner.state.floatbank3_b_air    5290 non-null   float64\n",
      " 42  secondary_cleaner.state.floatbank3_b_level  5290 non-null   float64\n",
      " 43  secondary_cleaner.state.floatbank4_a_air    5290 non-null   float64\n",
      " 44  secondary_cleaner.state.floatbank4_a_level  5290 non-null   float64\n",
      " 45  secondary_cleaner.state.floatbank4_b_air    5290 non-null   float64\n",
      " 46  secondary_cleaner.state.floatbank4_b_level  5290 non-null   float64\n",
      " 47  secondary_cleaner.state.floatbank5_a_air    5290 non-null   float64\n",
      " 48  secondary_cleaner.state.floatbank5_a_level  5290 non-null   float64\n",
      " 49  secondary_cleaner.state.floatbank5_b_air    5290 non-null   float64\n",
      " 50  secondary_cleaner.state.floatbank5_b_level  5290 non-null   float64\n",
      " 51  secondary_cleaner.state.floatbank6_a_air    5290 non-null   float64\n",
      " 52  secondary_cleaner.state.floatbank6_a_level  5290 non-null   float64\n",
      "dtypes: float64(52), object(1)\n",
      "memory usage: 2.1+ MB\n"
     ]
    }
   ],
   "source": [
    "test_df.info()"
   ]
  },
  {
   "cell_type": "code",
   "execution_count": 5,
   "metadata": {
    "scrolled": true
   },
   "outputs": [
    {
     "name": "stdout",
     "output_type": "stream",
     "text": [
      "<class 'pandas.core.frame.DataFrame'>\n",
      "RangeIndex: 19439 entries, 0 to 19438\n",
      "Data columns (total 87 columns):\n",
      " #   Column                                              Non-Null Count  Dtype  \n",
      "---  ------                                              --------------  -----  \n",
      " 0   date                                                19439 non-null  object \n",
      " 1   final.output.concentrate_ag                         19438 non-null  float64\n",
      " 2   final.output.concentrate_pb                         19438 non-null  float64\n",
      " 3   final.output.concentrate_sol                        19228 non-null  float64\n",
      " 4   final.output.concentrate_au                         19439 non-null  float64\n",
      " 5   final.output.recovery                               19439 non-null  float64\n",
      " 6   final.output.tail_ag                                19438 non-null  float64\n",
      " 7   final.output.tail_pb                                19338 non-null  float64\n",
      " 8   final.output.tail_sol                               19433 non-null  float64\n",
      " 9   final.output.tail_au                                19439 non-null  float64\n",
      " 10  primary_cleaner.input.sulfate                       19415 non-null  float64\n",
      " 11  primary_cleaner.input.depressant                    19402 non-null  float64\n",
      " 12  primary_cleaner.input.feed_size                     19439 non-null  float64\n",
      " 13  primary_cleaner.input.xanthate                      19335 non-null  float64\n",
      " 14  primary_cleaner.output.concentrate_ag               19439 non-null  float64\n",
      " 15  primary_cleaner.output.concentrate_pb               19323 non-null  float64\n",
      " 16  primary_cleaner.output.concentrate_sol              19069 non-null  float64\n",
      " 17  primary_cleaner.output.concentrate_au               19439 non-null  float64\n",
      " 18  primary_cleaner.output.tail_ag                      19435 non-null  float64\n",
      " 19  primary_cleaner.output.tail_pb                      19418 non-null  float64\n",
      " 20  primary_cleaner.output.tail_sol                     19377 non-null  float64\n",
      " 21  primary_cleaner.output.tail_au                      19439 non-null  float64\n",
      " 22  primary_cleaner.state.floatbank8_a_air              19435 non-null  float64\n",
      " 23  primary_cleaner.state.floatbank8_a_level            19438 non-null  float64\n",
      " 24  primary_cleaner.state.floatbank8_b_air              19435 non-null  float64\n",
      " 25  primary_cleaner.state.floatbank8_b_level            19438 non-null  float64\n",
      " 26  primary_cleaner.state.floatbank8_c_air              19437 non-null  float64\n",
      " 27  primary_cleaner.state.floatbank8_c_level            19438 non-null  float64\n",
      " 28  primary_cleaner.state.floatbank8_d_air              19436 non-null  float64\n",
      " 29  primary_cleaner.state.floatbank8_d_level            19438 non-null  float64\n",
      " 30  rougher.calculation.sulfate_to_au_concentrate       19437 non-null  float64\n",
      " 31  rougher.calculation.floatbank10_sulfate_to_au_feed  19437 non-null  float64\n",
      " 32  rougher.calculation.floatbank11_sulfate_to_au_feed  19437 non-null  float64\n",
      " 33  rougher.calculation.au_pb_ratio                     19439 non-null  float64\n",
      " 34  rougher.input.feed_ag                               19439 non-null  float64\n",
      " 35  rougher.input.feed_pb                               19339 non-null  float64\n",
      " 36  rougher.input.feed_rate                             19428 non-null  float64\n",
      " 37  rougher.input.feed_size                             19294 non-null  float64\n",
      " 38  rougher.input.feed_sol                              19340 non-null  float64\n",
      " 39  rougher.input.feed_au                               19439 non-null  float64\n",
      " 40  rougher.input.floatbank10_sulfate                   19405 non-null  float64\n",
      " 41  rougher.input.floatbank10_xanthate                  19431 non-null  float64\n",
      " 42  rougher.input.floatbank11_sulfate                   19395 non-null  float64\n",
      " 43  rougher.input.floatbank11_xanthate                  18986 non-null  float64\n",
      " 44  rougher.output.concentrate_ag                       19439 non-null  float64\n",
      " 45  rougher.output.concentrate_pb                       19439 non-null  float64\n",
      " 46  rougher.output.concentrate_sol                      19416 non-null  float64\n",
      " 47  rougher.output.concentrate_au                       19439 non-null  float64\n",
      " 48  rougher.output.recovery                             19439 non-null  float64\n",
      " 49  rougher.output.tail_ag                              19438 non-null  float64\n",
      " 50  rougher.output.tail_pb                              19439 non-null  float64\n",
      " 51  rougher.output.tail_sol                             19439 non-null  float64\n",
      " 52  rougher.output.tail_au                              19439 non-null  float64\n",
      " 53  rougher.state.floatbank10_a_air                     19438 non-null  float64\n",
      " 54  rougher.state.floatbank10_a_level                   19438 non-null  float64\n",
      " 55  rougher.state.floatbank10_b_air                     19438 non-null  float64\n",
      " 56  rougher.state.floatbank10_b_level                   19438 non-null  float64\n",
      " 57  rougher.state.floatbank10_c_air                     19438 non-null  float64\n",
      " 58  rougher.state.floatbank10_c_level                   19438 non-null  float64\n",
      " 59  rougher.state.floatbank10_d_air                     19439 non-null  float64\n",
      " 60  rougher.state.floatbank10_d_level                   19439 non-null  float64\n",
      " 61  rougher.state.floatbank10_e_air                     19003 non-null  float64\n",
      " 62  rougher.state.floatbank10_e_level                   19439 non-null  float64\n",
      " 63  rougher.state.floatbank10_f_air                     19439 non-null  float64\n",
      " 64  rougher.state.floatbank10_f_level                   19439 non-null  float64\n",
      " 65  secondary_cleaner.output.tail_ag                    19437 non-null  float64\n",
      " 66  secondary_cleaner.output.tail_pb                    19427 non-null  float64\n",
      " 67  secondary_cleaner.output.tail_sol                   17691 non-null  float64\n",
      " 68  secondary_cleaner.output.tail_au                    19439 non-null  float64\n",
      " 69  secondary_cleaner.state.floatbank2_a_air            19219 non-null  float64\n",
      " 70  secondary_cleaner.state.floatbank2_a_level          19438 non-null  float64\n",
      " 71  secondary_cleaner.state.floatbank2_b_air            19416 non-null  float64\n",
      " 72  secondary_cleaner.state.floatbank2_b_level          19438 non-null  float64\n",
      " 73  secondary_cleaner.state.floatbank3_a_air            19426 non-null  float64\n",
      " 74  secondary_cleaner.state.floatbank3_a_level          19438 non-null  float64\n",
      " 75  secondary_cleaner.state.floatbank3_b_air            19438 non-null  float64\n",
      " 76  secondary_cleaner.state.floatbank3_b_level          19438 non-null  float64\n",
      " 77  secondary_cleaner.state.floatbank4_a_air            19433 non-null  float64\n",
      " 78  secondary_cleaner.state.floatbank4_a_level          19438 non-null  float64\n",
      " 79  secondary_cleaner.state.floatbank4_b_air            19438 non-null  float64\n",
      " 80  secondary_cleaner.state.floatbank4_b_level          19438 non-null  float64\n",
      " 81  secondary_cleaner.state.floatbank5_a_air            19438 non-null  float64\n",
      " 82  secondary_cleaner.state.floatbank5_a_level          19438 non-null  float64\n",
      " 83  secondary_cleaner.state.floatbank5_b_air            19438 non-null  float64\n",
      " 84  secondary_cleaner.state.floatbank5_b_level          19438 non-null  float64\n",
      " 85  secondary_cleaner.state.floatbank6_a_air            19437 non-null  float64\n",
      " 86  secondary_cleaner.state.floatbank6_a_level          19438 non-null  float64\n",
      "dtypes: float64(86), object(1)\n",
      "memory usage: 12.9+ MB\n"
     ]
    }
   ],
   "source": [
    "full_df.info()"
   ]
  },
  {
   "cell_type": "code",
   "execution_count": 6,
   "metadata": {},
   "outputs": [],
   "source": [
    "pd.set_option('display.max_rows', None)"
   ]
  },
  {
   "cell_type": "code",
   "execution_count": 7,
   "metadata": {
    "scrolled": true
   },
   "outputs": [
    {
     "data": {
      "text/plain": [
       "date                                                     0\n",
       "final.output.concentrate_ag                              1\n",
       "final.output.concentrate_pb                              1\n",
       "final.output.concentrate_sol                           211\n",
       "final.output.concentrate_au                              0\n",
       "final.output.recovery                                    0\n",
       "final.output.tail_ag                                     0\n",
       "final.output.tail_pb                                   100\n",
       "final.output.tail_sol                                    5\n",
       "final.output.tail_au                                     0\n",
       "primary_cleaner.input.sulfate                           20\n",
       "primary_cleaner.input.depressant                        32\n",
       "primary_cleaner.input.feed_size                          0\n",
       "primary_cleaner.input.xanthate                         100\n",
       "primary_cleaner.output.concentrate_ag                    0\n",
       "primary_cleaner.output.concentrate_pb                   86\n",
       "primary_cleaner.output.concentrate_sol                 286\n",
       "primary_cleaner.output.concentrate_au                    0\n",
       "primary_cleaner.output.tail_ag                           1\n",
       "primary_cleaner.output.tail_pb                          15\n",
       "primary_cleaner.output.tail_sol                         46\n",
       "primary_cleaner.output.tail_au                           0\n",
       "primary_cleaner.state.floatbank8_a_air                   4\n",
       "primary_cleaner.state.floatbank8_a_level                 1\n",
       "primary_cleaner.state.floatbank8_b_air                   4\n",
       "primary_cleaner.state.floatbank8_b_level                 1\n",
       "primary_cleaner.state.floatbank8_c_air                   2\n",
       "primary_cleaner.state.floatbank8_c_level                 1\n",
       "primary_cleaner.state.floatbank8_d_air                   3\n",
       "primary_cleaner.state.floatbank8_d_level                 1\n",
       "rougher.calculation.sulfate_to_au_concentrate            1\n",
       "rougher.calculation.floatbank10_sulfate_to_au_feed       1\n",
       "rougher.calculation.floatbank11_sulfate_to_au_feed       1\n",
       "rougher.calculation.au_pb_ratio                          0\n",
       "rougher.input.feed_ag                                    0\n",
       "rougher.input.feed_pb                                  100\n",
       "rougher.input.feed_rate                                  8\n",
       "rougher.input.feed_size                                144\n",
       "rougher.input.feed_sol                                  78\n",
       "rougher.input.feed_au                                    0\n",
       "rougher.input.floatbank10_sulfate                       29\n",
       "rougher.input.floatbank10_xanthate                       8\n",
       "rougher.input.floatbank11_sulfate                       36\n",
       "rougher.input.floatbank11_xanthate                     428\n",
       "rougher.output.concentrate_ag                            0\n",
       "rougher.output.concentrate_pb                            0\n",
       "rougher.output.concentrate_sol                          22\n",
       "rougher.output.concentrate_au                            0\n",
       "rougher.output.recovery                                  0\n",
       "rougher.output.tail_ag                                   1\n",
       "rougher.output.tail_pb                                   0\n",
       "rougher.output.tail_sol                                  0\n",
       "rougher.output.tail_au                                   0\n",
       "rougher.state.floatbank10_a_air                          1\n",
       "rougher.state.floatbank10_a_level                        1\n",
       "rougher.state.floatbank10_b_air                          1\n",
       "rougher.state.floatbank10_b_level                        1\n",
       "rougher.state.floatbank10_c_air                          1\n",
       "rougher.state.floatbank10_c_level                        1\n",
       "rougher.state.floatbank10_d_air                          0\n",
       "rougher.state.floatbank10_d_level                        0\n",
       "rougher.state.floatbank10_e_air                        436\n",
       "rougher.state.floatbank10_e_level                        0\n",
       "rougher.state.floatbank10_f_air                          0\n",
       "rougher.state.floatbank10_f_level                        0\n",
       "secondary_cleaner.output.tail_ag                         2\n",
       "secondary_cleaner.output.tail_pb                        10\n",
       "secondary_cleaner.output.tail_sol                     1605\n",
       "secondary_cleaner.output.tail_au                         0\n",
       "secondary_cleaner.state.floatbank2_a_air               217\n",
       "secondary_cleaner.state.floatbank2_a_level               1\n",
       "secondary_cleaner.state.floatbank2_b_air                21\n",
       "secondary_cleaner.state.floatbank2_b_level               1\n",
       "secondary_cleaner.state.floatbank3_a_air                 4\n",
       "secondary_cleaner.state.floatbank3_a_level               1\n",
       "secondary_cleaner.state.floatbank3_b_air                 1\n",
       "secondary_cleaner.state.floatbank3_b_level               1\n",
       "secondary_cleaner.state.floatbank4_a_air                 6\n",
       "secondary_cleaner.state.floatbank4_a_level               1\n",
       "secondary_cleaner.state.floatbank4_b_air                 1\n",
       "secondary_cleaner.state.floatbank4_b_level               1\n",
       "secondary_cleaner.state.floatbank5_a_air                 1\n",
       "secondary_cleaner.state.floatbank5_a_level               1\n",
       "secondary_cleaner.state.floatbank5_b_air                 1\n",
       "secondary_cleaner.state.floatbank5_b_level               1\n",
       "secondary_cleaner.state.floatbank6_a_air                 2\n",
       "secondary_cleaner.state.floatbank6_a_level               1\n",
       "dtype: int64"
      ]
     },
     "execution_count": 7,
     "metadata": {},
     "output_type": "execute_result"
    }
   ],
   "source": [
    "train_df.isna().sum()"
   ]
  },
  {
   "cell_type": "code",
   "execution_count": 8,
   "metadata": {
    "scrolled": true
   },
   "outputs": [
    {
     "data": {
      "text/plain": [
       "date                                           0\n",
       "primary_cleaner.input.sulfate                  4\n",
       "primary_cleaner.input.depressant               5\n",
       "primary_cleaner.input.feed_size                0\n",
       "primary_cleaner.input.xanthate                 4\n",
       "primary_cleaner.state.floatbank8_a_air         0\n",
       "primary_cleaner.state.floatbank8_a_level       0\n",
       "primary_cleaner.state.floatbank8_b_air         0\n",
       "primary_cleaner.state.floatbank8_b_level       0\n",
       "primary_cleaner.state.floatbank8_c_air         0\n",
       "primary_cleaner.state.floatbank8_c_level       0\n",
       "primary_cleaner.state.floatbank8_d_air         0\n",
       "primary_cleaner.state.floatbank8_d_level       0\n",
       "rougher.input.feed_ag                          0\n",
       "rougher.input.feed_pb                          0\n",
       "rougher.input.feed_rate                        3\n",
       "rougher.input.feed_size                        1\n",
       "rougher.input.feed_sol                        21\n",
       "rougher.input.feed_au                          0\n",
       "rougher.input.floatbank10_sulfate              5\n",
       "rougher.input.floatbank10_xanthate             0\n",
       "rougher.input.floatbank11_sulfate              8\n",
       "rougher.input.floatbank11_xanthate            25\n",
       "rougher.state.floatbank10_a_air                0\n",
       "rougher.state.floatbank10_a_level              0\n",
       "rougher.state.floatbank10_b_air                0\n",
       "rougher.state.floatbank10_b_level              0\n",
       "rougher.state.floatbank10_c_air                0\n",
       "rougher.state.floatbank10_c_level              0\n",
       "rougher.state.floatbank10_d_air                0\n",
       "rougher.state.floatbank10_d_level              0\n",
       "rougher.state.floatbank10_e_air                0\n",
       "rougher.state.floatbank10_e_level              0\n",
       "rougher.state.floatbank10_f_air                0\n",
       "rougher.state.floatbank10_f_level              0\n",
       "secondary_cleaner.state.floatbank2_a_air       3\n",
       "secondary_cleaner.state.floatbank2_a_level     0\n",
       "secondary_cleaner.state.floatbank2_b_air       2\n",
       "secondary_cleaner.state.floatbank2_b_level     0\n",
       "secondary_cleaner.state.floatbank3_a_air       9\n",
       "secondary_cleaner.state.floatbank3_a_level     0\n",
       "secondary_cleaner.state.floatbank3_b_air       0\n",
       "secondary_cleaner.state.floatbank3_b_level     0\n",
       "secondary_cleaner.state.floatbank4_a_air       0\n",
       "secondary_cleaner.state.floatbank4_a_level     0\n",
       "secondary_cleaner.state.floatbank4_b_air       0\n",
       "secondary_cleaner.state.floatbank4_b_level     0\n",
       "secondary_cleaner.state.floatbank5_a_air       0\n",
       "secondary_cleaner.state.floatbank5_a_level     0\n",
       "secondary_cleaner.state.floatbank5_b_air       0\n",
       "secondary_cleaner.state.floatbank5_b_level     0\n",
       "secondary_cleaner.state.floatbank6_a_air       0\n",
       "secondary_cleaner.state.floatbank6_a_level     0\n",
       "dtype: int64"
      ]
     },
     "execution_count": 8,
     "metadata": {},
     "output_type": "execute_result"
    }
   ],
   "source": [
    "test_df.isna().sum()"
   ]
  },
  {
   "cell_type": "markdown",
   "metadata": {},
   "source": [
    "### Проверим долю обогащения золота"
   ]
  },
  {
   "cell_type": "code",
   "execution_count": 9,
   "metadata": {
    "scrolled": true
   },
   "outputs": [],
   "source": [
    "recovery = (train_df['rougher.output.concentrate_au'] * (train_df['rougher.input.feed_au'] - train_df['rougher.output.tail_au'])) / (train_df['rougher.input.feed_au'] * (train_df['rougher.output.concentrate_au'] - train_df['rougher.output.tail_au'])) * 100"
   ]
  },
  {
   "cell_type": "code",
   "execution_count": 10,
   "metadata": {},
   "outputs": [
    {
     "name": "stdout",
     "output_type": "stream",
     "text": [
      "MAE 0.0\n"
     ]
    }
   ],
   "source": [
    "mae_recovery = mean_absolute_error(train_df['rougher.output.recovery'], recovery)\n",
    "print('MAE', mae_recovery.round(2))"
   ]
  },
  {
   "cell_type": "code",
   "execution_count": 11,
   "metadata": {
    "scrolled": true
   },
   "outputs": [
    {
     "data": {
      "text/plain": [
       "date                                                     0\n",
       "final.output.concentrate_ag                              1\n",
       "final.output.concentrate_pb                              1\n",
       "final.output.concentrate_sol                           211\n",
       "final.output.concentrate_au                              0\n",
       "final.output.recovery                                    0\n",
       "final.output.tail_ag                                     1\n",
       "final.output.tail_pb                                   101\n",
       "final.output.tail_sol                                    6\n",
       "final.output.tail_au                                     0\n",
       "primary_cleaner.input.sulfate                           24\n",
       "primary_cleaner.input.depressant                        37\n",
       "primary_cleaner.input.feed_size                          0\n",
       "primary_cleaner.input.xanthate                         104\n",
       "primary_cleaner.output.concentrate_ag                    0\n",
       "primary_cleaner.output.concentrate_pb                  116\n",
       "primary_cleaner.output.concentrate_sol                 370\n",
       "primary_cleaner.output.concentrate_au                    0\n",
       "primary_cleaner.output.tail_ag                           4\n",
       "primary_cleaner.output.tail_pb                          21\n",
       "primary_cleaner.output.tail_sol                         62\n",
       "primary_cleaner.output.tail_au                           0\n",
       "primary_cleaner.state.floatbank8_a_air                   4\n",
       "primary_cleaner.state.floatbank8_a_level                 1\n",
       "primary_cleaner.state.floatbank8_b_air                   4\n",
       "primary_cleaner.state.floatbank8_b_level                 1\n",
       "primary_cleaner.state.floatbank8_c_air                   2\n",
       "primary_cleaner.state.floatbank8_c_level                 1\n",
       "primary_cleaner.state.floatbank8_d_air                   3\n",
       "primary_cleaner.state.floatbank8_d_level                 1\n",
       "rougher.calculation.sulfate_to_au_concentrate            2\n",
       "rougher.calculation.floatbank10_sulfate_to_au_feed       2\n",
       "rougher.calculation.floatbank11_sulfate_to_au_feed       2\n",
       "rougher.calculation.au_pb_ratio                          0\n",
       "rougher.input.feed_ag                                    0\n",
       "rougher.input.feed_pb                                  100\n",
       "rougher.input.feed_rate                                 11\n",
       "rougher.input.feed_size                                145\n",
       "rougher.input.feed_sol                                  99\n",
       "rougher.input.feed_au                                    0\n",
       "rougher.input.floatbank10_sulfate                       34\n",
       "rougher.input.floatbank10_xanthate                       8\n",
       "rougher.input.floatbank11_sulfate                       44\n",
       "rougher.input.floatbank11_xanthate                     453\n",
       "rougher.output.concentrate_ag                            0\n",
       "rougher.output.concentrate_pb                            0\n",
       "rougher.output.concentrate_sol                          23\n",
       "rougher.output.concentrate_au                            0\n",
       "rougher.output.recovery                                  0\n",
       "rougher.output.tail_ag                                   1\n",
       "rougher.output.tail_pb                                   0\n",
       "rougher.output.tail_sol                                  0\n",
       "rougher.output.tail_au                                   0\n",
       "rougher.state.floatbank10_a_air                          1\n",
       "rougher.state.floatbank10_a_level                        1\n",
       "rougher.state.floatbank10_b_air                          1\n",
       "rougher.state.floatbank10_b_level                        1\n",
       "rougher.state.floatbank10_c_air                          1\n",
       "rougher.state.floatbank10_c_level                        1\n",
       "rougher.state.floatbank10_d_air                          0\n",
       "rougher.state.floatbank10_d_level                        0\n",
       "rougher.state.floatbank10_e_air                        436\n",
       "rougher.state.floatbank10_e_level                        0\n",
       "rougher.state.floatbank10_f_air                          0\n",
       "rougher.state.floatbank10_f_level                        0\n",
       "secondary_cleaner.output.tail_ag                         2\n",
       "secondary_cleaner.output.tail_pb                        12\n",
       "secondary_cleaner.output.tail_sol                     1748\n",
       "secondary_cleaner.output.tail_au                         0\n",
       "secondary_cleaner.state.floatbank2_a_air               220\n",
       "secondary_cleaner.state.floatbank2_a_level               1\n",
       "secondary_cleaner.state.floatbank2_b_air                23\n",
       "secondary_cleaner.state.floatbank2_b_level               1\n",
       "secondary_cleaner.state.floatbank3_a_air                13\n",
       "secondary_cleaner.state.floatbank3_a_level               1\n",
       "secondary_cleaner.state.floatbank3_b_air                 1\n",
       "secondary_cleaner.state.floatbank3_b_level               1\n",
       "secondary_cleaner.state.floatbank4_a_air                 6\n",
       "secondary_cleaner.state.floatbank4_a_level               1\n",
       "secondary_cleaner.state.floatbank4_b_air                 1\n",
       "secondary_cleaner.state.floatbank4_b_level               1\n",
       "secondary_cleaner.state.floatbank5_a_air                 1\n",
       "secondary_cleaner.state.floatbank5_a_level               1\n",
       "secondary_cleaner.state.floatbank5_b_air                 1\n",
       "secondary_cleaner.state.floatbank5_b_level               1\n",
       "secondary_cleaner.state.floatbank6_a_air                 2\n",
       "secondary_cleaner.state.floatbank6_a_level               1\n",
       "dtype: int64"
      ]
     },
     "execution_count": 11,
     "metadata": {},
     "output_type": "execute_result"
    }
   ],
   "source": [
    "full_df.isna().sum()"
   ]
  },
  {
   "cell_type": "markdown",
   "metadata": {},
   "source": [
    "**Вывод:** как показывает вычесление MAE, значения в rougher.output.recovery верны"
   ]
  },
  {
   "cell_type": "markdown",
   "metadata": {},
   "source": [
    "### Анализ недостающих признаков в тестовой выборке"
   ]
  },
  {
   "cell_type": "markdown",
   "metadata": {},
   "source": [
    "Мы видим что в тестовой выборке отсутвуют признаки финальных характеристик такие как выходные и расчетные характеристики"
   ]
  },
  {
   "cell_type": "markdown",
   "metadata": {},
   "source": [
    "### Предобработка данных"
   ]
  },
  {
   "cell_type": "code",
   "execution_count": 12,
   "metadata": {
    "scrolled": true
   },
   "outputs": [
    {
     "data": {
      "text/plain": [
       "date                                                     0\n",
       "final.output.concentrate_ag                              1\n",
       "final.output.concentrate_pb                              1\n",
       "final.output.concentrate_sol                           211\n",
       "final.output.concentrate_au                              0\n",
       "final.output.recovery                                    0\n",
       "final.output.tail_ag                                     0\n",
       "final.output.tail_pb                                   100\n",
       "final.output.tail_sol                                    5\n",
       "final.output.tail_au                                     0\n",
       "primary_cleaner.input.sulfate                           20\n",
       "primary_cleaner.input.depressant                        32\n",
       "primary_cleaner.input.feed_size                          0\n",
       "primary_cleaner.input.xanthate                         100\n",
       "primary_cleaner.output.concentrate_ag                    0\n",
       "primary_cleaner.output.concentrate_pb                   86\n",
       "primary_cleaner.output.concentrate_sol                 286\n",
       "primary_cleaner.output.concentrate_au                    0\n",
       "primary_cleaner.output.tail_ag                           1\n",
       "primary_cleaner.output.tail_pb                          15\n",
       "primary_cleaner.output.tail_sol                         46\n",
       "primary_cleaner.output.tail_au                           0\n",
       "primary_cleaner.state.floatbank8_a_air                   4\n",
       "primary_cleaner.state.floatbank8_a_level                 1\n",
       "primary_cleaner.state.floatbank8_b_air                   4\n",
       "primary_cleaner.state.floatbank8_b_level                 1\n",
       "primary_cleaner.state.floatbank8_c_air                   2\n",
       "primary_cleaner.state.floatbank8_c_level                 1\n",
       "primary_cleaner.state.floatbank8_d_air                   3\n",
       "primary_cleaner.state.floatbank8_d_level                 1\n",
       "rougher.calculation.sulfate_to_au_concentrate            1\n",
       "rougher.calculation.floatbank10_sulfate_to_au_feed       1\n",
       "rougher.calculation.floatbank11_sulfate_to_au_feed       1\n",
       "rougher.calculation.au_pb_ratio                          0\n",
       "rougher.input.feed_ag                                    0\n",
       "rougher.input.feed_pb                                  100\n",
       "rougher.input.feed_rate                                  8\n",
       "rougher.input.feed_size                                144\n",
       "rougher.input.feed_sol                                  78\n",
       "rougher.input.feed_au                                    0\n",
       "rougher.input.floatbank10_sulfate                       29\n",
       "rougher.input.floatbank10_xanthate                       8\n",
       "rougher.input.floatbank11_sulfate                       36\n",
       "rougher.input.floatbank11_xanthate                     428\n",
       "rougher.output.concentrate_ag                            0\n",
       "rougher.output.concentrate_pb                            0\n",
       "rougher.output.concentrate_sol                          22\n",
       "rougher.output.concentrate_au                            0\n",
       "rougher.output.recovery                                  0\n",
       "rougher.output.tail_ag                                   1\n",
       "rougher.output.tail_pb                                   0\n",
       "rougher.output.tail_sol                                  0\n",
       "rougher.output.tail_au                                   0\n",
       "rougher.state.floatbank10_a_air                          1\n",
       "rougher.state.floatbank10_a_level                        1\n",
       "rougher.state.floatbank10_b_air                          1\n",
       "rougher.state.floatbank10_b_level                        1\n",
       "rougher.state.floatbank10_c_air                          1\n",
       "rougher.state.floatbank10_c_level                        1\n",
       "rougher.state.floatbank10_d_air                          0\n",
       "rougher.state.floatbank10_d_level                        0\n",
       "rougher.state.floatbank10_e_air                        436\n",
       "rougher.state.floatbank10_e_level                        0\n",
       "rougher.state.floatbank10_f_air                          0\n",
       "rougher.state.floatbank10_f_level                        0\n",
       "secondary_cleaner.output.tail_ag                         2\n",
       "secondary_cleaner.output.tail_pb                        10\n",
       "secondary_cleaner.output.tail_sol                     1605\n",
       "secondary_cleaner.output.tail_au                         0\n",
       "secondary_cleaner.state.floatbank2_a_air               217\n",
       "secondary_cleaner.state.floatbank2_a_level               1\n",
       "secondary_cleaner.state.floatbank2_b_air                21\n",
       "secondary_cleaner.state.floatbank2_b_level               1\n",
       "secondary_cleaner.state.floatbank3_a_air                 4\n",
       "secondary_cleaner.state.floatbank3_a_level               1\n",
       "secondary_cleaner.state.floatbank3_b_air                 1\n",
       "secondary_cleaner.state.floatbank3_b_level               1\n",
       "secondary_cleaner.state.floatbank4_a_air                 6\n",
       "secondary_cleaner.state.floatbank4_a_level               1\n",
       "secondary_cleaner.state.floatbank4_b_air                 1\n",
       "secondary_cleaner.state.floatbank4_b_level               1\n",
       "secondary_cleaner.state.floatbank5_a_air                 1\n",
       "secondary_cleaner.state.floatbank5_a_level               1\n",
       "secondary_cleaner.state.floatbank5_b_air                 1\n",
       "secondary_cleaner.state.floatbank5_b_level               1\n",
       "secondary_cleaner.state.floatbank6_a_air                 2\n",
       "secondary_cleaner.state.floatbank6_a_level               1\n",
       "dtype: int64"
      ]
     },
     "execution_count": 12,
     "metadata": {},
     "output_type": "execute_result"
    }
   ],
   "source": [
    "train_df.isna().sum()"
   ]
  },
  {
   "cell_type": "code",
   "execution_count": 13,
   "metadata": {
    "scrolled": true
   },
   "outputs": [
    {
     "data": {
      "text/plain": [
       "date                                           0\n",
       "primary_cleaner.input.sulfate                  4\n",
       "primary_cleaner.input.depressant               5\n",
       "primary_cleaner.input.feed_size                0\n",
       "primary_cleaner.input.xanthate                 4\n",
       "primary_cleaner.state.floatbank8_a_air         0\n",
       "primary_cleaner.state.floatbank8_a_level       0\n",
       "primary_cleaner.state.floatbank8_b_air         0\n",
       "primary_cleaner.state.floatbank8_b_level       0\n",
       "primary_cleaner.state.floatbank8_c_air         0\n",
       "primary_cleaner.state.floatbank8_c_level       0\n",
       "primary_cleaner.state.floatbank8_d_air         0\n",
       "primary_cleaner.state.floatbank8_d_level       0\n",
       "rougher.input.feed_ag                          0\n",
       "rougher.input.feed_pb                          0\n",
       "rougher.input.feed_rate                        3\n",
       "rougher.input.feed_size                        1\n",
       "rougher.input.feed_sol                        21\n",
       "rougher.input.feed_au                          0\n",
       "rougher.input.floatbank10_sulfate              5\n",
       "rougher.input.floatbank10_xanthate             0\n",
       "rougher.input.floatbank11_sulfate              8\n",
       "rougher.input.floatbank11_xanthate            25\n",
       "rougher.state.floatbank10_a_air                0\n",
       "rougher.state.floatbank10_a_level              0\n",
       "rougher.state.floatbank10_b_air                0\n",
       "rougher.state.floatbank10_b_level              0\n",
       "rougher.state.floatbank10_c_air                0\n",
       "rougher.state.floatbank10_c_level              0\n",
       "rougher.state.floatbank10_d_air                0\n",
       "rougher.state.floatbank10_d_level              0\n",
       "rougher.state.floatbank10_e_air                0\n",
       "rougher.state.floatbank10_e_level              0\n",
       "rougher.state.floatbank10_f_air                0\n",
       "rougher.state.floatbank10_f_level              0\n",
       "secondary_cleaner.state.floatbank2_a_air       3\n",
       "secondary_cleaner.state.floatbank2_a_level     0\n",
       "secondary_cleaner.state.floatbank2_b_air       2\n",
       "secondary_cleaner.state.floatbank2_b_level     0\n",
       "secondary_cleaner.state.floatbank3_a_air       9\n",
       "secondary_cleaner.state.floatbank3_a_level     0\n",
       "secondary_cleaner.state.floatbank3_b_air       0\n",
       "secondary_cleaner.state.floatbank3_b_level     0\n",
       "secondary_cleaner.state.floatbank4_a_air       0\n",
       "secondary_cleaner.state.floatbank4_a_level     0\n",
       "secondary_cleaner.state.floatbank4_b_air       0\n",
       "secondary_cleaner.state.floatbank4_b_level     0\n",
       "secondary_cleaner.state.floatbank5_a_air       0\n",
       "secondary_cleaner.state.floatbank5_a_level     0\n",
       "secondary_cleaner.state.floatbank5_b_air       0\n",
       "secondary_cleaner.state.floatbank5_b_level     0\n",
       "secondary_cleaner.state.floatbank6_a_air       0\n",
       "secondary_cleaner.state.floatbank6_a_level     0\n",
       "dtype: int64"
      ]
     },
     "execution_count": 13,
     "metadata": {},
     "output_type": "execute_result"
    }
   ],
   "source": [
    "test_df.isna().sum()"
   ]
  },
  {
   "cell_type": "code",
   "execution_count": 14,
   "metadata": {
    "scrolled": true
   },
   "outputs": [
    {
     "data": {
      "text/plain": [
       "date                                                     0\n",
       "final.output.concentrate_ag                              1\n",
       "final.output.concentrate_pb                              1\n",
       "final.output.concentrate_sol                           211\n",
       "final.output.concentrate_au                              0\n",
       "final.output.recovery                                    0\n",
       "final.output.tail_ag                                     1\n",
       "final.output.tail_pb                                   101\n",
       "final.output.tail_sol                                    6\n",
       "final.output.tail_au                                     0\n",
       "primary_cleaner.input.sulfate                           24\n",
       "primary_cleaner.input.depressant                        37\n",
       "primary_cleaner.input.feed_size                          0\n",
       "primary_cleaner.input.xanthate                         104\n",
       "primary_cleaner.output.concentrate_ag                    0\n",
       "primary_cleaner.output.concentrate_pb                  116\n",
       "primary_cleaner.output.concentrate_sol                 370\n",
       "primary_cleaner.output.concentrate_au                    0\n",
       "primary_cleaner.output.tail_ag                           4\n",
       "primary_cleaner.output.tail_pb                          21\n",
       "primary_cleaner.output.tail_sol                         62\n",
       "primary_cleaner.output.tail_au                           0\n",
       "primary_cleaner.state.floatbank8_a_air                   4\n",
       "primary_cleaner.state.floatbank8_a_level                 1\n",
       "primary_cleaner.state.floatbank8_b_air                   4\n",
       "primary_cleaner.state.floatbank8_b_level                 1\n",
       "primary_cleaner.state.floatbank8_c_air                   2\n",
       "primary_cleaner.state.floatbank8_c_level                 1\n",
       "primary_cleaner.state.floatbank8_d_air                   3\n",
       "primary_cleaner.state.floatbank8_d_level                 1\n",
       "rougher.calculation.sulfate_to_au_concentrate            2\n",
       "rougher.calculation.floatbank10_sulfate_to_au_feed       2\n",
       "rougher.calculation.floatbank11_sulfate_to_au_feed       2\n",
       "rougher.calculation.au_pb_ratio                          0\n",
       "rougher.input.feed_ag                                    0\n",
       "rougher.input.feed_pb                                  100\n",
       "rougher.input.feed_rate                                 11\n",
       "rougher.input.feed_size                                145\n",
       "rougher.input.feed_sol                                  99\n",
       "rougher.input.feed_au                                    0\n",
       "rougher.input.floatbank10_sulfate                       34\n",
       "rougher.input.floatbank10_xanthate                       8\n",
       "rougher.input.floatbank11_sulfate                       44\n",
       "rougher.input.floatbank11_xanthate                     453\n",
       "rougher.output.concentrate_ag                            0\n",
       "rougher.output.concentrate_pb                            0\n",
       "rougher.output.concentrate_sol                          23\n",
       "rougher.output.concentrate_au                            0\n",
       "rougher.output.recovery                                  0\n",
       "rougher.output.tail_ag                                   1\n",
       "rougher.output.tail_pb                                   0\n",
       "rougher.output.tail_sol                                  0\n",
       "rougher.output.tail_au                                   0\n",
       "rougher.state.floatbank10_a_air                          1\n",
       "rougher.state.floatbank10_a_level                        1\n",
       "rougher.state.floatbank10_b_air                          1\n",
       "rougher.state.floatbank10_b_level                        1\n",
       "rougher.state.floatbank10_c_air                          1\n",
       "rougher.state.floatbank10_c_level                        1\n",
       "rougher.state.floatbank10_d_air                          0\n",
       "rougher.state.floatbank10_d_level                        0\n",
       "rougher.state.floatbank10_e_air                        436\n",
       "rougher.state.floatbank10_e_level                        0\n",
       "rougher.state.floatbank10_f_air                          0\n",
       "rougher.state.floatbank10_f_level                        0\n",
       "secondary_cleaner.output.tail_ag                         2\n",
       "secondary_cleaner.output.tail_pb                        12\n",
       "secondary_cleaner.output.tail_sol                     1748\n",
       "secondary_cleaner.output.tail_au                         0\n",
       "secondary_cleaner.state.floatbank2_a_air               220\n",
       "secondary_cleaner.state.floatbank2_a_level               1\n",
       "secondary_cleaner.state.floatbank2_b_air                23\n",
       "secondary_cleaner.state.floatbank2_b_level               1\n",
       "secondary_cleaner.state.floatbank3_a_air                13\n",
       "secondary_cleaner.state.floatbank3_a_level               1\n",
       "secondary_cleaner.state.floatbank3_b_air                 1\n",
       "secondary_cleaner.state.floatbank3_b_level               1\n",
       "secondary_cleaner.state.floatbank4_a_air                 6\n",
       "secondary_cleaner.state.floatbank4_a_level               1\n",
       "secondary_cleaner.state.floatbank4_b_air                 1\n",
       "secondary_cleaner.state.floatbank4_b_level               1\n",
       "secondary_cleaner.state.floatbank5_a_air                 1\n",
       "secondary_cleaner.state.floatbank5_a_level               1\n",
       "secondary_cleaner.state.floatbank5_b_air                 1\n",
       "secondary_cleaner.state.floatbank5_b_level               1\n",
       "secondary_cleaner.state.floatbank6_a_air                 2\n",
       "secondary_cleaner.state.floatbank6_a_level               1\n",
       "dtype: int64"
      ]
     },
     "execution_count": 14,
     "metadata": {},
     "output_type": "execute_result"
    }
   ],
   "source": [
    "full_df.isna().sum()"
   ]
  },
  {
   "cell_type": "code",
   "execution_count": 15,
   "metadata": {},
   "outputs": [],
   "source": [
    "train_df = train_df.ffill()"
   ]
  },
  {
   "cell_type": "code",
   "execution_count": 16,
   "metadata": {},
   "outputs": [],
   "source": [
    "test_df = test_df.ffill()"
   ]
  },
  {
   "cell_type": "code",
   "execution_count": 17,
   "metadata": {},
   "outputs": [],
   "source": [
    "full_df = full_df.ffill()"
   ]
  },
  {
   "cell_type": "code",
   "execution_count": 18,
   "metadata": {},
   "outputs": [
    {
     "data": {
      "text/plain": [
       "0"
      ]
     },
     "execution_count": 18,
     "metadata": {},
     "output_type": "execute_result"
    }
   ],
   "source": [
    "train_df.duplicated().sum()"
   ]
  },
  {
   "cell_type": "code",
   "execution_count": 19,
   "metadata": {},
   "outputs": [
    {
     "data": {
      "text/plain": [
       "0"
      ]
     },
     "execution_count": 19,
     "metadata": {},
     "output_type": "execute_result"
    }
   ],
   "source": [
    "test_df.duplicated().sum()"
   ]
  },
  {
   "cell_type": "code",
   "execution_count": 20,
   "metadata": {},
   "outputs": [
    {
     "data": {
      "text/plain": [
       "0"
      ]
     },
     "execution_count": 20,
     "metadata": {},
     "output_type": "execute_result"
    }
   ],
   "source": [
    "full_df.duplicated().sum()"
   ]
  },
  {
   "cell_type": "markdown",
   "metadata": {},
   "source": [
    "**Вывод:** данных не мало, пропусков было не так уж и много и все успешно были закрыте, без потери данных"
   ]
  },
  {
   "cell_type": "markdown",
   "metadata": {},
   "source": [
    "## Анализ данных"
   ]
  },
  {
   "cell_type": "markdown",
   "metadata": {},
   "source": [
    "### Посмотрим, как меняется концентрация металлов (Au, Ag, Pb) на различных этапах очистки. Опишите выводы."
   ]
  },
  {
   "cell_type": "code",
   "execution_count": 21,
   "metadata": {},
   "outputs": [],
   "source": [
    "zero_point = []\n",
    "for i in full_df.index:\n",
    "    if (full_df.loc[i,'rougher.input.feed_au'] == 0.0 or\n",
    "       full_df.loc[i,'rougher.output.concentrate_au'] == 0.0 or\n",
    "       full_df.loc[i,'primary_cleaner.output.concentrate_au'] == 0.0 or\n",
    "       full_df.loc[i,'final.output.concentrate_au'] == 0.0 or\n",
    "        \n",
    "       full_df.loc[i,'rougher.input.feed_ag'] == 0.0 or\n",
    "       full_df.loc[i,'rougher.output.concentrate_ag'] == 0.0 or\n",
    "       full_df.loc[i,'primary_cleaner.output.concentrate_ag'] == 0.0 or\n",
    "       full_df.loc[i,'final.output.concentrate_ag'] == 0.0 or\n",
    "       \n",
    "       full_df.loc[i,'rougher.input.feed_pb'] == 0.0 or\n",
    "       full_df.loc[i,'rougher.output.concentrate_pb'] == 0.0 or\n",
    "       full_df.loc[i,'primary_cleaner.output.concentrate_pb'] == 0.0 or\n",
    "       full_df.loc[i,'final.output.concentrate_au'] == 0.0):\n",
    "    \n",
    "        zero_point.append(full_df.loc[i,'date'])"
   ]
  },
  {
   "cell_type": "code",
   "execution_count": 22,
   "metadata": {},
   "outputs": [],
   "source": [
    "train_df.drop(train_df[train_df['date'].isin(zero_point)].index, inplace=True)\n",
    "test_df.drop(test_df[test_df['date'].isin(zero_point)].index, inplace=True)\n",
    "full_df.drop(full_df[full_df['date'].isin(zero_point)].index, inplace=True)"
   ]
  },
  {
   "cell_type": "code",
   "execution_count": 23,
   "metadata": {},
   "outputs": [
    {
     "data": {
      "image/png": "[encoded data removed]",
      "text/plain": [
       "<Figure size 1080x576 with 1 Axes>"
      ]
     },
     "metadata": {
      "needs_background": "light"
     },
     "output_type": "display_data"
    }
   ],
   "source": [
    "hist_au = full_df[['rougher.input.feed_au','rougher.output.concentrate_au', 'primary_cleaner.output.concentrate_au', 'final.output.concentrate_au']]\n",
    "plt.figure(figsize=(15,8))\n",
    "ax = sns.histplot(data=hist_au, binrange=(4,55)).set(title='Изменения концентрации золота');\n"
   ]
  },
  {
   "cell_type": "code",
   "execution_count": 24,
   "metadata": {},
   "outputs": [
    {
     "data": {
      "image/png": "[encoded data removed]",
      "text/plain": [
       "<Figure size 1080x576 with 1 Axes>"
      ]
     },
     "metadata": {
      "needs_background": "light"
     },
     "output_type": "display_data"
    }
   ],
   "source": [
    "hist_ag = full_df[['rougher.input.feed_ag','rougher.output.concentrate_ag', 'primary_cleaner.output.concentrate_ag', 'final.output.concentrate_ag']]\n",
    "plt.figure(figsize=(15,8))\n",
    "ax = sns.histplot(data=hist_ag, binrange=(2,20)).set(title='Изменения концентрации серебра');"
   ]
  },
  {
   "cell_type": "code",
   "execution_count": 25,
   "metadata": {},
   "outputs": [
    {
     "data": {
      "image/png": "[encoded data removed]",
      "text/plain": [
       "<Figure size 1080x576 with 1 Axes>"
      ]
     },
     "metadata": {
      "needs_background": "light"
     },
     "output_type": "display_data"
    }
   ],
   "source": [
    "hist_pb = full_df[['rougher.input.feed_pb','rougher.output.concentrate_pb', 'primary_cleaner.output.concentrate_pb', 'final.output.concentrate_pb']]\n",
    "plt.figure(figsize=(15,8))\n",
    "ax = sns.histplot(data=hist_pb, binrange=(1,16)).set(title='Изменения концентрации свинец');"
   ]
  },
  {
   "cell_type": "markdown",
   "metadata": {},
   "source": [
    "### Сравним распределения размеров гранул сырья на обучающей и тестовой выборках."
   ]
  },
  {
   "cell_type": "code",
   "execution_count": 26,
   "metadata": {},
   "outputs": [
    {
     "data": {
      "image/png": "[encoded data removed]",
      "text/plain": [
       "<Figure size 720x360 with 1 Axes>"
      ]
     },
     "metadata": {
      "needs_background": "light"
     },
     "output_type": "display_data"
    },
    {
     "data": {
      "image/png": "[encoded data removed]",
      "text/plain": [
       "<Figure size 720x360 with 1 Axes>"
      ]
     },
     "metadata": {
      "needs_background": "light"
     },
     "output_type": "display_data"
    }
   ],
   "source": [
    "plt.figure(figsize=(10,5))\n",
    "ax = sns.distplot(a=test_df['rougher.input.feed_size']).set(title='Размер гранул сырья до флотации в тестовой выборке')\n",
    "\n",
    "plt.figure(figsize=(10,5))\n",
    "ax = sns.distplot(a=train_df['rougher.input.feed_size']).set(title='Размер гранул сырья до флотации в тренировочной выборке');"
   ]
  },
  {
   "cell_type": "code",
   "execution_count": 27,
   "metadata": {},
   "outputs": [
    {
     "data": {
      "image/png": "[encoded data removed]",
      "text/plain": [
       "<Figure size 720x360 with 1 Axes>"
      ]
     },
     "metadata": {
      "needs_background": "light"
     },
     "output_type": "display_data"
    },
    {
     "data": {
      "image/png": "[encoded data removed]",
      "text/plain": [
       "<Figure size 720x360 with 1 Axes>"
      ]
     },
     "metadata": {
      "needs_background": "light"
     },
     "output_type": "display_data"
    }
   ],
   "source": [
    "plt.figure(figsize=(10,5))\n",
    "ax = sns.distplot(a=test_df['primary_cleaner.input.feed_size']).set(title='Размер гранул сырья первичной обработки на тестовой выборке');\n",
    "\n",
    "plt.figure(figsize=(10,5))\n",
    "ax = sns.distplot(a=train_df['primary_cleaner.input.feed_size']).set(title='Размер гранул сырья первичной обработки на тренировочной выборке');"
   ]
  },
  {
   "cell_type": "markdown",
   "metadata": {},
   "source": [
    "**Вывод:** данные практически идентичный на обеих выборках"
   ]
  },
  {
   "cell_type": "markdown",
   "metadata": {},
   "source": [
    "### Исследуем суммарную концентрацию всех веществ на разных стадиях: в сырье, в черновом и финальном концентратах."
   ]
  },
  {
   "cell_type": "code",
   "execution_count": 28,
   "metadata": {},
   "outputs": [],
   "source": [
    "sum_r = full_df['rougher.output.concentrate_au'] + full_df['rougher.output.concentrate_ag'] + full_df['rougher.output.concentrate_pb'] + full_df['rougher.output.concentrate_sol']"
   ]
  },
  {
   "cell_type": "code",
   "execution_count": 29,
   "metadata": {},
   "outputs": [],
   "source": [
    "sum_r_i = full_df['rougher.input.feed_pb'] + full_df['rougher.input.feed_au'] + full_df['rougher.input.feed_ag'] + full_df['rougher.input.feed_sol']"
   ]
  },
  {
   "cell_type": "code",
   "execution_count": 30,
   "metadata": {},
   "outputs": [],
   "source": [
    "sum_f = full_df['final.output.concentrate_au'] + full_df['final.output.concentrate_ag'] + full_df['final.output.concentrate_pb'] + full_df['final.output.concentrate_sol']"
   ]
  },
  {
   "cell_type": "code",
   "execution_count": 31,
   "metadata": {
    "scrolled": true
   },
   "outputs": [
    {
     "data": {
      "image/png": "[encoded data removed]",
      "text/plain": [
       "<Figure size 1080x360 with 1 Axes>"
      ]
     },
     "metadata": {
      "needs_background": "light"
     },
     "output_type": "display_data"
    }
   ],
   "source": [
    "plt.figure(figsize=(15,5))\n",
    "ax = sns.histplot(data=sum_r_i, binrange=(40,80)).set(title='Суммарная концентрация веществ на этапе сырья')"
   ]
  },
  {
   "cell_type": "code",
   "execution_count": 32,
   "metadata": {},
   "outputs": [
    {
     "data": {
      "image/png": "[encoded data removed]",
      "text/plain": [
       "<Figure size 1080x360 with 1 Axes>"
      ]
     },
     "metadata": {
      "needs_background": "light"
     },
     "output_type": "display_data"
    }
   ],
   "source": [
    "plt.figure(figsize=(15,5))\n",
    "ax = sns.histplot(data=sum_r, binrange=(55,85)).set(title='Суммарная концентрация веществ на черновом этапе')"
   ]
  },
  {
   "cell_type": "code",
   "execution_count": 33,
   "metadata": {
    "scrolled": true
   },
   "outputs": [
    {
     "data": {
      "image/png": "[encoded data removed]",
      "text/plain": [
       "<Figure size 1080x360 with 1 Axes>"
      ]
     },
     "metadata": {
      "needs_background": "light"
     },
     "output_type": "display_data"
    }
   ],
   "source": [
    "plt.figure(figsize=(15,5))\n",
    "ax = sns.histplot(data=sum_f, binrange=(60,80)).set(title='Суммарная концентрация веществ на финальных этапах')"
   ]
  },
  {
   "cell_type": "markdown",
   "metadata": {},
   "source": [
    "**Вывод:** концентрация на черногом и финальном этапе схожа между собой, на этапе сырья пиковые значения чуть ниже"
   ]
  },
  {
   "cell_type": "markdown",
   "metadata": {},
   "source": [
    "## Модель"
   ]
  },
  {
   "cell_type": "markdown",
   "metadata": {},
   "source": [
    "### Расчет модели на тренировочных данных"
   ]
  },
  {
   "cell_type": "code",
   "execution_count": 34,
   "metadata": {
    "scrolled": true
   },
   "outputs": [],
   "source": [
    "difference_features = list(set(train_df.columns) - set(test_df.columns)); "
   ]
  },
  {
   "cell_type": "code",
   "execution_count": 35,
   "metadata": {},
   "outputs": [],
   "source": [
    "train_df = train_df.drop(['date'], axis=1)"
   ]
  },
  {
   "cell_type": "code",
   "execution_count": 36,
   "metadata": {},
   "outputs": [
    {
     "name": "stdout",
     "output_type": "stream",
     "text": [
      "[81.14271243 79.73461592 79.53447222 ... 92.0730469  91.49068281\n",
      " 89.64869691]\n"
     ]
    }
   ],
   "source": [
    "target_r = train_df['rougher.output.recovery']\n",
    "target_f = train_df['final.output.recovery']\n",
    "features = train_df.drop(difference_features, axis=1)\n",
    "\n",
    "\n",
    "model_r = LinearRegression()\n",
    "model_r.fit(features, target_r)\n",
    "pred_r = model_r.predict(features)\n",
    "print(pred_r)"
   ]
  },
  {
   "cell_type": "code",
   "execution_count": 37,
   "metadata": {},
   "outputs": [
    {
     "name": "stdout",
     "output_type": "stream",
     "text": [
      "[66.11638089 64.27430472 64.38896664 ... 72.10393817 71.49933862\n",
      " 70.00023481]\n"
     ]
    }
   ],
   "source": [
    "model_f = LinearRegression()\n",
    "model_f.fit(features, target_f)\n",
    "pred_f = model_f.predict(features)\n",
    "print(pred_f)"
   ]
  },
  {
   "cell_type": "code",
   "execution_count": 44,
   "metadata": {},
   "outputs": [
    {
     "name": "stdout",
     "output_type": "stream",
     "text": [
      "[81.06034971 81.06034971 81.06034971 ... 91.78139864 91.40266907\n",
      " 91.78139864]\n"
     ]
    }
   ],
   "source": [
    "estimator = RandomForestRegressor()\n",
    "parameters = {\n",
    "        'max_depth': [5, 10],\n",
    "        'n_estimators': [50, 100]}\n",
    "\n",
    "rnd_r = GridSearchCV(estimator=estimator,\n",
    "                              param_grid=parameters,\n",
    "                              cv=5,\n",
    "                              n_jobs=-1)\n",
    "rnd_r.fit(features, target_r)\n",
    "\n",
    "rnd_r_best = RandomForestRegressor(random_state=8,\n",
    "                   **rnd_r.best_params_).fit(features, target_r)\n",
    "\n",
    "pred_rnd_r = rnd_r_best.predict(features)\n",
    "print(pred_rnd_r)"
   ]
  },
  {
   "cell_type": "code",
   "execution_count": 45,
   "metadata": {},
   "outputs": [
    {
     "name": "stdout",
     "output_type": "stream",
     "text": [
      "[63.54756978 63.54756978 63.54756978 ... 69.21434912 69.13580587\n",
      " 68.40988666]\n"
     ]
    }
   ],
   "source": [
    "estimator = RandomForestRegressor()\n",
    "parameters = {\n",
    "        'max_depth': [5, 10],\n",
    "        'n_estimators': [50, 100]}\n",
    "\n",
    "rnd_f = GridSearchCV(estimator=estimator,\n",
    "                              param_grid=parameters,\n",
    "                              cv=5,\n",
    "                              n_jobs=-1)\n",
    "rnd_f.fit(features, target_f)\n",
    "\n",
    "rnd_f_best = RandomForestRegressor(random_state=8,\n",
    "                   **rnd_f.best_params_).fit(features, target_f)\n",
    "\n",
    "pred_rnd_f = rnd_f_best.predict(features)\n",
    "print(pred_rnd_f)"
   ]
  },
  {
   "cell_type": "code",
   "execution_count": 46,
   "metadata": {},
   "outputs": [
    {
     "name": "stdout",
     "output_type": "stream",
     "text": [
      "[66.81371842 66.81371842 66.81371842 ... 66.81371842 66.81371842\n",
      " 66.81371842]\n"
     ]
    }
   ],
   "source": [
    "dum_f = DummyRegressor()\n",
    "dum_f.fit(features, target_f)\n",
    "pred_dum_f = dum_f.predict(features)\n",
    "print(pred_dum_f)"
   ]
  },
  {
   "cell_type": "code",
   "execution_count": 47,
   "metadata": {},
   "outputs": [
    {
     "name": "stdout",
     "output_type": "stream",
     "text": [
      "[84.51018363 84.51018363 84.51018363 ... 84.51018363 84.51018363\n",
      " 84.51018363]\n"
     ]
    }
   ],
   "source": [
    "dum_r = DummyRegressor()\n",
    "dum_r.fit(features, target_r)\n",
    "pred_dum_r = dum_r.predict(features)\n",
    "print(pred_dum_r)"
   ]
  },
  {
   "cell_type": "markdown",
   "metadata": {},
   "source": [
    "### Расчет на тестовых данных"
   ]
  },
  {
   "cell_type": "code",
   "execution_count": 61,
   "metadata": {},
   "outputs": [],
   "source": [
    "def smape(target, pred):\n",
    "    smape = 1/(len(target)) * sum(abs(target - pred)\\\n",
    "                                 / ((abs(target) + abs(pred)) / 2)) * 100\n",
    "    return smape"
   ]
  },
  {
   "cell_type": "code",
   "execution_count": 62,
   "metadata": {},
   "outputs": [],
   "source": [
    "def final_smape(rougher, final):\n",
    "    final_smape = .25 * rougher + .75 * final\n",
    "    return final_smape"
   ]
  },
  {
   "cell_type": "code",
   "execution_count": 57,
   "metadata": {},
   "outputs": [],
   "source": [
    "test_df = test_df.merge(full_df[['date', 'rougher.output.recovery', 'final.output.recovery']], how='left', on='date')"
   ]
  },
  {
   "cell_type": "code",
   "execution_count": 58,
   "metadata": {},
   "outputs": [],
   "source": [
    "test_df = test_df.drop(['date'], axis=1)"
   ]
  },
  {
   "cell_type": "code",
   "execution_count": 59,
   "metadata": {},
   "outputs": [],
   "source": [
    "target_t_r = test_df['rougher.output.recovery']\n",
    "target_t_f = test_df['final.output.recovery']\n",
    "features_t = test_df"
   ]
  },
  {
   "cell_type": "code",
   "execution_count": 63,
   "metadata": {},
   "outputs": [],
   "source": [
    "smape_scorer = make_scorer(smape, greater_is_better=False)"
   ]
  },
  {
   "cell_type": "code",
   "execution_count": 64,
   "metadata": {},
   "outputs": [
    {
     "name": "stdout",
     "output_type": "stream",
     "text": [
      "[89.98984219 88.08934439 88.41354386 ... 93.01698743 92.59918214\n",
      " 91.17631173]\n"
     ]
    }
   ],
   "source": [
    "estimator = RandomForestRegressor()\n",
    "parameters = {\n",
    "        'max_depth': [5, 10],\n",
    "        'n_estimators': [50, 100]}\n",
    "\n",
    "rnd_r = GridSearchCV(estimator=estimator,\n",
    "                              param_grid=parameters,\n",
    "                              cv=5,\n",
    "                              n_jobs=-1)\n",
    "rnd_r.fit(features_t, target_t_r)\n",
    "\n",
    "rnd_r_best = RandomForestRegressor(random_state=8,\n",
    "                   **rnd_r.best_params_).fit(features_t, target_t_r)\n",
    "\n",
    "pred_rnd_r = rnd_r_best.predict(features_t)\n",
    "print(pred_rnd_r)"
   ]
  },
  {
   "cell_type": "code",
   "execution_count": 65,
   "metadata": {},
   "outputs": [
    {
     "name": "stdout",
     "output_type": "stream",
     "text": [
      "[70.27526057 68.91384613 68.14055272 ... 67.09381142 68.06397503\n",
      " 71.70418362]\n"
     ]
    }
   ],
   "source": [
    "estimator = RandomForestRegressor()\n",
    "parameters = {\n",
    "        'max_depth': [5, 10],\n",
    "        'n_estimators': [50, 100]}\n",
    "\n",
    "rnd_f = GridSearchCV(estimator=estimator,\n",
    "                              param_grid=parameters,\n",
    "                              cv=5,\n",
    "                              n_jobs=-1)\n",
    "rnd_f.fit(features_t, target_t_f)\n",
    "\n",
    "rnd_f_best = RandomForestRegressor(random_state=8,\n",
    "                   **rnd_f.best_params_).fit(features_t, target_t_f)\n",
    "\n",
    "pred_rnd_f = rnd_f_best.predict(features_t)\n",
    "print(pred_rnd_f)"
   ]
  },
  {
   "cell_type": "code",
   "execution_count": 66,
   "metadata": {},
   "outputs": [
    {
     "name": "stdout",
     "output_type": "stream",
     "text": [
      "0.03145186245541255\n"
     ]
    }
   ],
   "source": [
    "roug = smape(target_t_r, pred_rnd_r)\n",
    "print(roug)"
   ]
  },
  {
   "cell_type": "code",
   "execution_count": 67,
   "metadata": {},
   "outputs": [
    {
     "name": "stdout",
     "output_type": "stream",
     "text": [
      "0.05645745816144331\n"
     ]
    }
   ],
   "source": [
    "fin = smape(target_t_f, pred_rnd_f)\n",
    "print(fin)"
   ]
  },
  {
   "cell_type": "code",
   "execution_count": 68,
   "metadata": {},
   "outputs": [
    {
     "data": {
      "text/plain": [
       "0.050206059234935624"
      ]
     },
     "execution_count": 68,
     "metadata": {},
     "output_type": "execute_result"
    }
   ],
   "source": [
    "final_smape(roug, fin)"
   ]
  },
  {
   "cell_type": "markdown",
   "metadata": {},
   "source": [
    "**Вывод**: в данном проекте от компания \"Цифра\" нам были даны данные о различных материаллах и веществах и их стадиях обработки. Входе работы были изученны данные, сделана предобработка и построенные графики для наглядного понимания происходящего. Так же было проведенно обучение на моделях и проверка их качества на метриках таких как sMAPE и итоговый sMAPE. В результате были полученные хорошие результаты, которые должны помочь компания в дальнейшей ее работе с этим проектом."
   ]
  }
 ],
 "metadata": {
  "ExecuteTimeLog": [
   {
    "duration": 1833,
    "start_time": "2023-03-14T16:22:11.946Z"
   },
   {
    "duration": 153,
    "start_time": "2023-03-14T16:23:43.096Z"
   },
   {
    "duration": 2454,
    "start_time": "2023-03-14T16:24:07.527Z"
   },
   {
    "duration": 757,
    "start_time": "2023-03-14T16:24:21.739Z"
   },
   {
    "duration": 753,
    "start_time": "2023-03-14T16:25:03.236Z"
   },
   {
    "duration": 41,
    "start_time": "2023-03-14T16:37:00.952Z"
   },
   {
    "duration": 21,
    "start_time": "2023-03-14T16:37:19.034Z"
   },
   {
    "duration": 14,
    "start_time": "2023-03-14T16:39:55.088Z"
   },
   {
    "duration": 24,
    "start_time": "2023-03-14T16:40:09.089Z"
   },
   {
    "duration": 18,
    "start_time": "2023-03-14T16:40:49.158Z"
   },
   {
    "duration": 3,
    "start_time": "2023-03-14T16:41:34.643Z"
   },
   {
    "duration": 11,
    "start_time": "2023-03-14T16:41:35.313Z"
   },
   {
    "duration": 13,
    "start_time": "2023-03-14T16:41:42.923Z"
   },
   {
    "duration": 11,
    "start_time": "2023-03-14T16:41:43.617Z"
   },
   {
    "duration": 3,
    "start_time": "2023-03-14T16:41:52.896Z"
   },
   {
    "duration": 10,
    "start_time": "2023-03-14T16:41:53.622Z"
   },
   {
    "duration": 3,
    "start_time": "2023-03-14T16:42:01.505Z"
   },
   {
    "duration": 14,
    "start_time": "2023-03-14T16:42:01.864Z"
   },
   {
    "duration": 7,
    "start_time": "2023-03-14T16:42:23.729Z"
   },
   {
    "duration": 14,
    "start_time": "2023-03-14T16:42:27.061Z"
   },
   {
    "duration": 5,
    "start_time": "2023-03-14T17:06:14.305Z"
   },
   {
    "duration": 983,
    "start_time": "2023-03-14T17:19:14.254Z"
   },
   {
    "duration": 1799,
    "start_time": "2023-03-14T17:19:28.617Z"
   },
   {
    "duration": 889,
    "start_time": "2023-03-14T17:19:30.419Z"
   },
   {
    "duration": 20,
    "start_time": "2023-03-14T17:19:31.310Z"
   },
   {
    "duration": 49,
    "start_time": "2023-03-14T17:19:31.333Z"
   },
   {
    "duration": 62,
    "start_time": "2023-03-14T17:19:31.385Z"
   },
   {
    "duration": 11,
    "start_time": "2023-03-14T17:19:31.450Z"
   },
   {
    "duration": 67,
    "start_time": "2023-03-14T17:19:31.463Z"
   },
   {
    "duration": 71,
    "start_time": "2023-03-14T17:19:31.532Z"
   },
   {
    "duration": 36,
    "start_time": "2023-03-14T17:19:31.606Z"
   },
   {
    "duration": 1116,
    "start_time": "2023-03-14T17:19:31.644Z"
   },
   {
    "duration": 3916,
    "start_time": "2023-03-14T17:19:42.731Z"
   },
   {
    "duration": 170,
    "start_time": "2023-03-14T17:20:26.313Z"
   },
   {
    "duration": 1433,
    "start_time": "2023-03-14T18:06:28.589Z"
   },
   {
    "duration": 676,
    "start_time": "2023-03-14T18:06:30.024Z"
   },
   {
    "duration": 17,
    "start_time": "2023-03-14T18:06:30.702Z"
   },
   {
    "duration": 46,
    "start_time": "2023-03-14T18:06:30.721Z"
   },
   {
    "duration": 86,
    "start_time": "2023-03-14T18:06:30.770Z"
   },
   {
    "duration": 40,
    "start_time": "2023-03-14T18:06:30.857Z"
   },
   {
    "duration": 67,
    "start_time": "2023-03-14T18:06:30.898Z"
   },
   {
    "duration": 59,
    "start_time": "2023-03-14T18:06:30.966Z"
   },
   {
    "duration": 46,
    "start_time": "2023-03-14T18:06:31.027Z"
   },
   {
    "duration": 209,
    "start_time": "2023-03-14T18:06:31.075Z"
   },
   {
    "duration": 141,
    "start_time": "2023-03-14T19:15:50.828Z"
   },
   {
    "duration": 5,
    "start_time": "2023-03-14T19:19:04.510Z"
   },
   {
    "duration": 6,
    "start_time": "2023-03-14T19:19:13.669Z"
   },
   {
    "duration": 234,
    "start_time": "2023-03-14T19:22:55.035Z"
   },
   {
    "duration": 5,
    "start_time": "2023-03-14T19:23:19.018Z"
   },
   {
    "duration": 140,
    "start_time": "2023-03-14T19:36:32.766Z"
   },
   {
    "duration": 5,
    "start_time": "2023-03-14T19:36:35.099Z"
   },
   {
    "duration": 10,
    "start_time": "2023-03-14T19:43:06.441Z"
   },
   {
    "duration": 11,
    "start_time": "2023-03-14T19:43:26.458Z"
   },
   {
    "duration": 146,
    "start_time": "2023-03-14T19:44:35.444Z"
   },
   {
    "duration": 11,
    "start_time": "2023-03-14T19:44:39.756Z"
   },
   {
    "duration": 11,
    "start_time": "2023-03-14T19:46:30.240Z"
   },
   {
    "duration": 11,
    "start_time": "2023-03-14T19:46:40.215Z"
   },
   {
    "duration": 7,
    "start_time": "2023-03-14T19:47:30.308Z"
   },
   {
    "duration": 11,
    "start_time": "2023-03-14T19:47:31.818Z"
   },
   {
    "duration": 5,
    "start_time": "2023-03-14T19:47:32.205Z"
   },
   {
    "duration": 20,
    "start_time": "2023-03-14T19:47:32.471Z"
   },
   {
    "duration": 11,
    "start_time": "2023-03-14T21:01:58.902Z"
   },
   {
    "duration": 50,
    "start_time": "2023-03-14T21:02:06.081Z"
   },
   {
    "duration": 13,
    "start_time": "2023-03-14T21:02:10.673Z"
   },
   {
    "duration": 240,
    "start_time": "2023-03-14T21:02:42.738Z"
   },
   {
    "duration": 116,
    "start_time": "2023-03-14T21:02:50.751Z"
   },
   {
    "duration": 117,
    "start_time": "2023-03-14T21:02:55.127Z"
   },
   {
    "duration": 26,
    "start_time": "2023-03-14T21:03:04.694Z"
   },
   {
    "duration": 99,
    "start_time": "2023-03-14T21:03:05.302Z"
   },
   {
    "duration": 169,
    "start_time": "2023-03-14T21:30:52.512Z"
   },
   {
    "duration": 5,
    "start_time": "2023-03-14T21:30:53.637Z"
   },
   {
    "duration": 7,
    "start_time": "2023-03-14T21:31:24.490Z"
   },
   {
    "duration": 0,
    "start_time": "2023-03-14T22:24:30.196Z"
   },
   {
    "duration": 0,
    "start_time": "2023-03-14T22:25:24.193Z"
   },
   {
    "duration": 1404,
    "start_time": "2023-03-14T22:25:31.340Z"
   },
   {
    "duration": 759,
    "start_time": "2023-03-14T22:25:32.746Z"
   },
   {
    "duration": 19,
    "start_time": "2023-03-14T22:25:33.507Z"
   },
   {
    "duration": 14,
    "start_time": "2023-03-14T22:25:33.528Z"
   },
   {
    "duration": 39,
    "start_time": "2023-03-14T22:25:33.545Z"
   },
   {
    "duration": 3,
    "start_time": "2023-03-14T22:25:33.586Z"
   },
   {
    "duration": 16,
    "start_time": "2023-03-14T22:25:33.590Z"
   },
   {
    "duration": 13,
    "start_time": "2023-03-14T22:25:33.608Z"
   },
   {
    "duration": 177,
    "start_time": "2023-03-14T22:25:33.623Z"
   },
   {
    "duration": 5,
    "start_time": "2023-03-14T22:25:33.802Z"
   },
   {
    "duration": 18,
    "start_time": "2023-03-14T22:25:33.808Z"
   },
   {
    "duration": 10,
    "start_time": "2023-03-14T22:25:33.828Z"
   },
   {
    "duration": 26,
    "start_time": "2023-03-14T22:25:33.840Z"
   },
   {
    "duration": 11,
    "start_time": "2023-03-14T22:25:33.869Z"
   },
   {
    "duration": 14,
    "start_time": "2023-03-14T22:25:33.881Z"
   },
   {
    "duration": 5,
    "start_time": "2023-03-14T22:25:33.897Z"
   },
   {
    "duration": 34,
    "start_time": "2023-03-14T22:25:33.904Z"
   },
   {
    "duration": 141,
    "start_time": "2023-03-14T22:25:33.940Z"
   },
   {
    "duration": 26,
    "start_time": "2023-03-14T22:25:34.084Z"
   },
   {
    "duration": 119,
    "start_time": "2023-03-14T22:25:34.112Z"
   },
   {
    "duration": 3,
    "start_time": "2023-03-14T22:25:34.233Z"
   },
   {
    "duration": 123080,
    "start_time": "2023-03-14T22:25:34.238Z"
   },
   {
    "duration": 63640,
    "start_time": "2023-03-14T22:27:59.564Z"
   },
   {
    "duration": 263391,
    "start_time": "2023-03-14T22:29:08.354Z"
   },
   {
    "duration": 1636,
    "start_time": "2023-03-15T09:30:15.541Z"
   },
   {
    "duration": 2088,
    "start_time": "2023-03-15T09:30:17.179Z"
   },
   {
    "duration": 19,
    "start_time": "2023-03-15T09:30:19.269Z"
   },
   {
    "duration": 13,
    "start_time": "2023-03-15T09:30:19.289Z"
   },
   {
    "duration": 27,
    "start_time": "2023-03-15T09:30:19.304Z"
   },
   {
    "duration": 2,
    "start_time": "2023-03-15T09:30:19.333Z"
   },
   {
    "duration": 21,
    "start_time": "2023-03-15T09:30:19.337Z"
   },
   {
    "duration": 7,
    "start_time": "2023-03-15T09:30:19.360Z"
   },
   {
    "duration": 180,
    "start_time": "2023-03-15T09:30:19.368Z"
   },
   {
    "duration": 5,
    "start_time": "2023-03-15T09:30:19.550Z"
   },
   {
    "duration": 11,
    "start_time": "2023-03-15T09:30:19.557Z"
   },
   {
    "duration": 9,
    "start_time": "2023-03-15T09:30:19.569Z"
   },
   {
    "duration": 6,
    "start_time": "2023-03-15T09:30:19.580Z"
   },
   {
    "duration": 11,
    "start_time": "2023-03-15T09:30:19.589Z"
   },
   {
    "duration": 27,
    "start_time": "2023-03-15T09:30:19.601Z"
   },
   {
    "duration": 5,
    "start_time": "2023-03-15T09:30:19.630Z"
   },
   {
    "duration": 15,
    "start_time": "2023-03-15T09:30:19.636Z"
   },
   {
    "duration": 147,
    "start_time": "2023-03-15T09:30:19.653Z"
   },
   {
    "duration": 38,
    "start_time": "2023-03-15T09:30:19.801Z"
   },
   {
    "duration": 111,
    "start_time": "2023-03-15T09:30:19.841Z"
   },
   {
    "duration": 111,
    "start_time": "2023-03-15T09:30:19.953Z"
   },
   {
    "duration": 195,
    "start_time": "2023-03-15T09:31:00.224Z"
   },
   {
    "duration": 139,
    "start_time": "2023-03-15T09:31:25.054Z"
   },
   {
    "duration": 125,
    "start_time": "2023-03-15T09:31:33.031Z"
   },
   {
    "duration": 230,
    "start_time": "2023-03-15T09:32:15.631Z"
   },
   {
    "duration": 15,
    "start_time": "2023-03-15T09:33:23.482Z"
   },
   {
    "duration": 345,
    "start_time": "2023-03-15T09:34:38.265Z"
   },
   {
    "duration": 357,
    "start_time": "2023-03-15T09:42:46.743Z"
   },
   {
    "duration": 560,
    "start_time": "2023-03-15T09:43:31.846Z"
   },
   {
    "duration": 17,
    "start_time": "2023-03-15T09:53:35.237Z"
   },
   {
    "duration": 565,
    "start_time": "2023-03-15T09:54:10.859Z"
   },
   {
    "duration": 688,
    "start_time": "2023-03-15T09:58:40.712Z"
   },
   {
    "duration": 15,
    "start_time": "2023-03-15T10:02:07.719Z"
   },
   {
    "duration": 682,
    "start_time": "2023-03-15T10:02:37.161Z"
   },
   {
    "duration": 304,
    "start_time": "2023-03-15T10:02:37.845Z"
   },
   {
    "duration": 284,
    "start_time": "2023-03-15T10:03:06.472Z"
   },
   {
    "duration": 750,
    "start_time": "2023-03-15T10:04:40.284Z"
   },
   {
    "duration": 816,
    "start_time": "2023-03-15T10:06:28.716Z"
   },
   {
    "duration": 1020,
    "start_time": "2023-03-15T10:06:56.655Z"
   },
   {
    "duration": 915,
    "start_time": "2023-03-15T10:07:56.742Z"
   },
   {
    "duration": 182,
    "start_time": "2023-03-15T10:25:26.757Z"
   },
   {
    "duration": 142,
    "start_time": "2023-03-15T10:25:32.871Z"
   },
   {
    "duration": 32,
    "start_time": "2023-03-15T10:27:09.221Z"
   },
   {
    "duration": 10,
    "start_time": "2023-03-15T10:27:35.272Z"
   },
   {
    "duration": 13,
    "start_time": "2023-03-15T10:27:41.154Z"
   },
   {
    "duration": 430,
    "start_time": "2023-03-15T10:28:02.621Z"
   },
   {
    "duration": 468,
    "start_time": "2023-03-15T10:28:58.508Z"
   },
   {
    "duration": 590,
    "start_time": "2023-03-15T10:29:06.519Z"
   },
   {
    "duration": 468,
    "start_time": "2023-03-15T10:29:12.613Z"
   },
   {
    "duration": 429,
    "start_time": "2023-03-15T10:29:25.244Z"
   },
   {
    "duration": 577,
    "start_time": "2023-03-15T10:29:33.616Z"
   },
   {
    "duration": 445,
    "start_time": "2023-03-15T10:29:38.208Z"
   },
   {
    "duration": 448,
    "start_time": "2023-03-15T10:29:48.149Z"
   },
   {
    "duration": 338,
    "start_time": "2023-03-15T10:31:44.248Z"
   },
   {
    "duration": 705,
    "start_time": "2023-03-15T10:35:41.538Z"
   },
   {
    "duration": 343,
    "start_time": "2023-03-15T10:37:22.752Z"
   },
   {
    "duration": 2,
    "start_time": "2023-03-15T11:11:49.105Z"
   },
   {
    "duration": 8896,
    "start_time": "2023-03-15T11:13:05.007Z"
   },
   {
    "duration": 8793,
    "start_time": "2023-03-15T11:13:18.702Z"
   },
   {
    "duration": 1350,
    "start_time": "2023-03-15T11:13:35.922Z"
   },
   {
    "duration": 688,
    "start_time": "2023-03-15T11:13:37.274Z"
   },
   {
    "duration": 17,
    "start_time": "2023-03-15T11:13:37.964Z"
   },
   {
    "duration": 12,
    "start_time": "2023-03-15T11:13:37.982Z"
   },
   {
    "duration": 42,
    "start_time": "2023-03-15T11:13:37.996Z"
   },
   {
    "duration": 3,
    "start_time": "2023-03-15T11:13:38.040Z"
   },
   {
    "duration": 12,
    "start_time": "2023-03-15T11:13:38.045Z"
   },
   {
    "duration": 11,
    "start_time": "2023-03-15T11:13:38.059Z"
   },
   {
    "duration": 172,
    "start_time": "2023-03-15T11:13:38.072Z"
   },
   {
    "duration": 4,
    "start_time": "2023-03-15T11:13:38.246Z"
   },
   {
    "duration": 18,
    "start_time": "2023-03-15T11:13:38.252Z"
   },
   {
    "duration": 8,
    "start_time": "2023-03-15T11:13:38.271Z"
   },
   {
    "duration": 20,
    "start_time": "2023-03-15T11:13:38.281Z"
   },
   {
    "duration": 10,
    "start_time": "2023-03-15T11:13:38.305Z"
   },
   {
    "duration": 11,
    "start_time": "2023-03-15T11:13:38.317Z"
   },
   {
    "duration": 4,
    "start_time": "2023-03-15T11:13:38.329Z"
   },
   {
    "duration": 15,
    "start_time": "2023-03-15T11:13:38.334Z"
   },
   {
    "duration": 133,
    "start_time": "2023-03-15T11:13:38.351Z"
   },
   {
    "duration": 23,
    "start_time": "2023-03-15T11:13:38.485Z"
   },
   {
    "duration": 102,
    "start_time": "2023-03-15T11:13:38.510Z"
   },
   {
    "duration": 647,
    "start_time": "2023-03-15T11:13:38.614Z"
   },
   {
    "duration": 1034,
    "start_time": "2023-03-15T11:13:39.262Z"
   },
   {
    "duration": 777,
    "start_time": "2023-03-15T11:13:40.298Z"
   },
   {
    "duration": 492,
    "start_time": "2023-03-15T11:13:41.077Z"
   },
   {
    "duration": 291,
    "start_time": "2023-03-15T11:13:41.571Z"
   },
   {
    "duration": 109,
    "start_time": "2023-03-15T11:13:41.864Z"
   },
   {
    "duration": 0,
    "start_time": "2023-03-15T11:13:41.975Z"
   },
   {
    "duration": 0,
    "start_time": "2023-03-15T11:13:41.976Z"
   },
   {
    "duration": 0,
    "start_time": "2023-03-15T11:13:41.977Z"
   },
   {
    "duration": 0,
    "start_time": "2023-03-15T11:13:41.978Z"
   },
   {
    "duration": 535,
    "start_time": "2023-03-15T11:14:02.048Z"
   },
   {
    "duration": 323,
    "start_time": "2023-03-15T11:14:02.621Z"
   },
   {
    "duration": 8753,
    "start_time": "2023-03-15T11:14:06.473Z"
   },
   {
    "duration": 6030,
    "start_time": "2023-03-15T11:14:30.069Z"
   },
   {
    "duration": 475,
    "start_time": "2023-03-15T11:14:42.752Z"
   },
   {
    "duration": 1391,
    "start_time": "2023-03-15T11:15:35.585Z"
   },
   {
    "duration": 726,
    "start_time": "2023-03-15T11:15:36.978Z"
   },
   {
    "duration": 27,
    "start_time": "2023-03-15T11:15:37.705Z"
   },
   {
    "duration": 13,
    "start_time": "2023-03-15T11:15:37.734Z"
   },
   {
    "duration": 19,
    "start_time": "2023-03-15T11:15:37.748Z"
   },
   {
    "duration": 11,
    "start_time": "2023-03-15T11:15:37.769Z"
   },
   {
    "duration": 18,
    "start_time": "2023-03-15T11:15:37.782Z"
   },
   {
    "duration": 24,
    "start_time": "2023-03-15T11:15:37.801Z"
   },
   {
    "duration": 158,
    "start_time": "2023-03-15T11:15:37.826Z"
   },
   {
    "duration": 5,
    "start_time": "2023-03-15T11:15:37.987Z"
   },
   {
    "duration": 11,
    "start_time": "2023-03-15T11:15:37.994Z"
   },
   {
    "duration": 18,
    "start_time": "2023-03-15T11:15:38.006Z"
   },
   {
    "duration": 7,
    "start_time": "2023-03-15T11:15:38.026Z"
   },
   {
    "duration": 9,
    "start_time": "2023-03-15T11:15:38.035Z"
   },
   {
    "duration": 11,
    "start_time": "2023-03-15T11:15:38.046Z"
   },
   {
    "duration": 5,
    "start_time": "2023-03-15T11:15:38.059Z"
   },
   {
    "duration": 14,
    "start_time": "2023-03-15T11:15:38.066Z"
   },
   {
    "duration": 160,
    "start_time": "2023-03-15T11:15:38.082Z"
   },
   {
    "duration": 24,
    "start_time": "2023-03-15T11:15:38.243Z"
   },
   {
    "duration": 110,
    "start_time": "2023-03-15T11:15:38.269Z"
   },
   {
    "duration": 621,
    "start_time": "2023-03-15T11:15:38.380Z"
   },
   {
    "duration": 1122,
    "start_time": "2023-03-15T11:15:39.003Z"
   },
   {
    "duration": 798,
    "start_time": "2023-03-15T11:15:40.126Z"
   },
   {
    "duration": 524,
    "start_time": "2023-03-15T11:15:40.926Z"
   },
   {
    "duration": 325,
    "start_time": "2023-03-15T11:15:41.452Z"
   },
   {
    "duration": 559,
    "start_time": "2023-03-15T11:15:41.779Z"
   },
   {
    "duration": 358,
    "start_time": "2023-03-15T11:15:42.340Z"
   },
   {
    "duration": 6174,
    "start_time": "2023-03-15T11:15:42.701Z"
   },
   {
    "duration": 77,
    "start_time": "2023-03-15T11:15:48.877Z"
   },
   {
    "duration": 8866,
    "start_time": "2023-03-15T11:18:53.308Z"
   },
   {
    "duration": 108,
    "start_time": "2023-03-15T11:25:17.360Z"
   },
   {
    "duration": 9,
    "start_time": "2023-03-15T11:25:29.873Z"
   },
   {
    "duration": 5,
    "start_time": "2023-03-15T11:25:36.609Z"
   },
   {
    "duration": 11,
    "start_time": "2023-03-15T11:29:22.421Z"
   },
   {
    "duration": 192,
    "start_time": "2023-03-15T11:29:29.413Z"
   },
   {
    "duration": 93,
    "start_time": "2023-03-15T11:33:07.436Z"
   },
   {
    "duration": 8,
    "start_time": "2023-03-15T11:33:08.209Z"
   },
   {
    "duration": 4,
    "start_time": "2023-03-15T11:33:15.446Z"
   },
   {
    "duration": 9,
    "start_time": "2023-03-15T11:33:16.137Z"
   },
   {
    "duration": 166,
    "start_time": "2023-03-15T11:33:21.540Z"
   },
   {
    "duration": 4,
    "start_time": "2023-03-15T11:34:26.640Z"
   },
   {
    "duration": 5,
    "start_time": "2023-03-15T11:34:51.060Z"
   },
   {
    "duration": 5,
    "start_time": "2023-03-15T11:39:01.916Z"
   },
   {
    "duration": 4,
    "start_time": "2023-03-15T11:39:02.275Z"
   },
   {
    "duration": 4,
    "start_time": "2023-03-15T11:39:03.138Z"
   },
   {
    "duration": 948,
    "start_time": "2023-03-15T11:42:06.029Z"
   },
   {
    "duration": 792,
    "start_time": "2023-03-15T11:42:54.940Z"
   },
   {
    "duration": 874,
    "start_time": "2023-03-15T11:42:59.636Z"
   },
   {
    "duration": 15,
    "start_time": "2023-03-15T15:18:36.473Z"
   },
   {
    "duration": 9,
    "start_time": "2023-03-15T15:18:57.820Z"
   },
   {
    "duration": 11,
    "start_time": "2023-03-15T15:19:32.820Z"
   },
   {
    "duration": 19,
    "start_time": "2023-03-15T15:20:28.466Z"
   },
   {
    "duration": 14,
    "start_time": "2023-03-15T15:21:03.318Z"
   },
   {
    "duration": 14,
    "start_time": "2023-03-15T15:22:35.809Z"
   },
   {
    "duration": 1184,
    "start_time": "2023-03-15T15:23:48.355Z"
   },
   {
    "duration": 15,
    "start_time": "2023-03-15T15:24:00.696Z"
   },
   {
    "duration": 4,
    "start_time": "2023-03-15T15:24:40.443Z"
   },
   {
    "duration": 18,
    "start_time": "2023-03-15T15:24:52.095Z"
   },
   {
    "duration": 50,
    "start_time": "2023-03-15T15:26:15.041Z"
   },
   {
    "duration": 61678,
    "start_time": "2023-03-15T15:27:27.939Z"
   },
   {
    "duration": 62424,
    "start_time": "2023-03-15T15:29:39.308Z"
   },
   {
    "duration": 4,
    "start_time": "2023-03-15T15:33:22.714Z"
   },
   {
    "duration": 393010,
    "start_time": "2023-03-15T15:33:31.165Z"
   },
   {
    "duration": 4,
    "start_time": "2023-03-15T15:40:25.552Z"
   },
   {
    "duration": 10,
    "start_time": "2023-03-15T15:41:26.534Z"
   },
   {
    "duration": 4,
    "start_time": "2023-03-15T15:41:32.837Z"
   },
   {
    "duration": 2895,
    "start_time": "2023-03-15T15:41:38.538Z"
   },
   {
    "duration": 2433,
    "start_time": "2023-03-15T15:42:41.795Z"
   },
   {
    "duration": 2879,
    "start_time": "2023-03-15T15:42:52.846Z"
   },
   {
    "duration": 398976,
    "start_time": "2023-03-15T15:42:59.208Z"
   },
   {
    "duration": 52,
    "start_time": "2023-03-15T19:38:34.176Z"
   },
   {
    "duration": 1627,
    "start_time": "2023-03-15T19:38:45.394Z"
   },
   {
    "duration": 2121,
    "start_time": "2023-03-15T19:38:47.024Z"
   },
   {
    "duration": 20,
    "start_time": "2023-03-15T19:38:49.149Z"
   },
   {
    "duration": 17,
    "start_time": "2023-03-15T19:38:49.171Z"
   },
   {
    "duration": 21,
    "start_time": "2023-03-15T19:38:49.191Z"
   },
   {
    "duration": 4,
    "start_time": "2023-03-15T19:38:49.214Z"
   },
   {
    "duration": 43,
    "start_time": "2023-03-15T19:38:49.220Z"
   },
   {
    "duration": 15,
    "start_time": "2023-03-15T19:38:49.265Z"
   },
   {
    "duration": 232,
    "start_time": "2023-03-15T19:38:49.283Z"
   },
   {
    "duration": 5,
    "start_time": "2023-03-15T19:38:49.518Z"
   },
   {
    "duration": 12,
    "start_time": "2023-03-15T19:38:49.525Z"
   },
   {
    "duration": 20,
    "start_time": "2023-03-15T19:38:49.539Z"
   },
   {
    "duration": 8,
    "start_time": "2023-03-15T19:38:49.563Z"
   },
   {
    "duration": 12,
    "start_time": "2023-03-15T19:38:49.573Z"
   },
   {
    "duration": 11,
    "start_time": "2023-03-15T19:38:49.587Z"
   },
   {
    "duration": 4,
    "start_time": "2023-03-15T19:38:49.599Z"
   },
   {
    "duration": 57,
    "start_time": "2023-03-15T19:38:49.605Z"
   },
   {
    "duration": 133,
    "start_time": "2023-03-15T19:38:49.664Z"
   },
   {
    "duration": 25,
    "start_time": "2023-03-15T19:38:49.799Z"
   },
   {
    "duration": 157,
    "start_time": "2023-03-15T19:38:49.826Z"
   },
   {
    "duration": 673,
    "start_time": "2023-03-15T19:38:49.986Z"
   },
   {
    "duration": 1157,
    "start_time": "2023-03-15T19:38:50.661Z"
   },
   {
    "duration": 800,
    "start_time": "2023-03-15T19:38:51.819Z"
   },
   {
    "duration": 597,
    "start_time": "2023-03-15T19:38:52.621Z"
   },
   {
    "duration": 360,
    "start_time": "2023-03-15T19:38:53.220Z"
   },
   {
    "duration": 708,
    "start_time": "2023-03-15T19:38:53.582Z"
   },
   {
    "duration": 512,
    "start_time": "2023-03-15T19:38:54.292Z"
   },
   {
    "duration": 5,
    "start_time": "2023-03-15T19:38:54.806Z"
   },
   {
    "duration": 6,
    "start_time": "2023-03-15T19:38:54.813Z"
   },
   {
    "duration": 5,
    "start_time": "2023-03-15T19:38:54.821Z"
   },
   {
    "duration": 5,
    "start_time": "2023-03-15T19:38:54.828Z"
   },
   {
    "duration": 873,
    "start_time": "2023-03-15T19:38:54.854Z"
   },
   {
    "duration": 882,
    "start_time": "2023-03-15T19:38:55.729Z"
   },
   {
    "duration": 885,
    "start_time": "2023-03-15T19:38:56.614Z"
   },
   {
    "duration": 5,
    "start_time": "2023-03-15T19:38:57.501Z"
   },
   {
    "duration": 7,
    "start_time": "2023-03-15T19:38:57.508Z"
   },
   {
    "duration": 5,
    "start_time": "2023-03-15T19:38:57.517Z"
   },
   {
    "duration": 6,
    "start_time": "2023-03-15T19:40:11.471Z"
   },
   {
    "duration": 6,
    "start_time": "2023-03-15T19:46:24.812Z"
   },
   {
    "duration": 111,
    "start_time": "2023-03-15T19:48:37.255Z"
   },
   {
    "duration": 19,
    "start_time": "2023-03-15T19:48:42.524Z"
   },
   {
    "duration": 9,
    "start_time": "2023-03-15T19:48:54.323Z"
   },
   {
    "duration": 16,
    "start_time": "2023-03-15T19:49:02.884Z"
   },
   {
    "duration": 3,
    "start_time": "2023-03-15T19:49:20.846Z"
   },
   {
    "duration": 3,
    "start_time": "2023-03-15T19:49:29.917Z"
   },
   {
    "duration": 6675,
    "start_time": "2023-03-15T19:49:54.516Z"
   },
   {
    "duration": 5,
    "start_time": "2023-03-15T19:50:24.512Z"
   },
   {
    "duration": 4,
    "start_time": "2023-03-15T19:51:02.224Z"
   },
   {
    "duration": 19,
    "start_time": "2023-03-15T20:08:20.221Z"
   },
   {
    "duration": 1561,
    "start_time": "2023-03-15T20:09:09.454Z"
   },
   {
    "duration": 723,
    "start_time": "2023-03-15T20:09:11.017Z"
   },
   {
    "duration": 33,
    "start_time": "2023-03-15T20:09:11.743Z"
   },
   {
    "duration": 18,
    "start_time": "2023-03-15T20:09:11.780Z"
   },
   {
    "duration": 30,
    "start_time": "2023-03-15T20:09:11.800Z"
   },
   {
    "duration": 4,
    "start_time": "2023-03-15T20:09:11.854Z"
   },
   {
    "duration": 43,
    "start_time": "2023-03-15T20:09:11.860Z"
   },
   {
    "duration": 11,
    "start_time": "2023-03-15T20:09:11.905Z"
   },
   {
    "duration": 225,
    "start_time": "2023-03-15T20:09:11.918Z"
   },
   {
    "duration": 4,
    "start_time": "2023-03-15T20:09:12.146Z"
   },
   {
    "duration": 33,
    "start_time": "2023-03-15T20:09:12.152Z"
   },
   {
    "duration": 20,
    "start_time": "2023-03-15T20:09:12.188Z"
   },
   {
    "duration": 8,
    "start_time": "2023-03-15T20:09:12.211Z"
   },
   {
    "duration": 13,
    "start_time": "2023-03-15T20:09:12.221Z"
   },
   {
    "duration": 12,
    "start_time": "2023-03-15T20:09:12.254Z"
   },
   {
    "duration": 4,
    "start_time": "2023-03-15T20:09:12.268Z"
   },
   {
    "duration": 18,
    "start_time": "2023-03-15T20:09:12.274Z"
   },
   {
    "duration": 169,
    "start_time": "2023-03-15T20:09:12.294Z"
   },
   {
    "duration": 32,
    "start_time": "2023-03-15T20:09:12.466Z"
   },
   {
    "duration": 132,
    "start_time": "2023-03-15T20:09:12.500Z"
   },
   {
    "duration": 626,
    "start_time": "2023-03-15T20:09:12.634Z"
   },
   {
    "duration": 1276,
    "start_time": "2023-03-15T20:09:13.263Z"
   },
   {
    "duration": 816,
    "start_time": "2023-03-15T20:09:14.541Z"
   },
   {
    "duration": 570,
    "start_time": "2023-03-15T20:09:15.358Z"
   },
   {
    "duration": 329,
    "start_time": "2023-03-15T20:09:15.930Z"
   },
   {
    "duration": 715,
    "start_time": "2023-03-15T20:09:16.261Z"
   },
   {
    "duration": 568,
    "start_time": "2023-03-15T20:09:16.978Z"
   },
   {
    "duration": 6,
    "start_time": "2023-03-15T20:09:17.553Z"
   },
   {
    "duration": 8,
    "start_time": "2023-03-15T20:09:17.561Z"
   },
   {
    "duration": 5,
    "start_time": "2023-03-15T20:09:17.571Z"
   },
   {
    "duration": 6,
    "start_time": "2023-03-15T20:09:17.579Z"
   },
   {
    "duration": 863,
    "start_time": "2023-03-15T20:09:17.587Z"
   },
   {
    "duration": 891,
    "start_time": "2023-03-15T20:09:18.453Z"
   },
   {
    "duration": 880,
    "start_time": "2023-03-15T20:09:19.345Z"
   },
   {
    "duration": 8,
    "start_time": "2023-03-15T20:09:20.235Z"
   },
   {
    "duration": 14,
    "start_time": "2023-03-15T20:09:20.245Z"
   },
   {
    "duration": 192,
    "start_time": "2023-03-15T20:09:20.261Z"
   },
   {
    "duration": 0,
    "start_time": "2023-03-15T20:09:20.455Z"
   },
   {
    "duration": 0,
    "start_time": "2023-03-15T20:09:20.456Z"
   },
   {
    "duration": 1701,
    "start_time": "2023-03-15T20:10:38.038Z"
   },
   {
    "duration": 895,
    "start_time": "2023-03-15T20:10:39.741Z"
   },
   {
    "duration": 26,
    "start_time": "2023-03-15T20:10:40.638Z"
   },
   {
    "duration": 16,
    "start_time": "2023-03-15T20:10:40.668Z"
   },
   {
    "duration": 26,
    "start_time": "2023-03-15T20:10:40.690Z"
   },
   {
    "duration": 4,
    "start_time": "2023-03-15T20:10:40.718Z"
   },
   {
    "duration": 14,
    "start_time": "2023-03-15T20:10:40.753Z"
   },
   {
    "duration": 11,
    "start_time": "2023-03-15T20:10:40.769Z"
   },
   {
    "duration": 236,
    "start_time": "2023-03-15T20:10:40.783Z"
   },
   {
    "duration": 7,
    "start_time": "2023-03-15T20:10:41.024Z"
   },
   {
    "duration": 17,
    "start_time": "2023-03-15T20:10:41.034Z"
   },
   {
    "duration": 15,
    "start_time": "2023-03-15T20:10:41.054Z"
   },
   {
    "duration": 12,
    "start_time": "2023-03-15T20:10:41.072Z"
   },
   {
    "duration": 14,
    "start_time": "2023-03-15T20:10:41.086Z"
   },
   {
    "duration": 51,
    "start_time": "2023-03-15T20:10:41.102Z"
   },
   {
    "duration": 7,
    "start_time": "2023-03-15T20:10:41.156Z"
   },
   {
    "duration": 20,
    "start_time": "2023-03-15T20:10:41.166Z"
   },
   {
    "duration": 180,
    "start_time": "2023-03-15T20:10:41.188Z"
   },
   {
    "duration": 43,
    "start_time": "2023-03-15T20:10:41.371Z"
   },
   {
    "duration": 180,
    "start_time": "2023-03-15T20:10:41.417Z"
   },
   {
    "duration": 712,
    "start_time": "2023-03-15T20:10:41.599Z"
   },
   {
    "duration": 1346,
    "start_time": "2023-03-15T20:10:42.313Z"
   },
   {
    "duration": 896,
    "start_time": "2023-03-15T20:10:43.661Z"
   },
   {
    "duration": 530,
    "start_time": "2023-03-15T20:10:44.559Z"
   },
   {
    "duration": 395,
    "start_time": "2023-03-15T20:10:45.091Z"
   },
   {
    "duration": 582,
    "start_time": "2023-03-15T20:10:45.487Z"
   },
   {
    "duration": 488,
    "start_time": "2023-03-15T20:10:46.071Z"
   },
   {
    "duration": 6,
    "start_time": "2023-03-15T20:10:46.563Z"
   },
   {
    "duration": 10,
    "start_time": "2023-03-15T20:10:46.570Z"
   },
   {
    "duration": 12,
    "start_time": "2023-03-15T20:10:46.582Z"
   },
   {
    "duration": 8,
    "start_time": "2023-03-15T20:10:46.596Z"
   },
   {
    "duration": 885,
    "start_time": "2023-03-15T20:10:46.605Z"
   },
   {
    "duration": 854,
    "start_time": "2023-03-15T20:10:47.492Z"
   },
   {
    "duration": 804,
    "start_time": "2023-03-15T20:10:48.354Z"
   },
   {
    "duration": 4,
    "start_time": "2023-03-15T20:10:49.159Z"
   },
   {
    "duration": 9,
    "start_time": "2023-03-15T20:10:49.165Z"
   },
   {
    "duration": 1354,
    "start_time": "2023-03-15T20:10:49.176Z"
   },
   {
    "duration": 0,
    "start_time": "2023-03-15T20:10:50.532Z"
   },
   {
    "duration": 0,
    "start_time": "2023-03-15T20:10:50.534Z"
   },
   {
    "duration": 70,
    "start_time": "2023-03-15T20:12:42.440Z"
   },
   {
    "duration": 76,
    "start_time": "2023-03-15T20:17:53.263Z"
   },
   {
    "duration": 13,
    "start_time": "2023-03-15T20:17:57.506Z"
   },
   {
    "duration": 1425,
    "start_time": "2023-03-15T20:18:05.599Z"
   },
   {
    "duration": 707,
    "start_time": "2023-03-15T20:18:07.026Z"
   },
   {
    "duration": 26,
    "start_time": "2023-03-15T20:18:07.735Z"
   },
   {
    "duration": 13,
    "start_time": "2023-03-15T20:18:07.763Z"
   },
   {
    "duration": 18,
    "start_time": "2023-03-15T20:18:07.778Z"
   },
   {
    "duration": 3,
    "start_time": "2023-03-15T20:18:07.798Z"
   },
   {
    "duration": 22,
    "start_time": "2023-03-15T20:18:07.802Z"
   },
   {
    "duration": 31,
    "start_time": "2023-03-15T20:18:07.826Z"
   },
   {
    "duration": 164,
    "start_time": "2023-03-15T20:18:07.859Z"
   },
   {
    "duration": 6,
    "start_time": "2023-03-15T20:18:08.025Z"
   },
   {
    "duration": 15,
    "start_time": "2023-03-15T20:18:08.033Z"
   },
   {
    "duration": 13,
    "start_time": "2023-03-15T20:18:08.053Z"
   },
   {
    "duration": 11,
    "start_time": "2023-03-15T20:18:08.068Z"
   },
   {
    "duration": 14,
    "start_time": "2023-03-15T20:18:08.083Z"
   },
   {
    "duration": 13,
    "start_time": "2023-03-15T20:18:08.100Z"
   },
   {
    "duration": 5,
    "start_time": "2023-03-15T20:18:08.116Z"
   },
   {
    "duration": 17,
    "start_time": "2023-03-15T20:18:08.154Z"
   },
   {
    "duration": 150,
    "start_time": "2023-03-15T20:18:08.174Z"
   },
   {
    "duration": 38,
    "start_time": "2023-03-15T20:18:08.326Z"
   },
   {
    "duration": 109,
    "start_time": "2023-03-15T20:18:08.366Z"
   },
   {
    "duration": 633,
    "start_time": "2023-03-15T20:18:08.477Z"
   },
   {
    "duration": 1100,
    "start_time": "2023-03-15T20:18:09.112Z"
   },
   {
    "duration": 745,
    "start_time": "2023-03-15T20:18:10.214Z"
   },
   {
    "duration": 600,
    "start_time": "2023-03-15T20:18:10.961Z"
   },
   {
    "duration": 351,
    "start_time": "2023-03-15T20:18:11.564Z"
   },
   {
    "duration": 693,
    "start_time": "2023-03-15T20:18:11.918Z"
   },
   {
    "duration": 515,
    "start_time": "2023-03-15T20:18:12.613Z"
   },
   {
    "duration": 5,
    "start_time": "2023-03-15T20:18:13.131Z"
   },
   {
    "duration": 17,
    "start_time": "2023-03-15T20:18:13.138Z"
   },
   {
    "duration": 15,
    "start_time": "2023-03-15T20:18:13.157Z"
   },
   {
    "duration": 11,
    "start_time": "2023-03-15T20:18:13.174Z"
   },
   {
    "duration": 792,
    "start_time": "2023-03-15T20:18:13.187Z"
   },
   {
    "duration": 859,
    "start_time": "2023-03-15T20:18:13.982Z"
   },
   {
    "duration": 849,
    "start_time": "2023-03-15T20:18:14.843Z"
   },
   {
    "duration": 4,
    "start_time": "2023-03-15T20:18:15.693Z"
   },
   {
    "duration": 9,
    "start_time": "2023-03-15T20:18:15.699Z"
   },
   {
    "duration": 148,
    "start_time": "2023-03-15T20:18:15.711Z"
   },
   {
    "duration": 0,
    "start_time": "2023-03-15T20:18:15.861Z"
   },
   {
    "duration": 0,
    "start_time": "2023-03-15T20:18:15.863Z"
   },
   {
    "duration": 1520,
    "start_time": "2023-03-15T20:19:28.345Z"
   },
   {
    "duration": 707,
    "start_time": "2023-03-15T20:19:29.868Z"
   },
   {
    "duration": 20,
    "start_time": "2023-03-15T20:19:30.577Z"
   },
   {
    "duration": 44,
    "start_time": "2023-03-15T20:19:30.599Z"
   },
   {
    "duration": 34,
    "start_time": "2023-03-15T20:19:30.646Z"
   },
   {
    "duration": 12,
    "start_time": "2023-03-15T20:19:30.681Z"
   },
   {
    "duration": 52,
    "start_time": "2023-03-15T20:19:30.695Z"
   },
   {
    "duration": 34,
    "start_time": "2023-03-15T20:19:30.749Z"
   },
   {
    "duration": 211,
    "start_time": "2023-03-15T20:19:30.784Z"
   },
   {
    "duration": 5,
    "start_time": "2023-03-15T20:19:30.997Z"
   },
   {
    "duration": 29,
    "start_time": "2023-03-15T20:19:31.003Z"
   },
   {
    "duration": 17,
    "start_time": "2023-03-15T20:19:31.034Z"
   },
   {
    "duration": 23,
    "start_time": "2023-03-15T20:19:31.053Z"
   },
   {
    "duration": 19,
    "start_time": "2023-03-15T20:19:31.079Z"
   },
   {
    "duration": 30,
    "start_time": "2023-03-15T20:19:31.100Z"
   },
   {
    "duration": 21,
    "start_time": "2023-03-15T20:19:31.132Z"
   },
   {
    "duration": 39,
    "start_time": "2023-03-15T20:19:31.155Z"
   },
   {
    "duration": 142,
    "start_time": "2023-03-15T20:19:31.196Z"
   },
   {
    "duration": 28,
    "start_time": "2023-03-15T20:19:31.339Z"
   },
   {
    "duration": 114,
    "start_time": "2023-03-15T20:19:31.369Z"
   },
   {
    "duration": 606,
    "start_time": "2023-03-15T20:19:31.485Z"
   },
   {
    "duration": 1154,
    "start_time": "2023-03-15T20:19:32.092Z"
   },
   {
    "duration": 832,
    "start_time": "2023-03-15T20:19:33.248Z"
   },
   {
    "duration": 561,
    "start_time": "2023-03-15T20:19:34.083Z"
   },
   {
    "duration": 309,
    "start_time": "2023-03-15T20:19:34.646Z"
   },
   {
    "duration": 613,
    "start_time": "2023-03-15T20:19:34.957Z"
   },
   {
    "duration": 474,
    "start_time": "2023-03-15T20:19:35.572Z"
   },
   {
    "duration": 7,
    "start_time": "2023-03-15T20:19:36.048Z"
   },
   {
    "duration": 6,
    "start_time": "2023-03-15T20:19:36.057Z"
   },
   {
    "duration": 8,
    "start_time": "2023-03-15T20:19:36.065Z"
   },
   {
    "duration": 9,
    "start_time": "2023-03-15T20:19:36.075Z"
   },
   {
    "duration": 804,
    "start_time": "2023-03-15T20:19:36.086Z"
   },
   {
    "duration": 820,
    "start_time": "2023-03-15T20:19:36.892Z"
   },
   {
    "duration": 942,
    "start_time": "2023-03-15T20:19:37.714Z"
   },
   {
    "duration": 4,
    "start_time": "2023-03-15T20:19:38.657Z"
   },
   {
    "duration": 46,
    "start_time": "2023-03-15T20:19:38.663Z"
   },
   {
    "duration": 184,
    "start_time": "2023-03-15T20:19:38.712Z"
   },
   {
    "duration": 0,
    "start_time": "2023-03-15T20:19:38.899Z"
   },
   {
    "duration": 0,
    "start_time": "2023-03-15T20:19:38.900Z"
   },
   {
    "duration": 6593,
    "start_time": "2023-03-15T20:20:52.337Z"
   },
   {
    "duration": 1475,
    "start_time": "2023-03-15T20:21:41.914Z"
   },
   {
    "duration": 805,
    "start_time": "2023-03-15T20:21:43.391Z"
   },
   {
    "duration": 21,
    "start_time": "2023-03-15T20:21:44.198Z"
   },
   {
    "duration": 33,
    "start_time": "2023-03-15T20:21:44.222Z"
   },
   {
    "duration": 19,
    "start_time": "2023-03-15T20:21:44.257Z"
   },
   {
    "duration": 3,
    "start_time": "2023-03-15T20:21:44.278Z"
   },
   {
    "duration": 12,
    "start_time": "2023-03-15T20:21:44.283Z"
   },
   {
    "duration": 7,
    "start_time": "2023-03-15T20:21:44.296Z"
   },
   {
    "duration": 198,
    "start_time": "2023-03-15T20:21:44.305Z"
   },
   {
    "duration": 5,
    "start_time": "2023-03-15T20:21:44.506Z"
   },
   {
    "duration": 17,
    "start_time": "2023-03-15T20:21:44.513Z"
   },
   {
    "duration": 10,
    "start_time": "2023-03-15T20:21:44.531Z"
   },
   {
    "duration": 7,
    "start_time": "2023-03-15T20:21:44.543Z"
   },
   {
    "duration": 12,
    "start_time": "2023-03-15T20:21:44.551Z"
   },
   {
    "duration": 11,
    "start_time": "2023-03-15T20:21:44.565Z"
   },
   {
    "duration": 5,
    "start_time": "2023-03-15T20:21:44.578Z"
   },
   {
    "duration": 17,
    "start_time": "2023-03-15T20:21:44.585Z"
   },
   {
    "duration": 155,
    "start_time": "2023-03-15T20:21:44.603Z"
   },
   {
    "duration": 26,
    "start_time": "2023-03-15T20:21:44.760Z"
   },
   {
    "duration": 113,
    "start_time": "2023-03-15T20:21:44.787Z"
   },
   {
    "duration": 626,
    "start_time": "2023-03-15T20:21:44.901Z"
   },
   {
    "duration": 1117,
    "start_time": "2023-03-15T20:21:45.529Z"
   },
   {
    "duration": 848,
    "start_time": "2023-03-15T20:21:46.652Z"
   },
   {
    "duration": 565,
    "start_time": "2023-03-15T20:21:47.503Z"
   },
   {
    "duration": 375,
    "start_time": "2023-03-15T20:21:48.070Z"
   },
   {
    "duration": 596,
    "start_time": "2023-03-15T20:21:48.453Z"
   },
   {
    "duration": 522,
    "start_time": "2023-03-15T20:21:49.054Z"
   },
   {
    "duration": 6,
    "start_time": "2023-03-15T20:21:49.580Z"
   },
   {
    "duration": 6,
    "start_time": "2023-03-15T20:21:49.588Z"
   },
   {
    "duration": 6,
    "start_time": "2023-03-15T20:21:49.596Z"
   },
   {
    "duration": 6,
    "start_time": "2023-03-15T20:21:49.604Z"
   },
   {
    "duration": 980,
    "start_time": "2023-03-15T20:21:49.612Z"
   },
   {
    "duration": 889,
    "start_time": "2023-03-15T20:21:50.594Z"
   },
   {
    "duration": 864,
    "start_time": "2023-03-15T20:21:51.486Z"
   },
   {
    "duration": 4,
    "start_time": "2023-03-15T20:21:52.353Z"
   },
   {
    "duration": 6,
    "start_time": "2023-03-15T20:21:52.359Z"
   },
   {
    "duration": 153,
    "start_time": "2023-03-15T20:21:52.367Z"
   },
   {
    "duration": 0,
    "start_time": "2023-03-15T20:21:52.522Z"
   },
   {
    "duration": 0,
    "start_time": "2023-03-15T20:21:52.524Z"
   },
   {
    "duration": 0,
    "start_time": "2023-03-15T20:21:52.525Z"
   },
   {
    "duration": 1474,
    "start_time": "2023-03-15T20:22:04.558Z"
   },
   {
    "duration": 683,
    "start_time": "2023-03-15T20:22:06.034Z"
   },
   {
    "duration": 22,
    "start_time": "2023-03-15T20:22:06.718Z"
   },
   {
    "duration": 15,
    "start_time": "2023-03-15T20:22:06.754Z"
   },
   {
    "duration": 21,
    "start_time": "2023-03-15T20:22:06.773Z"
   },
   {
    "duration": 3,
    "start_time": "2023-03-15T20:22:06.796Z"
   },
   {
    "duration": 14,
    "start_time": "2023-03-15T20:22:06.801Z"
   },
   {
    "duration": 41,
    "start_time": "2023-03-15T20:22:06.816Z"
   },
   {
    "duration": 197,
    "start_time": "2023-03-15T20:22:06.859Z"
   },
   {
    "duration": 6,
    "start_time": "2023-03-15T20:22:07.059Z"
   },
   {
    "duration": 15,
    "start_time": "2023-03-15T20:22:07.067Z"
   },
   {
    "duration": 10,
    "start_time": "2023-03-15T20:22:07.085Z"
   },
   {
    "duration": 10,
    "start_time": "2023-03-15T20:22:07.097Z"
   },
   {
    "duration": 14,
    "start_time": "2023-03-15T20:22:07.153Z"
   },
   {
    "duration": 14,
    "start_time": "2023-03-15T20:22:07.169Z"
   },
   {
    "duration": 6,
    "start_time": "2023-03-15T20:22:07.186Z"
   },
   {
    "duration": 18,
    "start_time": "2023-03-15T20:22:07.195Z"
   },
   {
    "duration": 149,
    "start_time": "2023-03-15T20:22:07.215Z"
   },
   {
    "duration": 40,
    "start_time": "2023-03-15T20:22:07.366Z"
   },
   {
    "duration": 139,
    "start_time": "2023-03-15T20:22:07.408Z"
   },
   {
    "duration": 641,
    "start_time": "2023-03-15T20:22:07.548Z"
   },
   {
    "duration": 1207,
    "start_time": "2023-03-15T20:22:08.191Z"
   },
   {
    "duration": 760,
    "start_time": "2023-03-15T20:22:09.400Z"
   },
   {
    "duration": 513,
    "start_time": "2023-03-15T20:22:10.162Z"
   },
   {
    "duration": 322,
    "start_time": "2023-03-15T20:22:10.677Z"
   },
   {
    "duration": 644,
    "start_time": "2023-03-15T20:22:11.001Z"
   },
   {
    "duration": 526,
    "start_time": "2023-03-15T20:22:11.653Z"
   },
   {
    "duration": 6,
    "start_time": "2023-03-15T20:22:12.181Z"
   },
   {
    "duration": 6,
    "start_time": "2023-03-15T20:22:12.189Z"
   },
   {
    "duration": 6,
    "start_time": "2023-03-15T20:22:12.196Z"
   },
   {
    "duration": 7,
    "start_time": "2023-03-15T20:22:12.203Z"
   },
   {
    "duration": 901,
    "start_time": "2023-03-15T20:22:12.211Z"
   },
   {
    "duration": 875,
    "start_time": "2023-03-15T20:22:13.114Z"
   },
   {
    "duration": 890,
    "start_time": "2023-03-15T20:22:13.991Z"
   },
   {
    "duration": 4,
    "start_time": "2023-03-15T20:22:14.884Z"
   },
   {
    "duration": 9,
    "start_time": "2023-03-15T20:22:14.889Z"
   },
   {
    "duration": 6515,
    "start_time": "2023-03-15T20:22:14.899Z"
   },
   {
    "duration": 339,
    "start_time": "2023-03-15T20:22:21.416Z"
   },
   {
    "duration": 0,
    "start_time": "2023-03-15T20:22:21.757Z"
   },
   {
    "duration": 0,
    "start_time": "2023-03-15T20:22:21.758Z"
   },
   {
    "duration": 1537,
    "start_time": "2023-03-15T20:22:50.390Z"
   },
   {
    "duration": 728,
    "start_time": "2023-03-15T20:22:51.930Z"
   },
   {
    "duration": 33,
    "start_time": "2023-03-15T20:22:52.661Z"
   },
   {
    "duration": 24,
    "start_time": "2023-03-15T20:22:52.698Z"
   },
   {
    "duration": 54,
    "start_time": "2023-03-15T20:22:52.724Z"
   },
   {
    "duration": 4,
    "start_time": "2023-03-15T20:22:52.780Z"
   },
   {
    "duration": 27,
    "start_time": "2023-03-15T20:22:52.786Z"
   },
   {
    "duration": 11,
    "start_time": "2023-03-15T20:22:52.815Z"
   },
   {
    "duration": 219,
    "start_time": "2023-03-15T20:22:52.828Z"
   },
   {
    "duration": 6,
    "start_time": "2023-03-15T20:22:53.050Z"
   },
   {
    "duration": 12,
    "start_time": "2023-03-15T20:22:53.058Z"
   },
   {
    "duration": 9,
    "start_time": "2023-03-15T20:22:53.072Z"
   },
   {
    "duration": 9,
    "start_time": "2023-03-15T20:22:53.083Z"
   },
   {
    "duration": 64,
    "start_time": "2023-03-15T20:22:53.094Z"
   },
   {
    "duration": 14,
    "start_time": "2023-03-15T20:22:53.162Z"
   },
   {
    "duration": 6,
    "start_time": "2023-03-15T20:22:53.178Z"
   },
   {
    "duration": 20,
    "start_time": "2023-03-15T20:22:53.186Z"
   },
   {
    "duration": 161,
    "start_time": "2023-03-15T20:22:53.208Z"
   },
   {
    "duration": 26,
    "start_time": "2023-03-15T20:22:53.371Z"
   },
   {
    "duration": 114,
    "start_time": "2023-03-15T20:22:53.399Z"
   },
   {
    "duration": 747,
    "start_time": "2023-03-15T20:22:53.515Z"
   },
   {
    "duration": 1202,
    "start_time": "2023-03-15T20:22:54.264Z"
   },
   {
    "duration": 775,
    "start_time": "2023-03-15T20:22:55.468Z"
   },
   {
    "duration": 539,
    "start_time": "2023-03-15T20:22:56.244Z"
   },
   {
    "duration": 357,
    "start_time": "2023-03-15T20:22:56.784Z"
   },
   {
    "duration": 610,
    "start_time": "2023-03-15T20:22:57.144Z"
   },
   {
    "duration": 537,
    "start_time": "2023-03-15T20:22:57.756Z"
   },
   {
    "duration": 5,
    "start_time": "2023-03-15T20:22:58.299Z"
   },
   {
    "duration": 6,
    "start_time": "2023-03-15T20:22:58.306Z"
   },
   {
    "duration": 11,
    "start_time": "2023-03-15T20:22:58.314Z"
   },
   {
    "duration": 25,
    "start_time": "2023-03-15T20:22:58.328Z"
   },
   {
    "duration": 928,
    "start_time": "2023-03-15T20:22:58.355Z"
   },
   {
    "duration": 973,
    "start_time": "2023-03-15T20:22:59.285Z"
   },
   {
    "duration": 934,
    "start_time": "2023-03-15T20:23:00.260Z"
   },
   {
    "duration": 3,
    "start_time": "2023-03-15T20:23:01.198Z"
   },
   {
    "duration": 29,
    "start_time": "2023-03-15T20:23:01.203Z"
   },
   {
    "duration": 31,
    "start_time": "2023-03-15T20:23:01.234Z"
   },
   {
    "duration": 2000,
    "start_time": "2023-03-15T20:23:01.267Z"
   },
   {
    "duration": 3,
    "start_time": "2023-03-15T20:23:03.269Z"
   },
   {
    "duration": 89,
    "start_time": "2023-03-15T20:23:03.274Z"
   },
   {
    "duration": 163147,
    "start_time": "2023-03-15T20:25:43.441Z"
   },
   {
    "duration": 162785,
    "start_time": "2023-03-15T20:38:18.413Z"
   },
   {
    "duration": 21,
    "start_time": "2023-03-15T20:59:05.576Z"
   },
   {
    "duration": 21,
    "start_time": "2023-03-15T20:59:18.989Z"
   },
   {
    "duration": 13,
    "start_time": "2023-03-15T20:59:40.981Z"
   },
   {
    "duration": 3,
    "start_time": "2023-03-15T21:08:12.003Z"
   },
   {
    "duration": 89,
    "start_time": "2023-03-16T12:11:37.677Z"
   },
   {
    "duration": 87,
    "start_time": "2023-03-16T12:11:43.698Z"
   },
   {
    "duration": 1743,
    "start_time": "2023-03-16T12:16:43.606Z"
   },
   {
    "duration": 2526,
    "start_time": "2023-03-16T12:16:45.352Z"
   },
   {
    "duration": 23,
    "start_time": "2023-03-16T12:16:47.881Z"
   },
   {
    "duration": 15,
    "start_time": "2023-03-16T12:16:47.907Z"
   },
   {
    "duration": 28,
    "start_time": "2023-03-16T12:16:47.924Z"
   },
   {
    "duration": 24,
    "start_time": "2023-03-16T12:16:47.958Z"
   },
   {
    "duration": 27,
    "start_time": "2023-03-16T12:16:47.984Z"
   },
   {
    "duration": 12,
    "start_time": "2023-03-16T12:16:48.013Z"
   },
   {
    "duration": 196,
    "start_time": "2023-03-16T12:16:48.027Z"
   },
   {
    "duration": 5,
    "start_time": "2023-03-16T12:16:48.226Z"
   },
   {
    "duration": 51,
    "start_time": "2023-03-16T12:16:48.233Z"
   },
   {
    "duration": 21,
    "start_time": "2023-03-16T12:16:48.285Z"
   },
   {
    "duration": 13,
    "start_time": "2023-03-16T12:16:48.308Z"
   },
   {
    "duration": 63,
    "start_time": "2023-03-16T12:16:48.323Z"
   },
   {
    "duration": 9,
    "start_time": "2023-03-16T12:16:48.510Z"
   },
   {
    "duration": 4,
    "start_time": "2023-03-16T12:16:48.622Z"
   },
   {
    "duration": 27,
    "start_time": "2023-03-16T12:16:49.259Z"
   },
   {
    "duration": 134,
    "start_time": "2023-03-16T12:16:50.085Z"
   },
   {
    "duration": 32,
    "start_time": "2023-03-16T12:16:50.701Z"
   },
   {
    "duration": 98,
    "start_time": "2023-03-16T12:16:50.989Z"
   },
   {
    "duration": 659,
    "start_time": "2023-03-16T12:16:55.329Z"
   },
   {
    "duration": 1448,
    "start_time": "2023-03-16T12:16:56.501Z"
   },
   {
    "duration": 911,
    "start_time": "2023-03-16T12:16:58.395Z"
   },
   {
    "duration": 522,
    "start_time": "2023-03-16T12:21:34.677Z"
   },
   {
    "duration": 344,
    "start_time": "2023-03-16T12:21:35.325Z"
   },
   {
    "duration": 600,
    "start_time": "2023-03-16T12:21:36.309Z"
   },
   {
    "duration": 513,
    "start_time": "2023-03-16T12:21:37.942Z"
   },
   {
    "duration": 127,
    "start_time": "2023-03-16T12:21:50.928Z"
   },
   {
    "duration": 463,
    "start_time": "2023-03-16T12:22:46.857Z"
   },
   {
    "duration": 272,
    "start_time": "2023-03-16T12:23:02.854Z"
   },
   {
    "duration": 264,
    "start_time": "2023-03-16T12:23:03.909Z"
   },
   {
    "duration": 563,
    "start_time": "2023-03-16T12:23:06.326Z"
   },
   {
    "duration": 530,
    "start_time": "2023-03-16T12:24:28.068Z"
   },
   {
    "duration": 15,
    "start_time": "2023-03-16T12:31:43.635Z"
   },
   {
    "duration": 20,
    "start_time": "2023-03-16T12:32:29.533Z"
   },
   {
    "duration": 17,
    "start_time": "2023-03-16T12:32:59.332Z"
   },
   {
    "duration": 109,
    "start_time": "2023-03-16T12:33:04.990Z"
   },
   {
    "duration": 125,
    "start_time": "2023-03-16T12:33:18.501Z"
   },
   {
    "duration": 473,
    "start_time": "2023-03-16T12:33:30.814Z"
   },
   {
    "duration": 74,
    "start_time": "2023-03-16T12:34:03.361Z"
   },
   {
    "duration": 89,
    "start_time": "2023-03-16T12:34:11.827Z"
   },
   {
    "duration": 848,
    "start_time": "2023-03-16T12:34:17.129Z"
   },
   {
    "duration": 754,
    "start_time": "2023-03-16T12:37:16.516Z"
   },
   {
    "duration": 178,
    "start_time": "2023-03-16T12:49:34.156Z"
   },
   {
    "duration": 153,
    "start_time": "2023-03-16T12:50:17.129Z"
   },
   {
    "duration": 9,
    "start_time": "2023-03-16T12:50:21.952Z"
   },
   {
    "duration": 121,
    "start_time": "2023-03-16T12:50:26.780Z"
   },
   {
    "duration": 2662,
    "start_time": "2023-03-16T12:50:48.212Z"
   },
   {
    "duration": 2641,
    "start_time": "2023-03-16T12:51:37.430Z"
   },
   {
    "duration": 2893,
    "start_time": "2023-03-16T12:52:07.897Z"
   },
   {
    "duration": 4,
    "start_time": "2023-03-16T13:06:36.699Z"
   },
   {
    "duration": 3,
    "start_time": "2023-03-16T13:08:17.009Z"
   },
   {
    "duration": 4,
    "start_time": "2023-03-16T13:08:30.917Z"
   },
   {
    "duration": 311,
    "start_time": "2023-03-16T13:08:31.793Z"
   },
   {
    "duration": 1293,
    "start_time": "2023-03-16T13:08:33.251Z"
   },
   {
    "duration": 1566,
    "start_time": "2023-03-16T13:13:03.359Z"
   },
   {
    "duration": 697,
    "start_time": "2023-03-16T13:13:04.927Z"
   },
   {
    "duration": 19,
    "start_time": "2023-03-16T13:13:05.626Z"
   },
   {
    "duration": 19,
    "start_time": "2023-03-16T13:13:05.647Z"
   },
   {
    "duration": 28,
    "start_time": "2023-03-16T13:13:05.669Z"
   },
   {
    "duration": 3,
    "start_time": "2023-03-16T13:13:05.699Z"
   },
   {
    "duration": 17,
    "start_time": "2023-03-16T13:13:05.703Z"
   },
   {
    "duration": 18,
    "start_time": "2023-03-16T13:13:05.722Z"
   },
   {
    "duration": 205,
    "start_time": "2023-03-16T13:13:05.742Z"
   },
   {
    "duration": 6,
    "start_time": "2023-03-16T13:13:05.949Z"
   },
   {
    "duration": 35,
    "start_time": "2023-03-16T13:13:05.956Z"
   },
   {
    "duration": 23,
    "start_time": "2023-03-16T13:13:05.992Z"
   },
   {
    "duration": 12,
    "start_time": "2023-03-16T13:13:06.016Z"
   },
   {
    "duration": 16,
    "start_time": "2023-03-16T13:13:06.031Z"
   },
   {
    "duration": 10,
    "start_time": "2023-03-16T13:13:06.049Z"
   },
   {
    "duration": 8,
    "start_time": "2023-03-16T13:13:06.061Z"
   },
   {
    "duration": 26,
    "start_time": "2023-03-16T13:13:06.071Z"
   },
   {
    "duration": 129,
    "start_time": "2023-03-16T13:13:06.099Z"
   },
   {
    "duration": 28,
    "start_time": "2023-03-16T13:13:06.231Z"
   },
   {
    "duration": 107,
    "start_time": "2023-03-16T13:13:06.260Z"
   },
   {
    "duration": 613,
    "start_time": "2023-03-16T13:13:06.369Z"
   },
   {
    "duration": 1085,
    "start_time": "2023-03-16T13:13:06.984Z"
   },
   {
    "duration": 757,
    "start_time": "2023-03-16T13:13:08.071Z"
   },
   {
    "duration": 68,
    "start_time": "2023-03-16T13:13:08.830Z"
   },
   {
    "duration": 0,
    "start_time": "2023-03-16T13:13:08.900Z"
   },
   {
    "duration": 0,
    "start_time": "2023-03-16T13:13:08.901Z"
   },
   {
    "duration": 0,
    "start_time": "2023-03-16T13:13:08.902Z"
   },
   {
    "duration": 0,
    "start_time": "2023-03-16T13:13:08.904Z"
   },
   {
    "duration": 0,
    "start_time": "2023-03-16T13:13:08.905Z"
   },
   {
    "duration": 0,
    "start_time": "2023-03-16T13:13:08.906Z"
   },
   {
    "duration": 0,
    "start_time": "2023-03-16T13:13:08.907Z"
   },
   {
    "duration": 0,
    "start_time": "2023-03-16T13:13:08.909Z"
   },
   {
    "duration": 0,
    "start_time": "2023-03-16T13:13:08.910Z"
   },
   {
    "duration": 0,
    "start_time": "2023-03-16T13:13:08.911Z"
   },
   {
    "duration": 0,
    "start_time": "2023-03-16T13:13:08.913Z"
   },
   {
    "duration": 1415,
    "start_time": "2023-03-16T13:13:34.108Z"
   },
   {
    "duration": 659,
    "start_time": "2023-03-16T13:13:35.525Z"
   },
   {
    "duration": 21,
    "start_time": "2023-03-16T13:13:36.186Z"
   },
   {
    "duration": 13,
    "start_time": "2023-03-16T13:13:36.208Z"
   },
   {
    "duration": 17,
    "start_time": "2023-03-16T13:13:36.239Z"
   },
   {
    "duration": 12,
    "start_time": "2023-03-16T13:13:36.257Z"
   },
   {
    "duration": 30,
    "start_time": "2023-03-16T13:13:36.271Z"
   },
   {
    "duration": 8,
    "start_time": "2023-03-16T13:13:36.303Z"
   },
   {
    "duration": 209,
    "start_time": "2023-03-16T13:13:36.314Z"
   },
   {
    "duration": 5,
    "start_time": "2023-03-16T13:13:36.525Z"
   },
   {
    "duration": 29,
    "start_time": "2023-03-16T13:13:36.532Z"
   },
   {
    "duration": 19,
    "start_time": "2023-03-16T13:13:36.563Z"
   },
   {
    "duration": 19,
    "start_time": "2023-03-16T13:13:36.583Z"
   },
   {
    "duration": 10,
    "start_time": "2023-03-16T13:13:36.605Z"
   },
   {
    "duration": 10,
    "start_time": "2023-03-16T13:13:36.617Z"
   },
   {
    "duration": 4,
    "start_time": "2023-03-16T13:13:36.628Z"
   },
   {
    "duration": 21,
    "start_time": "2023-03-16T13:13:36.634Z"
   },
   {
    "duration": 111,
    "start_time": "2023-03-16T13:13:36.657Z"
   },
   {
    "duration": 22,
    "start_time": "2023-03-16T13:13:36.769Z"
   },
   {
    "duration": 100,
    "start_time": "2023-03-16T13:13:36.793Z"
   },
   {
    "duration": 575,
    "start_time": "2023-03-16T13:13:36.895Z"
   },
   {
    "duration": 1012,
    "start_time": "2023-03-16T13:13:37.472Z"
   },
   {
    "duration": 720,
    "start_time": "2023-03-16T13:13:38.486Z"
   },
   {
    "duration": 747,
    "start_time": "2023-03-16T13:13:39.208Z"
   },
   {
    "duration": 750,
    "start_time": "2023-03-16T13:13:39.957Z"
   },
   {
    "duration": 6,
    "start_time": "2023-03-16T13:13:40.709Z"
   },
   {
    "duration": 2383,
    "start_time": "2023-03-16T13:13:40.717Z"
   },
   {
    "duration": 2327,
    "start_time": "2023-03-16T13:13:43.102Z"
   },
   {
    "duration": 2361,
    "start_time": "2023-03-16T13:13:45.430Z"
   },
   {
    "duration": 5,
    "start_time": "2023-03-16T13:13:47.792Z"
   },
   {
    "duration": 19,
    "start_time": "2023-03-16T13:13:47.798Z"
   },
   {
    "duration": 299,
    "start_time": "2023-03-16T13:13:47.818Z"
   },
   {
    "duration": 0,
    "start_time": "2023-03-16T13:13:48.119Z"
   },
   {
    "duration": 0,
    "start_time": "2023-03-16T13:13:48.121Z"
   },
   {
    "duration": 0,
    "start_time": "2023-03-16T13:13:48.122Z"
   },
   {
    "duration": 160,
    "start_time": "2023-03-16T13:19:25.186Z"
   },
   {
    "duration": 1814,
    "start_time": "2023-03-16T13:19:41.128Z"
   },
   {
    "duration": 642,
    "start_time": "2023-03-16T13:20:05.323Z"
   },
   {
    "duration": 17,
    "start_time": "2023-03-16T13:26:31.368Z"
   },
   {
    "duration": 36,
    "start_time": "2023-03-16T13:27:22.996Z"
   },
   {
    "duration": 3,
    "start_time": "2023-03-16T13:27:54.362Z"
   },
   {
    "duration": 20,
    "start_time": "2023-03-16T13:27:59.605Z"
   },
   {
    "duration": 18,
    "start_time": "2023-03-16T13:28:16.333Z"
   },
   {
    "duration": 50018,
    "start_time": "2023-03-16T13:29:06.777Z"
   },
   {
    "duration": 1768,
    "start_time": "2023-03-17T09:56:34.698Z"
   },
   {
    "duration": 2320,
    "start_time": "2023-03-17T09:56:36.469Z"
   },
   {
    "duration": 22,
    "start_time": "2023-03-17T09:56:38.791Z"
   },
   {
    "duration": 18,
    "start_time": "2023-03-17T09:56:38.816Z"
   },
   {
    "duration": 36,
    "start_time": "2023-03-17T09:56:38.836Z"
   },
   {
    "duration": 3,
    "start_time": "2023-03-17T09:56:38.874Z"
   },
   {
    "duration": 23,
    "start_time": "2023-03-17T09:56:38.880Z"
   },
   {
    "duration": 8,
    "start_time": "2023-03-17T09:56:38.906Z"
   },
   {
    "duration": 204,
    "start_time": "2023-03-17T09:56:38.920Z"
   },
   {
    "duration": 7,
    "start_time": "2023-03-17T09:56:39.153Z"
   },
   {
    "duration": 11,
    "start_time": "2023-03-17T09:56:40.639Z"
   },
   {
    "duration": 10,
    "start_time": "2023-03-17T09:56:53.432Z"
   },
   {
    "duration": 9,
    "start_time": "2023-03-17T09:56:53.985Z"
   },
   {
    "duration": 12,
    "start_time": "2023-03-17T09:56:57.042Z"
   },
   {
    "duration": 14,
    "start_time": "2023-03-17T09:56:57.878Z"
   },
   {
    "duration": 5,
    "start_time": "2023-03-17T09:56:58.361Z"
   },
   {
    "duration": 16,
    "start_time": "2023-03-17T09:56:58.660Z"
   },
   {
    "duration": 132,
    "start_time": "2023-03-17T09:57:01.403Z"
   },
   {
    "duration": 26,
    "start_time": "2023-03-17T09:57:01.550Z"
   },
   {
    "duration": 115,
    "start_time": "2023-03-17T09:57:02.303Z"
   },
   {
    "duration": 632,
    "start_time": "2023-03-17T09:57:08.186Z"
   },
   {
    "duration": 1118,
    "start_time": "2023-03-17T09:57:08.855Z"
   },
   {
    "duration": 821,
    "start_time": "2023-03-17T09:57:14.078Z"
   },
   {
    "duration": 831,
    "start_time": "2023-03-17T09:57:27.515Z"
   },
   {
    "duration": 675,
    "start_time": "2023-03-17T09:57:28.349Z"
   },
   {
    "duration": 5,
    "start_time": "2023-03-17T11:30:54.624Z"
   },
   {
    "duration": 5,
    "start_time": "2023-03-17T11:30:55.335Z"
   },
   {
    "duration": 1310,
    "start_time": "2023-03-17T11:30:56.784Z"
   },
   {
    "duration": 0,
    "start_time": "2023-03-17T11:30:58.096Z"
   },
   {
    "duration": 5,
    "start_time": "2023-03-17T11:34:33.913Z"
   },
   {
    "duration": 4,
    "start_time": "2023-03-17T11:34:50.710Z"
   },
   {
    "duration": 4,
    "start_time": "2023-03-17T11:34:52.322Z"
   },
   {
    "duration": 811,
    "start_time": "2023-03-17T11:34:55.441Z"
   },
   {
    "duration": 438,
    "start_time": "2023-03-17T11:35:36.014Z"
   },
   {
    "duration": 458,
    "start_time": "2023-03-17T11:35:58.093Z"
   },
   {
    "duration": 936,
    "start_time": "2023-03-17T11:36:07.923Z"
   },
   {
    "duration": 2278,
    "start_time": "2023-03-18T08:24:25.768Z"
   },
   {
    "duration": 0,
    "start_time": "2023-03-18T08:24:28.051Z"
   },
   {
    "duration": 0,
    "start_time": "2023-03-18T08:24:28.055Z"
   },
   {
    "duration": 0,
    "start_time": "2023-03-18T08:24:28.059Z"
   },
   {
    "duration": 0,
    "start_time": "2023-03-18T08:24:28.063Z"
   },
   {
    "duration": 0,
    "start_time": "2023-03-18T08:24:28.066Z"
   },
   {
    "duration": 0,
    "start_time": "2023-03-18T08:24:28.074Z"
   },
   {
    "duration": 12,
    "start_time": "2023-03-18T08:24:28.323Z"
   },
   {
    "duration": 13,
    "start_time": "2023-03-18T08:24:28.693Z"
   },
   {
    "duration": 15,
    "start_time": "2023-03-18T08:24:29.077Z"
   },
   {
    "duration": 14,
    "start_time": "2023-03-18T08:24:29.282Z"
   },
   {
    "duration": 9,
    "start_time": "2023-03-18T08:24:50.113Z"
   },
   {
    "duration": 2971,
    "start_time": "2023-03-18T08:24:50.467Z"
   },
   {
    "duration": 25,
    "start_time": "2023-03-18T08:24:53.465Z"
   },
   {
    "duration": 19,
    "start_time": "2023-03-18T08:24:53.492Z"
   },
   {
    "duration": 35,
    "start_time": "2023-03-18T08:24:53.514Z"
   },
   {
    "duration": 8,
    "start_time": "2023-03-18T08:24:53.559Z"
   },
   {
    "duration": 25,
    "start_time": "2023-03-18T08:24:53.568Z"
   },
   {
    "duration": 11,
    "start_time": "2023-03-18T08:24:53.595Z"
   },
   {
    "duration": 290,
    "start_time": "2023-03-18T08:24:53.608Z"
   },
   {
    "duration": 8,
    "start_time": "2023-03-18T08:24:53.901Z"
   },
   {
    "duration": 16,
    "start_time": "2023-03-18T08:24:53.911Z"
   },
   {
    "duration": 19,
    "start_time": "2023-03-18T08:24:54.530Z"
   },
   {
    "duration": 10,
    "start_time": "2023-03-18T08:24:55.101Z"
   },
   {
    "duration": 15,
    "start_time": "2023-03-18T08:24:55.257Z"
   },
   {
    "duration": 22,
    "start_time": "2023-03-18T08:24:55.439Z"
   },
   {
    "duration": 5,
    "start_time": "2023-03-18T08:24:55.566Z"
   },
   {
    "duration": 16,
    "start_time": "2023-03-18T08:24:55.692Z"
   },
   {
    "duration": 153,
    "start_time": "2023-03-18T08:24:56.397Z"
   },
   {
    "duration": 40,
    "start_time": "2023-03-18T08:24:56.997Z"
   },
   {
    "duration": 153,
    "start_time": "2023-03-18T08:24:57.960Z"
   },
   {
    "duration": 664,
    "start_time": "2023-03-18T08:25:00.597Z"
   },
   {
    "duration": 1065,
    "start_time": "2023-03-18T08:25:01.264Z"
   },
   {
    "duration": 774,
    "start_time": "2023-03-18T08:25:02.331Z"
   },
   {
    "duration": 949,
    "start_time": "2023-03-18T08:25:03.597Z"
   },
   {
    "duration": 880,
    "start_time": "2023-03-18T08:25:04.552Z"
   },
   {
    "duration": 6,
    "start_time": "2023-03-18T08:25:09.193Z"
   },
   {
    "duration": 4,
    "start_time": "2023-03-18T08:25:10.062Z"
   },
   {
    "duration": 5,
    "start_time": "2023-03-18T08:25:11.261Z"
   },
   {
    "duration": 3,
    "start_time": "2023-03-18T08:25:11.896Z"
   },
   {
    "duration": 349,
    "start_time": "2023-03-18T08:25:12.786Z"
   },
   {
    "duration": 6,
    "start_time": "2023-03-18T08:25:28.263Z"
   },
   {
    "duration": 578,
    "start_time": "2023-03-18T08:33:26.133Z"
   },
   {
    "duration": 23,
    "start_time": "2023-03-18T08:34:39.538Z"
   },
   {
    "duration": 8,
    "start_time": "2023-03-18T08:34:40.094Z"
   },
   {
    "duration": 5,
    "start_time": "2023-03-18T08:34:40.700Z"
   },
   {
    "duration": 18,
    "start_time": "2023-03-18T08:34:41.447Z"
   },
   {
    "duration": 9,
    "start_time": "2023-03-18T08:36:51.514Z"
   },
   {
    "duration": 11,
    "start_time": "2023-03-18T08:36:51.939Z"
   },
   {
    "duration": 5,
    "start_time": "2023-03-18T08:36:52.329Z"
   },
   {
    "duration": 4,
    "start_time": "2023-03-18T08:36:52.834Z"
   },
   {
    "duration": 7,
    "start_time": "2023-03-18T08:37:50.667Z"
   },
   {
    "duration": 7,
    "start_time": "2023-03-18T08:37:51.020Z"
   },
   {
    "duration": 8,
    "start_time": "2023-03-18T08:37:51.331Z"
   },
   {
    "duration": 4,
    "start_time": "2023-03-18T08:37:51.718Z"
   },
   {
    "duration": 13,
    "start_time": "2023-03-18T08:37:52.771Z"
   },
   {
    "duration": 25,
    "start_time": "2023-03-18T08:38:00.814Z"
   },
   {
    "duration": 36,
    "start_time": "2023-03-18T08:38:07.722Z"
   },
   {
    "duration": 23,
    "start_time": "2023-03-18T08:38:55.861Z"
   },
   {
    "duration": 20,
    "start_time": "2023-03-18T08:39:15.960Z"
   },
   {
    "duration": 41,
    "start_time": "2023-03-18T08:40:18.316Z"
   },
   {
    "duration": 9,
    "start_time": "2023-03-18T08:42:52.109Z"
   },
   {
    "duration": 5,
    "start_time": "2023-03-18T08:43:13.832Z"
   },
   {
    "duration": 8,
    "start_time": "2023-03-18T08:43:57.610Z"
   },
   {
    "duration": 11,
    "start_time": "2023-03-18T08:44:22.995Z"
   },
   {
    "duration": 4,
    "start_time": "2023-03-18T08:44:34.503Z"
   },
   {
    "duration": 20,
    "start_time": "2023-03-18T08:45:57.584Z"
   },
   {
    "duration": 13,
    "start_time": "2023-03-18T08:47:18.756Z"
   },
   {
    "duration": 13,
    "start_time": "2023-03-18T08:47:27.993Z"
   },
   {
    "duration": 7,
    "start_time": "2023-03-18T09:08:32.958Z"
   },
   {
    "duration": 5,
    "start_time": "2023-03-18T09:08:33.490Z"
   },
   {
    "duration": 7,
    "start_time": "2023-03-18T09:08:33.667Z"
   },
   {
    "duration": 3,
    "start_time": "2023-03-18T09:08:34.191Z"
   },
   {
    "duration": 18,
    "start_time": "2023-03-18T09:08:37.063Z"
   },
   {
    "duration": 17,
    "start_time": "2023-03-18T09:12:23.011Z"
   },
   {
    "duration": 5,
    "start_time": "2023-03-18T09:16:09.333Z"
   },
   {
    "duration": 25,
    "start_time": "2023-03-18T09:17:50.675Z"
   },
   {
    "duration": 24,
    "start_time": "2023-03-18T09:18:54.279Z"
   },
   {
    "duration": 25,
    "start_time": "2023-03-18T09:21:41.538Z"
   },
   {
    "duration": 18,
    "start_time": "2023-03-18T09:21:56.291Z"
   },
   {
    "duration": 12,
    "start_time": "2023-03-18T09:22:16.583Z"
   },
   {
    "duration": 22,
    "start_time": "2023-03-18T09:29:08.576Z"
   },
   {
    "duration": 18,
    "start_time": "2023-03-18T09:29:27.157Z"
   },
   {
    "duration": 24,
    "start_time": "2023-03-18T09:31:42.239Z"
   },
   {
    "duration": 17,
    "start_time": "2023-03-18T09:43:03.560Z"
   },
   {
    "duration": 23,
    "start_time": "2023-03-18T09:49:41.660Z"
   },
   {
    "duration": 17,
    "start_time": "2023-03-18T09:51:51.360Z"
   },
   {
    "duration": 44,
    "start_time": "2023-03-18T09:52:35.311Z"
   },
   {
    "duration": 37,
    "start_time": "2023-03-18T09:53:29.385Z"
   },
   {
    "duration": 89,
    "start_time": "2023-03-18T09:54:52.472Z"
   },
   {
    "duration": 1739,
    "start_time": "2023-03-18T09:55:31.259Z"
   },
   {
    "duration": 1331,
    "start_time": "2023-03-18T10:04:32.729Z"
   },
   {
    "duration": 6,
    "start_time": "2023-03-18T10:04:45.170Z"
   },
   {
    "duration": 7,
    "start_time": "2023-03-18T10:04:45.575Z"
   },
   {
    "duration": 3,
    "start_time": "2023-03-18T10:04:46.312Z"
   },
   {
    "duration": 14335,
    "start_time": "2023-03-18T10:04:46.875Z"
   },
   {
    "duration": 14121,
    "start_time": "2023-03-18T10:05:42.059Z"
   },
   {
    "duration": 321132,
    "start_time": "2023-03-18T10:06:11.437Z"
   },
   {
    "duration": 1421268,
    "start_time": "2023-03-18T10:11:42.500Z"
   },
   {
    "duration": 0,
    "start_time": "2023-03-18T10:35:23.770Z"
   },
   {
    "duration": 0,
    "start_time": "2023-03-18T10:35:23.771Z"
   },
   {
    "duration": 0,
    "start_time": "2023-03-18T10:35:23.772Z"
   },
   {
    "duration": 0,
    "start_time": "2023-03-18T10:35:23.774Z"
   },
   {
    "duration": 3,
    "start_time": "2023-03-18T10:35:38.659Z"
   },
   {
    "duration": 5,
    "start_time": "2023-03-18T10:35:38.950Z"
   },
   {
    "duration": 5,
    "start_time": "2023-03-18T10:35:39.402Z"
   },
   {
    "duration": 470,
    "start_time": "2023-03-18T10:35:40.121Z"
   },
   {
    "duration": 320,
    "start_time": "2023-03-18T10:35:40.786Z"
   },
   {
    "duration": 483910,
    "start_time": "2023-03-18T10:37:22.609Z"
   },
   {
    "duration": 0,
    "start_time": "2023-03-18T10:45:26.521Z"
   },
   {
    "duration": 0,
    "start_time": "2023-03-18T10:45:26.522Z"
   },
   {
    "duration": 5,
    "start_time": "2023-03-18T10:55:53.297Z"
   },
   {
    "duration": 4,
    "start_time": "2023-03-18T10:55:53.830Z"
   },
   {
    "duration": 4,
    "start_time": "2023-03-18T10:55:54.814Z"
   },
   {
    "duration": 385,
    "start_time": "2023-03-18T10:55:56.610Z"
   },
   {
    "duration": 31,
    "start_time": "2023-03-18T10:55:57.272Z"
   },
   {
    "duration": 609,
    "start_time": "2023-03-18T10:55:57.498Z"
   },
   {
    "duration": 4,
    "start_time": "2023-03-18T10:56:55.823Z"
   },
   {
    "duration": 6,
    "start_time": "2023-03-18T10:56:56.370Z"
   },
   {
    "duration": 5,
    "start_time": "2023-03-18T10:56:56.876Z"
   },
   {
    "duration": 310,
    "start_time": "2023-03-18T10:56:57.869Z"
   },
   {
    "duration": 24,
    "start_time": "2023-03-18T10:56:59.731Z"
   },
   {
    "duration": 465,
    "start_time": "2023-03-18T10:57:12.625Z"
   },
   {
    "duration": 541,
    "start_time": "2023-03-18T10:57:17.870Z"
   },
   {
    "duration": 168,
    "start_time": "2023-03-18T10:58:06.320Z"
   },
   {
    "duration": 157,
    "start_time": "2023-03-18T10:58:38.632Z"
   },
   {
    "duration": 147,
    "start_time": "2023-03-18T10:59:18.167Z"
   },
   {
    "duration": 114,
    "start_time": "2023-03-18T11:00:17.670Z"
   },
   {
    "duration": 18,
    "start_time": "2023-03-18T11:00:42.249Z"
   },
   {
    "duration": 20,
    "start_time": "2023-03-18T11:00:50.843Z"
   },
   {
    "duration": 172,
    "start_time": "2023-03-18T11:01:22.712Z"
   },
   {
    "duration": 444,
    "start_time": "2023-03-18T11:01:39.885Z"
   },
   {
    "duration": 508917,
    "start_time": "2023-03-18T11:01:49.232Z"
   },
   {
    "duration": 1364587,
    "start_time": "2023-03-18T11:18:36.510Z"
   },
   {
    "duration": 0,
    "start_time": "2023-03-18T11:41:21.099Z"
   },
   {
    "duration": 1728,
    "start_time": "2023-03-18T17:14:39.203Z"
   },
   {
    "duration": 2771,
    "start_time": "2023-03-18T17:14:40.933Z"
   },
   {
    "duration": 20,
    "start_time": "2023-03-18T17:14:43.706Z"
   },
   {
    "duration": 14,
    "start_time": "2023-03-18T17:14:43.728Z"
   },
   {
    "duration": 30,
    "start_time": "2023-03-18T17:14:43.744Z"
   },
   {
    "duration": 3,
    "start_time": "2023-03-18T17:14:43.776Z"
   },
   {
    "duration": 15,
    "start_time": "2023-03-18T17:14:43.781Z"
   },
   {
    "duration": 8,
    "start_time": "2023-03-18T17:14:43.797Z"
   },
   {
    "duration": 208,
    "start_time": "2023-03-18T17:14:43.808Z"
   },
   {
    "duration": 5,
    "start_time": "2023-03-18T17:14:44.018Z"
   },
   {
    "duration": 15,
    "start_time": "2023-03-18T17:14:44.025Z"
   },
   {
    "duration": 10,
    "start_time": "2023-03-18T17:14:44.041Z"
   },
   {
    "duration": 6,
    "start_time": "2023-03-18T17:14:44.053Z"
   },
   {
    "duration": 15,
    "start_time": "2023-03-18T17:14:44.062Z"
   },
   {
    "duration": 12,
    "start_time": "2023-03-18T17:14:44.079Z"
   },
   {
    "duration": 4,
    "start_time": "2023-03-18T17:14:44.093Z"
   },
   {
    "duration": 16,
    "start_time": "2023-03-18T17:14:44.099Z"
   },
   {
    "duration": 176,
    "start_time": "2023-03-18T17:14:44.117Z"
   },
   {
    "duration": 31,
    "start_time": "2023-03-18T17:14:44.296Z"
   },
   {
    "duration": 125,
    "start_time": "2023-03-18T17:14:44.329Z"
   },
   {
    "duration": 663,
    "start_time": "2023-03-18T17:14:44.456Z"
   },
   {
    "duration": 1190,
    "start_time": "2023-03-18T17:14:45.121Z"
   },
   {
    "duration": 873,
    "start_time": "2023-03-18T17:14:46.313Z"
   },
   {
    "duration": 865,
    "start_time": "2023-03-18T17:14:47.188Z"
   },
   {
    "duration": 707,
    "start_time": "2023-03-18T17:14:48.056Z"
   },
   {
    "duration": 10,
    "start_time": "2023-03-18T17:14:48.765Z"
   },
   {
    "duration": 5,
    "start_time": "2023-03-18T17:14:48.777Z"
   },
   {
    "duration": 6,
    "start_time": "2023-03-18T17:14:48.784Z"
   },
   {
    "duration": 410,
    "start_time": "2023-03-18T17:14:48.791Z"
   },
   {
    "duration": 379,
    "start_time": "2023-03-18T17:14:49.203Z"
   },
   {
    "duration": 823,
    "start_time": "2023-03-18T17:14:49.585Z"
   },
   {
    "duration": 6,
    "start_time": "2023-03-18T17:14:50.410Z"
   },
   {
    "duration": 47,
    "start_time": "2023-03-18T17:14:50.418Z"
   },
   {
    "duration": 340035,
    "start_time": "2023-03-18T17:14:50.468Z"
   },
   {
    "duration": 0,
    "start_time": "2023-03-18T17:20:30.505Z"
   },
   {
    "duration": 1,
    "start_time": "2023-03-18T17:20:30.507Z"
   },
   {
    "duration": 0,
    "start_time": "2023-03-18T17:20:30.510Z"
   },
   {
    "duration": 0,
    "start_time": "2023-03-18T17:20:30.511Z"
   },
   {
    "duration": 1524,
    "start_time": "2023-03-18T17:22:06.519Z"
   },
   {
    "duration": 788,
    "start_time": "2023-03-18T17:22:08.045Z"
   },
   {
    "duration": 22,
    "start_time": "2023-03-18T17:22:08.835Z"
   },
   {
    "duration": 28,
    "start_time": "2023-03-18T17:22:08.858Z"
   },
   {
    "duration": 19,
    "start_time": "2023-03-18T17:22:08.888Z"
   },
   {
    "duration": 4,
    "start_time": "2023-03-18T17:22:08.909Z"
   },
   {
    "duration": 25,
    "start_time": "2023-03-18T17:22:08.915Z"
   },
   {
    "duration": 12,
    "start_time": "2023-03-18T17:22:08.975Z"
   },
   {
    "duration": 194,
    "start_time": "2023-03-18T17:22:08.990Z"
   },
   {
    "duration": 5,
    "start_time": "2023-03-18T17:22:09.186Z"
   },
   {
    "duration": 14,
    "start_time": "2023-03-18T17:22:09.193Z"
   },
   {
    "duration": 10,
    "start_time": "2023-03-18T17:22:09.208Z"
   },
   {
    "duration": 7,
    "start_time": "2023-03-18T17:22:09.220Z"
   },
   {
    "duration": 11,
    "start_time": "2023-03-18T17:22:09.230Z"
   },
   {
    "duration": 11,
    "start_time": "2023-03-18T17:22:09.272Z"
   },
   {
    "duration": 4,
    "start_time": "2023-03-18T17:22:09.285Z"
   },
   {
    "duration": 18,
    "start_time": "2023-03-18T17:22:09.291Z"
   },
   {
    "duration": 156,
    "start_time": "2023-03-18T17:22:09.311Z"
   },
   {
    "duration": 27,
    "start_time": "2023-03-18T17:22:09.468Z"
   },
   {
    "duration": 120,
    "start_time": "2023-03-18T17:22:09.497Z"
   },
   {
    "duration": 659,
    "start_time": "2023-03-18T17:22:09.619Z"
   },
   {
    "duration": 1236,
    "start_time": "2023-03-18T17:22:10.280Z"
   },
   {
    "duration": 845,
    "start_time": "2023-03-18T17:22:11.518Z"
   },
   {
    "duration": 910,
    "start_time": "2023-03-18T17:22:12.365Z"
   },
   {
    "duration": 687,
    "start_time": "2023-03-18T17:22:13.277Z"
   },
   {
    "duration": 10,
    "start_time": "2023-03-18T17:22:13.966Z"
   },
   {
    "duration": 11,
    "start_time": "2023-03-18T17:22:13.979Z"
   },
   {
    "duration": 5,
    "start_time": "2023-03-18T17:22:13.992Z"
   },
   {
    "duration": 447,
    "start_time": "2023-03-18T17:22:13.998Z"
   },
   {
    "duration": 554,
    "start_time": "2023-03-18T17:22:14.448Z"
   },
   {
    "duration": 808,
    "start_time": "2023-03-18T17:22:15.003Z"
   },
   {
    "duration": 5,
    "start_time": "2023-03-18T17:22:15.814Z"
   },
   {
    "duration": 27,
    "start_time": "2023-03-18T17:22:15.821Z"
   },
   {
    "duration": 133,
    "start_time": "2023-03-18T17:22:15.850Z"
   },
   {
    "duration": 0,
    "start_time": "2023-03-18T17:22:15.985Z"
   },
   {
    "duration": 0,
    "start_time": "2023-03-18T17:22:15.987Z"
   },
   {
    "duration": 0,
    "start_time": "2023-03-18T17:22:15.988Z"
   },
   {
    "duration": 0,
    "start_time": "2023-03-18T17:22:15.990Z"
   },
   {
    "duration": 0,
    "start_time": "2023-03-18T17:22:15.991Z"
   },
   {
    "duration": 11,
    "start_time": "2023-03-18T17:25:13.321Z"
   },
   {
    "duration": 11,
    "start_time": "2023-03-18T17:25:20.200Z"
   },
   {
    "duration": 4,
    "start_time": "2023-03-18T17:25:30.325Z"
   },
   {
    "duration": 4,
    "start_time": "2023-03-18T17:25:30.690Z"
   },
   {
    "duration": 2,
    "start_time": "2023-03-18T17:25:31.388Z"
   },
   {
    "duration": 10,
    "start_time": "2023-03-18T17:25:31.710Z"
   },
   {
    "duration": 10,
    "start_time": "2023-03-18T17:25:39.333Z"
   },
   {
    "duration": 1488,
    "start_time": "2023-03-18T17:26:00.794Z"
   },
   {
    "duration": 791,
    "start_time": "2023-03-18T17:26:02.284Z"
   },
   {
    "duration": 21,
    "start_time": "2023-03-18T17:26:03.077Z"
   },
   {
    "duration": 15,
    "start_time": "2023-03-18T17:26:03.099Z"
   },
   {
    "duration": 30,
    "start_time": "2023-03-18T17:26:03.117Z"
   },
   {
    "duration": 11,
    "start_time": "2023-03-18T17:26:03.172Z"
   },
   {
    "duration": 22,
    "start_time": "2023-03-18T17:26:03.191Z"
   },
   {
    "duration": 7,
    "start_time": "2023-03-18T17:26:03.215Z"
   },
   {
    "duration": 188,
    "start_time": "2023-03-18T17:26:03.224Z"
   },
   {
    "duration": 6,
    "start_time": "2023-03-18T17:26:03.415Z"
   },
   {
    "duration": 23,
    "start_time": "2023-03-18T17:26:03.423Z"
   },
   {
    "duration": 14,
    "start_time": "2023-03-18T17:26:03.448Z"
   },
   {
    "duration": 16,
    "start_time": "2023-03-18T17:26:03.464Z"
   },
   {
    "duration": 11,
    "start_time": "2023-03-18T17:26:03.485Z"
   },
   {
    "duration": 13,
    "start_time": "2023-03-18T17:26:03.498Z"
   },
   {
    "duration": 5,
    "start_time": "2023-03-18T17:26:03.513Z"
   },
   {
    "duration": 53,
    "start_time": "2023-03-18T17:26:03.520Z"
   },
   {
    "duration": 173,
    "start_time": "2023-03-18T17:26:03.575Z"
   },
   {
    "duration": 45,
    "start_time": "2023-03-18T17:26:03.750Z"
   },
   {
    "duration": 126,
    "start_time": "2023-03-18T17:26:03.798Z"
   },
   {
    "duration": 760,
    "start_time": "2023-03-18T17:26:03.926Z"
   },
   {
    "duration": 1307,
    "start_time": "2023-03-18T17:26:04.688Z"
   },
   {
    "duration": 902,
    "start_time": "2023-03-18T17:26:05.997Z"
   },
   {
    "duration": 953,
    "start_time": "2023-03-18T17:26:06.902Z"
   },
   {
    "duration": 810,
    "start_time": "2023-03-18T17:26:07.857Z"
   },
   {
    "duration": 4,
    "start_time": "2023-03-18T17:26:08.673Z"
   },
   {
    "duration": 9,
    "start_time": "2023-03-18T17:26:08.679Z"
   },
   {
    "duration": 6,
    "start_time": "2023-03-18T17:26:08.689Z"
   },
   {
    "duration": 380,
    "start_time": "2023-03-18T17:26:08.696Z"
   },
   {
    "duration": 361,
    "start_time": "2023-03-18T17:26:09.077Z"
   },
   {
    "duration": 756,
    "start_time": "2023-03-18T17:26:09.440Z"
   },
   {
    "duration": 4,
    "start_time": "2023-03-18T17:26:10.198Z"
   },
   {
    "duration": 12,
    "start_time": "2023-03-18T17:26:10.204Z"
   },
   {
    "duration": 144,
    "start_time": "2023-03-18T17:26:10.218Z"
   },
   {
    "duration": 0,
    "start_time": "2023-03-18T17:26:10.364Z"
   },
   {
    "duration": 0,
    "start_time": "2023-03-18T17:26:10.366Z"
   },
   {
    "duration": 0,
    "start_time": "2023-03-18T17:26:10.368Z"
   },
   {
    "duration": 0,
    "start_time": "2023-03-18T17:26:10.369Z"
   },
   {
    "duration": 0,
    "start_time": "2023-03-18T17:26:10.370Z"
   },
   {
    "duration": 0,
    "start_time": "2023-03-18T17:26:10.372Z"
   },
   {
    "duration": 17,
    "start_time": "2023-03-18T17:26:26.147Z"
   },
   {
    "duration": 2233,
    "start_time": "2023-03-18T17:26:36.242Z"
   },
   {
    "duration": 4232,
    "start_time": "2023-03-18T17:26:56.142Z"
   },
   {
    "duration": 1769,
    "start_time": "2023-03-19T06:11:20.751Z"
   },
   {
    "duration": 2647,
    "start_time": "2023-03-19T06:11:22.522Z"
   },
   {
    "duration": 21,
    "start_time": "2023-03-19T06:11:25.170Z"
   },
   {
    "duration": 13,
    "start_time": "2023-03-19T06:11:25.193Z"
   },
   {
    "duration": 17,
    "start_time": "2023-03-19T06:11:25.208Z"
   },
   {
    "duration": 3,
    "start_time": "2023-03-19T06:11:25.226Z"
   },
   {
    "duration": 27,
    "start_time": "2023-03-19T06:11:25.230Z"
   },
   {
    "duration": 23,
    "start_time": "2023-03-19T06:11:25.258Z"
   },
   {
    "duration": 157,
    "start_time": "2023-03-19T06:11:26.050Z"
   },
   {
    "duration": 4,
    "start_time": "2023-03-19T06:11:26.804Z"
   },
   {
    "duration": 5,
    "start_time": "2023-03-19T06:11:40.544Z"
   },
   {
    "duration": 4,
    "start_time": "2023-03-19T06:11:41.030Z"
   },
   {
    "duration": 5,
    "start_time": "2023-03-19T06:11:41.433Z"
   },
   {
    "duration": 3,
    "start_time": "2023-03-19T06:11:41.892Z"
   },
   {
    "duration": 254,
    "start_time": "2023-03-19T06:11:42.644Z"
   },
   {
    "duration": 892,
    "start_time": "2023-03-19T06:13:35.466Z"
   },
   {
    "duration": 60,
    "start_time": "2023-03-19T06:14:39.168Z"
   },
   {
    "duration": 381,
    "start_time": "2023-03-19T06:14:46.100Z"
   },
   {
    "duration": 373,
    "start_time": "2023-03-19T06:15:11.776Z"
   },
   {
    "duration": 6,
    "start_time": "2023-03-19T06:15:34.407Z"
   },
   {
    "duration": 9,
    "start_time": "2023-03-19T06:15:37.388Z"
   },
   {
    "duration": 29,
    "start_time": "2023-03-19T06:15:50.877Z"
   },
   {
    "duration": 1587,
    "start_time": "2023-03-19T06:16:07.859Z"
   },
   {
    "duration": 761,
    "start_time": "2023-03-19T06:16:09.448Z"
   },
   {
    "duration": 23,
    "start_time": "2023-03-19T06:16:10.211Z"
   },
   {
    "duration": 14,
    "start_time": "2023-03-19T06:16:10.237Z"
   },
   {
    "duration": 45,
    "start_time": "2023-03-19T06:16:10.252Z"
   },
   {
    "duration": 3,
    "start_time": "2023-03-19T06:16:10.299Z"
   },
   {
    "duration": 37,
    "start_time": "2023-03-19T06:16:10.303Z"
   },
   {
    "duration": 31,
    "start_time": "2023-03-19T06:16:10.342Z"
   },
   {
    "duration": 224,
    "start_time": "2023-03-19T06:16:10.375Z"
   },
   {
    "duration": 6,
    "start_time": "2023-03-19T06:16:10.602Z"
   },
   {
    "duration": 23,
    "start_time": "2023-03-19T06:16:10.610Z"
   },
   {
    "duration": 11,
    "start_time": "2023-03-19T06:16:10.634Z"
   },
   {
    "duration": 9,
    "start_time": "2023-03-19T06:16:10.647Z"
   },
   {
    "duration": 23,
    "start_time": "2023-03-19T06:16:10.659Z"
   },
   {
    "duration": 13,
    "start_time": "2023-03-19T06:16:10.684Z"
   },
   {
    "duration": 6,
    "start_time": "2023-03-19T06:16:10.699Z"
   },
   {
    "duration": 21,
    "start_time": "2023-03-19T06:16:10.706Z"
   },
   {
    "duration": 160,
    "start_time": "2023-03-19T06:16:10.729Z"
   },
   {
    "duration": 26,
    "start_time": "2023-03-19T06:16:10.891Z"
   },
   {
    "duration": 137,
    "start_time": "2023-03-19T06:16:10.919Z"
   },
   {
    "duration": 710,
    "start_time": "2023-03-19T06:16:11.058Z"
   },
   {
    "duration": 1190,
    "start_time": "2023-03-19T06:16:11.770Z"
   },
   {
    "duration": 852,
    "start_time": "2023-03-19T06:16:12.963Z"
   },
   {
    "duration": 825,
    "start_time": "2023-03-19T06:16:13.817Z"
   },
   {
    "duration": 717,
    "start_time": "2023-03-19T06:16:14.644Z"
   },
   {
    "duration": 5,
    "start_time": "2023-03-19T06:16:15.362Z"
   },
   {
    "duration": 21,
    "start_time": "2023-03-19T06:16:15.369Z"
   },
   {
    "duration": 11,
    "start_time": "2023-03-19T06:16:15.393Z"
   },
   {
    "duration": 409,
    "start_time": "2023-03-19T06:16:15.406Z"
   },
   {
    "duration": 444,
    "start_time": "2023-03-19T06:16:15.817Z"
   },
   {
    "duration": 831,
    "start_time": "2023-03-19T06:16:16.263Z"
   },
   {
    "duration": 5,
    "start_time": "2023-03-19T06:16:17.096Z"
   },
   {
    "duration": 25,
    "start_time": "2023-03-19T06:16:17.102Z"
   },
   {
    "duration": 1853,
    "start_time": "2023-03-19T06:16:17.128Z"
   },
   {
    "duration": 4,
    "start_time": "2023-03-19T06:16:18.983Z"
   },
   {
    "duration": 12,
    "start_time": "2023-03-19T06:16:18.989Z"
   },
   {
    "duration": 3,
    "start_time": "2023-03-19T06:16:19.082Z"
   },
   {
    "duration": 129,
    "start_time": "2023-03-19T06:16:19.087Z"
   },
   {
    "duration": 0,
    "start_time": "2023-03-19T06:16:19.218Z"
   },
   {
    "duration": 3,
    "start_time": "2023-03-19T06:16:35.187Z"
   },
   {
    "duration": 5,
    "start_time": "2023-03-19T06:16:35.748Z"
   },
   {
    "duration": 3,
    "start_time": "2023-03-19T06:16:36.235Z"
   },
   {
    "duration": 19,
    "start_time": "2023-03-19T06:16:37.028Z"
   },
   {
    "duration": 1732,
    "start_time": "2023-03-19T06:16:59.355Z"
   },
   {
    "duration": 3,
    "start_time": "2023-03-19T06:17:16.547Z"
   },
   {
    "duration": 4,
    "start_time": "2023-03-19T06:17:17.051Z"
   },
   {
    "duration": 3,
    "start_time": "2023-03-19T06:17:18.954Z"
   },
   {
    "duration": 17,
    "start_time": "2023-03-19T06:17:19.475Z"
   },
   {
    "duration": 3,
    "start_time": "2023-03-19T06:20:57.256Z"
   },
   {
    "duration": 189,
    "start_time": "2023-03-19T06:22:17.209Z"
   },
   {
    "duration": 36452,
    "start_time": "2023-03-19T06:26:40.827Z"
   },
   {
    "duration": 1484,
    "start_time": "2023-03-19T06:28:02.714Z"
   },
   {
    "duration": 53917,
    "start_time": "2023-03-19T06:28:23.970Z"
   },
   {
    "duration": 65,
    "start_time": "2023-03-19T06:29:19.417Z"
   },
   {
    "duration": 4,
    "start_time": "2023-03-19T06:29:27.568Z"
   },
   {
    "duration": 1076,
    "start_time": "2023-03-19T06:29:30.825Z"
   },
   {
    "duration": 4,
    "start_time": "2023-03-19T06:30:19.112Z"
   },
   {
    "duration": 3,
    "start_time": "2023-03-19T06:30:19.504Z"
   },
   {
    "duration": 3,
    "start_time": "2023-03-19T06:30:19.920Z"
   },
   {
    "duration": 1005,
    "start_time": "2023-03-19T06:30:20.879Z"
   },
   {
    "duration": 1703,
    "start_time": "2023-03-19T06:41:21.583Z"
   },
   {
    "duration": 138036,
    "start_time": "2023-03-19T06:41:34.210Z"
   },
   {
    "duration": 312,
    "start_time": "2023-03-19T06:45:24.876Z"
   },
   {
    "duration": 5,
    "start_time": "2023-03-19T06:45:28.004Z"
   },
   {
    "duration": 4,
    "start_time": "2023-03-19T06:45:28.587Z"
   },
   {
    "duration": 3,
    "start_time": "2023-03-19T06:45:29.059Z"
   },
   {
    "duration": 1727,
    "start_time": "2023-03-19T06:45:29.955Z"
   },
   {
    "duration": 1434,
    "start_time": "2023-03-19T06:53:46.704Z"
   },
   {
    "duration": 731,
    "start_time": "2023-03-19T06:53:48.140Z"
   },
   {
    "duration": 27,
    "start_time": "2023-03-19T06:53:48.873Z"
   },
   {
    "duration": 16,
    "start_time": "2023-03-19T06:53:48.904Z"
   },
   {
    "duration": 26,
    "start_time": "2023-03-19T06:53:48.922Z"
   },
   {
    "duration": 32,
    "start_time": "2023-03-19T06:53:48.949Z"
   },
   {
    "duration": 13,
    "start_time": "2023-03-19T06:53:48.984Z"
   },
   {
    "duration": 9,
    "start_time": "2023-03-19T06:53:48.999Z"
   },
   {
    "duration": 213,
    "start_time": "2023-03-19T06:53:49.010Z"
   },
   {
    "duration": 6,
    "start_time": "2023-03-19T06:53:49.226Z"
   },
   {
    "duration": 18,
    "start_time": "2023-03-19T06:53:49.234Z"
   },
   {
    "duration": 9,
    "start_time": "2023-03-19T06:53:49.254Z"
   },
   {
    "duration": 20,
    "start_time": "2023-03-19T06:53:49.265Z"
   },
   {
    "duration": 12,
    "start_time": "2023-03-19T06:53:49.286Z"
   },
   {
    "duration": 11,
    "start_time": "2023-03-19T06:53:49.300Z"
   },
   {
    "duration": 4,
    "start_time": "2023-03-19T06:53:49.313Z"
   },
   {
    "duration": 17,
    "start_time": "2023-03-19T06:53:49.318Z"
   },
   {
    "duration": 158,
    "start_time": "2023-03-19T06:53:49.336Z"
   },
   {
    "duration": 25,
    "start_time": "2023-03-19T06:53:49.496Z"
   },
   {
    "duration": 109,
    "start_time": "2023-03-19T06:53:49.523Z"
   },
   {
    "duration": 603,
    "start_time": "2023-03-19T06:53:49.634Z"
   },
   {
    "duration": 1135,
    "start_time": "2023-03-19T06:53:50.239Z"
   },
   {
    "duration": 788,
    "start_time": "2023-03-19T06:53:51.375Z"
   },
   {
    "duration": 765,
    "start_time": "2023-03-19T06:53:52.166Z"
   },
   {
    "duration": 686,
    "start_time": "2023-03-19T06:53:52.933Z"
   },
   {
    "duration": 6,
    "start_time": "2023-03-19T06:53:53.621Z"
   },
   {
    "duration": 13,
    "start_time": "2023-03-19T06:53:53.628Z"
   },
   {
    "duration": 5,
    "start_time": "2023-03-19T06:53:53.647Z"
   },
   {
    "duration": 414,
    "start_time": "2023-03-19T06:53:53.653Z"
   },
   {
    "duration": 370,
    "start_time": "2023-03-19T06:53:54.069Z"
   },
   {
    "duration": 777,
    "start_time": "2023-03-19T06:53:54.441Z"
   },
   {
    "duration": 3,
    "start_time": "2023-03-19T06:53:55.220Z"
   },
   {
    "duration": 18,
    "start_time": "2023-03-19T06:53:55.224Z"
   },
   {
    "duration": 445,
    "start_time": "2023-03-19T06:53:55.244Z"
   },
   {
    "duration": 0,
    "start_time": "2023-03-19T06:53:55.691Z"
   },
   {
    "duration": 0,
    "start_time": "2023-03-19T06:53:55.692Z"
   },
   {
    "duration": 0,
    "start_time": "2023-03-19T06:53:55.694Z"
   },
   {
    "duration": 0,
    "start_time": "2023-03-19T06:53:55.695Z"
   },
   {
    "duration": 0,
    "start_time": "2023-03-19T06:53:55.696Z"
   },
   {
    "duration": 0,
    "start_time": "2023-03-19T06:53:55.697Z"
   },
   {
    "duration": 0,
    "start_time": "2023-03-19T06:53:55.698Z"
   },
   {
    "duration": 0,
    "start_time": "2023-03-19T06:53:55.699Z"
   },
   {
    "duration": 0,
    "start_time": "2023-03-19T06:53:55.701Z"
   },
   {
    "duration": 0,
    "start_time": "2023-03-19T06:53:55.702Z"
   },
   {
    "duration": 0,
    "start_time": "2023-03-19T06:53:55.703Z"
   },
   {
    "duration": 0,
    "start_time": "2023-03-19T06:53:55.705Z"
   },
   {
    "duration": 323,
    "start_time": "2023-03-19T06:54:28.061Z"
   },
   {
    "duration": 264,
    "start_time": "2023-03-19T06:54:29.717Z"
   },
   {
    "duration": 12,
    "start_time": "2023-03-19T07:00:45.214Z"
   },
   {
    "duration": 4,
    "start_time": "2023-03-19T07:01:02.481Z"
   },
   {
    "duration": 3,
    "start_time": "2023-03-19T07:01:04.367Z"
   },
   {
    "duration": 94,
    "start_time": "2023-03-19T07:01:05.903Z"
   },
   {
    "duration": 3455,
    "start_time": "2023-03-19T07:01:19.431Z"
   },
   {
    "duration": 1529,
    "start_time": "2023-03-19T07:04:57.107Z"
   },
   {
    "duration": 732,
    "start_time": "2023-03-19T07:04:58.638Z"
   },
   {
    "duration": 28,
    "start_time": "2023-03-19T07:04:59.373Z"
   },
   {
    "duration": 16,
    "start_time": "2023-03-19T07:04:59.404Z"
   },
   {
    "duration": 21,
    "start_time": "2023-03-19T07:04:59.423Z"
   },
   {
    "duration": 2,
    "start_time": "2023-03-19T07:04:59.447Z"
   },
   {
    "duration": 12,
    "start_time": "2023-03-19T07:04:59.482Z"
   },
   {
    "duration": 9,
    "start_time": "2023-03-19T07:04:59.496Z"
   },
   {
    "duration": 216,
    "start_time": "2023-03-19T07:04:59.507Z"
   },
   {
    "duration": 5,
    "start_time": "2023-03-19T07:04:59.726Z"
   },
   {
    "duration": 24,
    "start_time": "2023-03-19T07:04:59.734Z"
   },
   {
    "duration": 11,
    "start_time": "2023-03-19T07:04:59.760Z"
   },
   {
    "duration": 9,
    "start_time": "2023-03-19T07:04:59.772Z"
   },
   {
    "duration": 11,
    "start_time": "2023-03-19T07:04:59.784Z"
   },
   {
    "duration": 13,
    "start_time": "2023-03-19T07:04:59.797Z"
   },
   {
    "duration": 6,
    "start_time": "2023-03-19T07:04:59.811Z"
   },
   {
    "duration": 33,
    "start_time": "2023-03-19T07:04:59.819Z"
   },
   {
    "duration": 162,
    "start_time": "2023-03-19T07:04:59.854Z"
   },
   {
    "duration": 28,
    "start_time": "2023-03-19T07:05:00.018Z"
   },
   {
    "duration": 139,
    "start_time": "2023-03-19T07:05:00.048Z"
   },
   {
    "duration": 682,
    "start_time": "2023-03-19T07:05:00.190Z"
   },
   {
    "duration": 1198,
    "start_time": "2023-03-19T07:05:00.874Z"
   },
   {
    "duration": 850,
    "start_time": "2023-03-19T07:05:02.074Z"
   },
   {
    "duration": 845,
    "start_time": "2023-03-19T07:05:02.926Z"
   },
   {
    "duration": 774,
    "start_time": "2023-03-19T07:05:03.773Z"
   },
   {
    "duration": 6,
    "start_time": "2023-03-19T07:05:04.549Z"
   },
   {
    "duration": 8,
    "start_time": "2023-03-19T07:05:04.556Z"
   },
   {
    "duration": 5,
    "start_time": "2023-03-19T07:05:04.580Z"
   },
   {
    "duration": 344,
    "start_time": "2023-03-19T07:05:04.587Z"
   },
   {
    "duration": 436,
    "start_time": "2023-03-19T07:05:04.933Z"
   },
   {
    "duration": 978,
    "start_time": "2023-03-19T07:05:05.372Z"
   },
   {
    "duration": 4,
    "start_time": "2023-03-19T07:05:06.353Z"
   },
   {
    "duration": 14,
    "start_time": "2023-03-19T07:05:06.359Z"
   },
   {
    "duration": 15,
    "start_time": "2023-03-19T07:05:06.375Z"
   },
   {
    "duration": 16,
    "start_time": "2023-03-19T07:05:06.393Z"
   },
   {
    "duration": 284,
    "start_time": "2023-03-19T07:05:06.411Z"
   },
   {
    "duration": 302,
    "start_time": "2023-03-19T07:05:06.782Z"
   },
   {
    "duration": 4,
    "start_time": "2023-03-19T07:05:07.089Z"
   },
   {
    "duration": 7280,
    "start_time": "2023-03-19T07:05:07.096Z"
   },
   {
    "duration": 0,
    "start_time": "2023-03-19T07:05:14.378Z"
   },
   {
    "duration": 0,
    "start_time": "2023-03-19T07:05:14.381Z"
   },
   {
    "duration": 0,
    "start_time": "2023-03-19T07:05:14.382Z"
   },
   {
    "duration": 0,
    "start_time": "2023-03-19T07:05:14.384Z"
   },
   {
    "duration": 0,
    "start_time": "2023-03-19T07:05:14.385Z"
   },
   {
    "duration": 0,
    "start_time": "2023-03-19T07:05:14.386Z"
   },
   {
    "duration": 0,
    "start_time": "2023-03-19T07:05:14.388Z"
   },
   {
    "duration": 0,
    "start_time": "2023-03-19T07:05:14.389Z"
   },
   {
    "duration": 4,
    "start_time": "2023-03-19T07:05:57.963Z"
   },
   {
    "duration": 3,
    "start_time": "2023-03-19T07:06:01.525Z"
   },
   {
    "duration": 26,
    "start_time": "2023-03-19T07:06:01.899Z"
   },
   {
    "duration": 72,
    "start_time": "2023-03-19T07:06:05.923Z"
   },
   {
    "duration": 44,
    "start_time": "2023-03-19T07:06:06.747Z"
   },
   {
    "duration": 4,
    "start_time": "2023-03-19T07:06:08.339Z"
   },
   {
    "duration": 6423,
    "start_time": "2023-03-19T07:06:09.770Z"
   },
   {
    "duration": 3,
    "start_time": "2023-03-19T07:07:38.425Z"
   },
   {
    "duration": 4,
    "start_time": "2023-03-19T07:07:38.937Z"
   },
   {
    "duration": 17,
    "start_time": "2023-03-19T07:07:39.516Z"
   },
   {
    "duration": 220,
    "start_time": "2023-03-19T07:07:40.162Z"
   },
   {
    "duration": 170,
    "start_time": "2023-03-19T07:07:40.713Z"
   },
   {
    "duration": 3,
    "start_time": "2023-03-19T07:07:41.273Z"
   },
   {
    "duration": 6379,
    "start_time": "2023-03-19T07:07:41.906Z"
   },
   {
    "duration": 1399,
    "start_time": "2023-03-19T07:08:11.209Z"
   },
   {
    "duration": 684,
    "start_time": "2023-03-19T07:08:12.610Z"
   },
   {
    "duration": 21,
    "start_time": "2023-03-19T07:08:13.296Z"
   },
   {
    "duration": 14,
    "start_time": "2023-03-19T07:08:13.318Z"
   },
   {
    "duration": 46,
    "start_time": "2023-03-19T07:08:13.335Z"
   },
   {
    "duration": 3,
    "start_time": "2023-03-19T07:08:13.383Z"
   },
   {
    "duration": 36,
    "start_time": "2023-03-19T07:08:13.388Z"
   },
   {
    "duration": 9,
    "start_time": "2023-03-19T07:08:13.425Z"
   },
   {
    "duration": 168,
    "start_time": "2023-03-19T07:08:13.436Z"
   },
   {
    "duration": 6,
    "start_time": "2023-03-19T07:08:13.606Z"
   },
   {
    "duration": 16,
    "start_time": "2023-03-19T07:08:13.614Z"
   },
   {
    "duration": 9,
    "start_time": "2023-03-19T07:08:13.632Z"
   },
   {
    "duration": 9,
    "start_time": "2023-03-19T07:08:13.643Z"
   },
   {
    "duration": 33,
    "start_time": "2023-03-19T07:08:13.656Z"
   },
   {
    "duration": 13,
    "start_time": "2023-03-19T07:08:13.691Z"
   },
   {
    "duration": 7,
    "start_time": "2023-03-19T07:08:13.706Z"
   },
   {
    "duration": 24,
    "start_time": "2023-03-19T07:08:13.715Z"
   },
   {
    "duration": 155,
    "start_time": "2023-03-19T07:08:13.741Z"
   },
   {
    "duration": 28,
    "start_time": "2023-03-19T07:08:13.898Z"
   },
   {
    "duration": 122,
    "start_time": "2023-03-19T07:08:13.928Z"
   },
   {
    "duration": 612,
    "start_time": "2023-03-19T07:08:14.052Z"
   },
   {
    "duration": 1235,
    "start_time": "2023-03-19T07:08:14.666Z"
   },
   {
    "duration": 857,
    "start_time": "2023-03-19T07:08:15.903Z"
   },
   {
    "duration": 866,
    "start_time": "2023-03-19T07:08:16.762Z"
   },
   {
    "duration": 709,
    "start_time": "2023-03-19T07:08:17.630Z"
   },
   {
    "duration": 4,
    "start_time": "2023-03-19T07:08:18.341Z"
   },
   {
    "duration": 13,
    "start_time": "2023-03-19T07:08:18.347Z"
   },
   {
    "duration": 6,
    "start_time": "2023-03-19T07:08:18.361Z"
   },
   {
    "duration": 333,
    "start_time": "2023-03-19T07:08:18.368Z"
   },
   {
    "duration": 337,
    "start_time": "2023-03-19T07:08:18.703Z"
   },
   {
    "duration": 731,
    "start_time": "2023-03-19T07:08:19.041Z"
   },
   {
    "duration": 3,
    "start_time": "2023-03-19T07:08:19.780Z"
   },
   {
    "duration": 6,
    "start_time": "2023-03-19T07:08:19.786Z"
   },
   {
    "duration": 7,
    "start_time": "2023-03-19T07:08:19.794Z"
   },
   {
    "duration": 12,
    "start_time": "2023-03-19T07:08:19.802Z"
   },
   {
    "duration": 176,
    "start_time": "2023-03-19T07:08:19.816Z"
   },
   {
    "duration": 298,
    "start_time": "2023-03-19T07:08:19.995Z"
   },
   {
    "duration": 87,
    "start_time": "2023-03-19T07:08:20.295Z"
   },
   {
    "duration": 6502,
    "start_time": "2023-03-19T07:08:20.384Z"
   },
   {
    "duration": 3,
    "start_time": "2023-03-19T07:08:26.888Z"
   },
   {
    "duration": 86,
    "start_time": "2023-03-19T07:08:26.896Z"
   },
   {
    "duration": 7,
    "start_time": "2023-03-19T07:08:26.984Z"
   },
   {
    "duration": 9,
    "start_time": "2023-03-19T07:08:26.992Z"
   },
   {
    "duration": 5,
    "start_time": "2023-03-19T07:08:27.003Z"
   },
   {
    "duration": 5,
    "start_time": "2023-03-19T07:08:27.009Z"
   },
   {
    "duration": 5,
    "start_time": "2023-03-19T07:08:27.016Z"
   },
   {
    "duration": 5,
    "start_time": "2023-03-19T07:08:27.023Z"
   },
   {
    "duration": 2815,
    "start_time": "2023-03-19T07:14:18.203Z"
   },
   {
    "duration": 136,
    "start_time": "2023-03-19T07:14:35.416Z"
   },
   {
    "duration": 5,
    "start_time": "2023-03-19T07:14:38.451Z"
   },
   {
    "duration": 20,
    "start_time": "2023-03-19T07:18:43.552Z"
   },
   {
    "duration": 17,
    "start_time": "2023-03-19T07:18:53.256Z"
   },
   {
    "duration": 6,
    "start_time": "2023-03-19T07:19:17.568Z"
   },
   {
    "duration": 15,
    "start_time": "2023-03-19T07:22:14.742Z"
   },
   {
    "duration": 215,
    "start_time": "2023-03-19T07:22:27.077Z"
   },
   {
    "duration": 177,
    "start_time": "2023-03-19T07:22:28.709Z"
   },
   {
    "duration": 4,
    "start_time": "2023-03-19T07:22:29.468Z"
   },
   {
    "duration": 4459,
    "start_time": "2023-03-19T07:22:31.133Z"
   },
   {
    "duration": 124,
    "start_time": "2023-03-19T07:25:40.993Z"
   },
   {
    "duration": 5041,
    "start_time": "2023-03-19T07:34:32.939Z"
   },
   {
    "duration": 1476,
    "start_time": "2023-03-19T07:34:43.588Z"
   },
   {
    "duration": 745,
    "start_time": "2023-03-19T07:34:45.066Z"
   },
   {
    "duration": 24,
    "start_time": "2023-03-19T07:34:45.814Z"
   },
   {
    "duration": 36,
    "start_time": "2023-03-19T07:34:45.840Z"
   },
   {
    "duration": 39,
    "start_time": "2023-03-19T07:34:45.879Z"
   },
   {
    "duration": 12,
    "start_time": "2023-03-19T07:34:45.920Z"
   },
   {
    "duration": 33,
    "start_time": "2023-03-19T07:34:45.933Z"
   },
   {
    "duration": 10,
    "start_time": "2023-03-19T07:34:45.968Z"
   },
   {
    "duration": 215,
    "start_time": "2023-03-19T07:34:45.980Z"
   },
   {
    "duration": 6,
    "start_time": "2023-03-19T07:34:46.196Z"
   },
   {
    "duration": 21,
    "start_time": "2023-03-19T07:34:46.203Z"
   },
   {
    "duration": 12,
    "start_time": "2023-03-19T07:34:46.226Z"
   },
   {
    "duration": 10,
    "start_time": "2023-03-19T07:34:46.239Z"
   },
   {
    "duration": 23,
    "start_time": "2023-03-19T07:34:46.252Z"
   },
   {
    "duration": 13,
    "start_time": "2023-03-19T07:34:46.276Z"
   },
   {
    "duration": 10,
    "start_time": "2023-03-19T07:34:46.290Z"
   },
   {
    "duration": 17,
    "start_time": "2023-03-19T07:34:46.302Z"
   },
   {
    "duration": 154,
    "start_time": "2023-03-19T07:34:46.321Z"
   },
   {
    "duration": 30,
    "start_time": "2023-03-19T07:34:46.477Z"
   },
   {
    "duration": 396,
    "start_time": "2023-03-19T07:34:46.509Z"
   },
   {
    "duration": 632,
    "start_time": "2023-03-19T07:34:46.907Z"
   },
   {
    "duration": 1199,
    "start_time": "2023-03-19T07:34:47.541Z"
   },
   {
    "duration": 801,
    "start_time": "2023-03-19T07:34:48.742Z"
   },
   {
    "duration": 916,
    "start_time": "2023-03-19T07:34:49.545Z"
   },
   {
    "duration": 686,
    "start_time": "2023-03-19T07:34:50.463Z"
   },
   {
    "duration": 4,
    "start_time": "2023-03-19T07:34:51.151Z"
   },
   {
    "duration": 23,
    "start_time": "2023-03-19T07:34:51.157Z"
   },
   {
    "duration": 24,
    "start_time": "2023-03-19T07:34:51.182Z"
   },
   {
    "duration": 326,
    "start_time": "2023-03-19T07:34:51.207Z"
   },
   {
    "duration": 384,
    "start_time": "2023-03-19T07:34:51.535Z"
   },
   {
    "duration": 802,
    "start_time": "2023-03-19T07:34:51.921Z"
   },
   {
    "duration": 4,
    "start_time": "2023-03-19T07:34:52.725Z"
   },
   {
    "duration": 10,
    "start_time": "2023-03-19T07:34:52.731Z"
   },
   {
    "duration": 10,
    "start_time": "2023-03-19T07:34:52.743Z"
   },
   {
    "duration": 27,
    "start_time": "2023-03-19T07:34:52.756Z"
   },
   {
    "duration": 903,
    "start_time": "2023-03-19T07:34:52.785Z"
   },
   {
    "duration": 392,
    "start_time": "2023-03-19T07:34:53.690Z"
   },
   {
    "duration": 87,
    "start_time": "2023-03-19T07:34:54.095Z"
   },
   {
    "duration": 6406,
    "start_time": "2023-03-19T07:34:54.184Z"
   },
   {
    "duration": 18,
    "start_time": "2023-03-19T07:35:00.592Z"
   },
   {
    "duration": 7,
    "start_time": "2023-03-19T07:35:00.682Z"
   },
   {
    "duration": 90,
    "start_time": "2023-03-19T07:35:00.691Z"
   },
   {
    "duration": 165,
    "start_time": "2023-03-19T07:35:00.784Z"
   },
   {
    "duration": 51,
    "start_time": "2023-03-19T07:35:00.951Z"
   },
   {
    "duration": 5177,
    "start_time": "2023-03-19T07:35:01.004Z"
   },
   {
    "duration": 3,
    "start_time": "2023-03-19T07:35:06.183Z"
   },
   {
    "duration": 308,
    "start_time": "2023-03-19T07:36:12.596Z"
   },
   {
    "duration": 20,
    "start_time": "2023-03-19T07:36:24.400Z"
   },
   {
    "duration": 83,
    "start_time": "2023-03-19T07:36:32.608Z"
   },
   {
    "duration": 1862,
    "start_time": "2023-03-19T14:10:00.369Z"
   },
   {
    "duration": 3174,
    "start_time": "2023-03-19T14:10:02.234Z"
   },
   {
    "duration": 31,
    "start_time": "2023-03-19T14:10:05.411Z"
   },
   {
    "duration": 22,
    "start_time": "2023-03-19T14:10:05.445Z"
   },
   {
    "duration": 28,
    "start_time": "2023-03-19T14:10:05.469Z"
   },
   {
    "duration": 4,
    "start_time": "2023-03-19T14:10:05.500Z"
   },
   {
    "duration": 17,
    "start_time": "2023-03-19T14:10:05.506Z"
   },
   {
    "duration": 7,
    "start_time": "2023-03-19T14:10:05.525Z"
   },
   {
    "duration": 213,
    "start_time": "2023-03-19T14:10:05.564Z"
   },
   {
    "duration": 6,
    "start_time": "2023-03-19T14:10:05.786Z"
   },
   {
    "duration": 20,
    "start_time": "2023-03-19T14:10:05.794Z"
   },
   {
    "duration": 13,
    "start_time": "2023-03-19T14:10:05.817Z"
   },
   {
    "duration": 35,
    "start_time": "2023-03-19T14:10:05.832Z"
   },
   {
    "duration": 18,
    "start_time": "2023-03-19T14:10:05.877Z"
   },
   {
    "duration": 19,
    "start_time": "2023-03-19T14:10:05.897Z"
   },
   {
    "duration": 13,
    "start_time": "2023-03-19T14:10:05.918Z"
   },
   {
    "duration": 27,
    "start_time": "2023-03-19T14:10:05.933Z"
   },
   {
    "duration": 182,
    "start_time": "2023-03-19T14:10:05.963Z"
   },
   {
    "duration": 39,
    "start_time": "2023-03-19T14:10:06.147Z"
   },
   {
    "duration": 121,
    "start_time": "2023-03-19T14:10:06.188Z"
   },
   {
    "duration": 820,
    "start_time": "2023-03-19T14:10:06.312Z"
   },
   {
    "duration": 1287,
    "start_time": "2023-03-19T14:10:07.135Z"
   },
   {
    "duration": 931,
    "start_time": "2023-03-19T14:10:08.424Z"
   },
   {
    "duration": 937,
    "start_time": "2023-03-19T14:10:09.357Z"
   },
   {
    "duration": 787,
    "start_time": "2023-03-19T14:10:10.297Z"
   },
   {
    "duration": 5,
    "start_time": "2023-03-19T14:10:11.087Z"
   },
   {
    "duration": 21,
    "start_time": "2023-03-19T14:10:11.094Z"
   },
   {
    "duration": 6,
    "start_time": "2023-03-19T14:10:11.119Z"
   },
   {
    "duration": 387,
    "start_time": "2023-03-19T14:10:11.128Z"
   },
   {
    "duration": 405,
    "start_time": "2023-03-19T14:10:11.517Z"
   },
   {
    "duration": 863,
    "start_time": "2023-03-19T14:10:11.924Z"
   },
   {
    "duration": 4,
    "start_time": "2023-03-19T14:10:12.789Z"
   },
   {
    "duration": 7,
    "start_time": "2023-03-19T14:10:12.796Z"
   },
   {
    "duration": 7,
    "start_time": "2023-03-19T14:10:12.805Z"
   },
   {
    "duration": 11,
    "start_time": "2023-03-19T14:10:12.814Z"
   },
   {
    "duration": 667,
    "start_time": "2023-03-19T14:10:12.827Z"
   },
   {
    "duration": 1059,
    "start_time": "2023-03-19T14:10:13.580Z"
   },
   {
    "duration": 0,
    "start_time": "2023-03-19T14:10:14.641Z"
   },
   {
    "duration": 0,
    "start_time": "2023-03-19T14:10:14.643Z"
   },
   {
    "duration": 1,
    "start_time": "2023-03-19T14:10:14.644Z"
   },
   {
    "duration": 0,
    "start_time": "2023-03-19T14:10:14.646Z"
   },
   {
    "duration": 0,
    "start_time": "2023-03-19T14:10:14.648Z"
   },
   {
    "duration": 0,
    "start_time": "2023-03-19T14:10:14.649Z"
   },
   {
    "duration": 1,
    "start_time": "2023-03-19T14:10:14.664Z"
   },
   {
    "duration": 0,
    "start_time": "2023-03-19T14:10:14.666Z"
   },
   {
    "duration": 0,
    "start_time": "2023-03-19T14:10:14.667Z"
   },
   {
    "duration": 0,
    "start_time": "2023-03-19T14:10:14.668Z"
   },
   {
    "duration": 0,
    "start_time": "2023-03-19T14:10:14.669Z"
   },
   {
    "duration": 574,
    "start_time": "2023-03-19T14:11:37.507Z"
   },
   {
    "duration": 1636,
    "start_time": "2023-03-19T14:11:56.883Z"
   },
   {
    "duration": 836,
    "start_time": "2023-03-19T14:11:58.521Z"
   },
   {
    "duration": 26,
    "start_time": "2023-03-19T14:11:59.359Z"
   },
   {
    "duration": 16,
    "start_time": "2023-03-19T14:11:59.387Z"
   },
   {
    "duration": 21,
    "start_time": "2023-03-19T14:11:59.405Z"
   },
   {
    "duration": 3,
    "start_time": "2023-03-19T14:11:59.428Z"
   },
   {
    "duration": 30,
    "start_time": "2023-03-19T14:11:59.473Z"
   },
   {
    "duration": 9,
    "start_time": "2023-03-19T14:11:59.505Z"
   },
   {
    "duration": 211,
    "start_time": "2023-03-19T14:11:59.516Z"
   },
   {
    "duration": 6,
    "start_time": "2023-03-19T14:11:59.730Z"
   },
   {
    "duration": 22,
    "start_time": "2023-03-19T14:11:59.739Z"
   },
   {
    "duration": 16,
    "start_time": "2023-03-19T14:11:59.764Z"
   },
   {
    "duration": 23,
    "start_time": "2023-03-19T14:11:59.782Z"
   },
   {
    "duration": 11,
    "start_time": "2023-03-19T14:11:59.810Z"
   },
   {
    "duration": 12,
    "start_time": "2023-03-19T14:11:59.824Z"
   },
   {
    "duration": 32,
    "start_time": "2023-03-19T14:11:59.837Z"
   },
   {
    "duration": 30,
    "start_time": "2023-03-19T14:11:59.871Z"
   },
   {
    "duration": 148,
    "start_time": "2023-03-19T14:11:59.903Z"
   },
   {
    "duration": 38,
    "start_time": "2023-03-19T14:12:00.053Z"
   },
   {
    "duration": 164,
    "start_time": "2023-03-19T14:12:00.094Z"
   },
   {
    "duration": 749,
    "start_time": "2023-03-19T14:12:00.260Z"
   },
   {
    "duration": 1376,
    "start_time": "2023-03-19T14:12:01.011Z"
   },
   {
    "duration": 943,
    "start_time": "2023-03-19T14:12:02.389Z"
   },
   {
    "duration": 962,
    "start_time": "2023-03-19T14:12:03.334Z"
   },
   {
    "duration": 866,
    "start_time": "2023-03-19T14:12:04.298Z"
   },
   {
    "duration": 7,
    "start_time": "2023-03-19T14:12:05.166Z"
   },
   {
    "duration": 27,
    "start_time": "2023-03-19T14:12:05.177Z"
   },
   {
    "duration": 15,
    "start_time": "2023-03-19T14:12:05.207Z"
   },
   {
    "duration": 401,
    "start_time": "2023-03-19T14:12:05.224Z"
   },
   {
    "duration": 411,
    "start_time": "2023-03-19T14:12:05.627Z"
   },
   {
    "duration": 876,
    "start_time": "2023-03-19T14:12:06.040Z"
   },
   {
    "duration": 4,
    "start_time": "2023-03-19T14:12:06.919Z"
   },
   {
    "duration": 9,
    "start_time": "2023-03-19T14:12:06.925Z"
   },
   {
    "duration": 8,
    "start_time": "2023-03-19T14:12:06.936Z"
   },
   {
    "duration": 34,
    "start_time": "2023-03-19T14:12:06.946Z"
   },
   {
    "duration": 592,
    "start_time": "2023-03-19T14:12:06.982Z"
   },
   {
    "duration": 493,
    "start_time": "2023-03-19T14:12:07.582Z"
   },
   {
    "duration": 1583,
    "start_time": "2023-03-19T15:04:36.821Z"
   },
   {
    "duration": 829,
    "start_time": "2023-03-19T15:04:38.406Z"
   },
   {
    "duration": 31,
    "start_time": "2023-03-19T15:04:39.237Z"
   },
   {
    "duration": 22,
    "start_time": "2023-03-19T15:04:39.275Z"
   },
   {
    "duration": 26,
    "start_time": "2023-03-19T15:04:39.298Z"
   },
   {
    "duration": 3,
    "start_time": "2023-03-19T15:04:39.326Z"
   },
   {
    "duration": 48,
    "start_time": "2023-03-19T15:04:39.331Z"
   },
   {
    "duration": 9,
    "start_time": "2023-03-19T15:04:39.381Z"
   },
   {
    "duration": 192,
    "start_time": "2023-03-19T15:04:39.392Z"
   },
   {
    "duration": 5,
    "start_time": "2023-03-19T15:04:39.587Z"
   },
   {
    "duration": 18,
    "start_time": "2023-03-19T15:04:39.594Z"
   },
   {
    "duration": 10,
    "start_time": "2023-03-19T15:04:39.614Z"
   },
   {
    "duration": 7,
    "start_time": "2023-03-19T15:04:39.626Z"
   },
   {
    "duration": 43,
    "start_time": "2023-03-19T15:04:39.635Z"
   },
   {
    "duration": 12,
    "start_time": "2023-03-19T15:04:39.680Z"
   },
   {
    "duration": 6,
    "start_time": "2023-03-19T15:04:39.694Z"
   },
   {
    "duration": 17,
    "start_time": "2023-03-19T15:04:39.701Z"
   },
   {
    "duration": 164,
    "start_time": "2023-03-19T15:04:39.720Z"
   },
   {
    "duration": 26,
    "start_time": "2023-03-19T15:04:39.886Z"
   },
   {
    "duration": 135,
    "start_time": "2023-03-19T15:04:39.913Z"
   },
   {
    "duration": 732,
    "start_time": "2023-03-19T15:04:40.050Z"
   },
   {
    "duration": 1332,
    "start_time": "2023-03-19T15:04:40.784Z"
   },
   {
    "duration": 910,
    "start_time": "2023-03-19T15:04:42.118Z"
   },
   {
    "duration": 864,
    "start_time": "2023-03-19T15:04:43.030Z"
   },
   {
    "duration": 847,
    "start_time": "2023-03-19T15:04:43.896Z"
   },
   {
    "duration": 6,
    "start_time": "2023-03-19T15:04:44.745Z"
   },
   {
    "duration": 25,
    "start_time": "2023-03-19T15:04:44.763Z"
   },
   {
    "duration": 11,
    "start_time": "2023-03-19T15:04:44.794Z"
   },
   {
    "duration": 381,
    "start_time": "2023-03-19T15:04:44.807Z"
   },
   {
    "duration": 393,
    "start_time": "2023-03-19T15:04:45.190Z"
   },
   {
    "duration": 849,
    "start_time": "2023-03-19T15:04:45.585Z"
   },
   {
    "duration": 4,
    "start_time": "2023-03-19T15:04:46.436Z"
   },
   {
    "duration": 7,
    "start_time": "2023-03-19T15:04:46.442Z"
   },
   {
    "duration": 17,
    "start_time": "2023-03-19T15:04:46.450Z"
   },
   {
    "duration": 22,
    "start_time": "2023-03-19T15:04:46.469Z"
   },
   {
    "duration": 584,
    "start_time": "2023-03-19T15:04:46.493Z"
   },
   {
    "duration": 389,
    "start_time": "2023-03-19T15:04:47.079Z"
   },
   {
    "duration": 1002847,
    "start_time": "2023-03-19T15:04:47.480Z"
   },
   {
    "duration": 1089526,
    "start_time": "2023-03-19T15:21:30.330Z"
   },
   {
    "duration": 5,
    "start_time": "2023-03-19T15:39:39.858Z"
   },
   {
    "duration": 20183,
    "start_time": "2023-03-19T15:39:39.865Z"
   },
   {
    "duration": 1949407,
    "start_time": "2023-03-19T15:40:00.073Z"
   },
   {
    "duration": 24,
    "start_time": "2023-03-19T16:12:29.487Z"
   },
   {
    "duration": 21,
    "start_time": "2023-03-19T16:12:29.517Z"
   },
   {
    "duration": 9,
    "start_time": "2023-03-19T16:12:29.540Z"
   },
   {
    "duration": 12,
    "start_time": "2023-03-19T16:12:29.551Z"
   },
   {
    "duration": 408586,
    "start_time": "2023-03-19T16:12:29.571Z"
   },
   {
    "duration": 6,
    "start_time": "2023-03-19T16:19:18.172Z"
   },
   {
    "duration": 336,
    "start_time": "2023-03-19T16:19:18.188Z"
   },
   {
    "duration": 29,
    "start_time": "2023-03-19T16:20:30.485Z"
   },
   {
    "duration": 7,
    "start_time": "2023-03-19T16:20:35.071Z"
   },
   {
    "duration": 6,
    "start_time": "2023-03-19T16:20:41.050Z"
   },
   {
    "duration": 34,
    "start_time": "2023-03-19T16:21:20.607Z"
   },
   {
    "duration": 32,
    "start_time": "2023-03-19T16:21:42.606Z"
   },
   {
    "duration": 16,
    "start_time": "2023-03-19T16:21:48.558Z"
   },
   {
    "duration": 21,
    "start_time": "2023-03-19T16:22:50.432Z"
   },
   {
    "duration": 14,
    "start_time": "2023-03-19T16:22:50.839Z"
   },
   {
    "duration": 25,
    "start_time": "2023-03-19T16:23:06.043Z"
   },
   {
    "duration": 9,
    "start_time": "2023-03-19T16:24:03.011Z"
   },
   {
    "duration": 13,
    "start_time": "2023-03-19T16:24:26.921Z"
   },
   {
    "duration": 8,
    "start_time": "2023-03-19T16:25:33.747Z"
   },
   {
    "duration": 8,
    "start_time": "2023-03-19T16:25:34.219Z"
   },
   {
    "duration": 190,
    "start_time": "2023-03-19T16:26:44.693Z"
   },
   {
    "duration": 1912,
    "start_time": "2023-03-20T08:28:36.816Z"
   },
   {
    "duration": 2181,
    "start_time": "2023-03-20T08:28:38.730Z"
   },
   {
    "duration": 30,
    "start_time": "2023-03-20T08:28:40.913Z"
   },
   {
    "duration": 13,
    "start_time": "2023-03-20T08:28:40.945Z"
   },
   {
    "duration": 33,
    "start_time": "2023-03-20T08:28:40.960Z"
   },
   {
    "duration": 4,
    "start_time": "2023-03-20T08:28:40.995Z"
   },
   {
    "duration": 21,
    "start_time": "2023-03-20T08:28:41.000Z"
   },
   {
    "duration": 8,
    "start_time": "2023-03-20T08:28:41.023Z"
   },
   {
    "duration": 217,
    "start_time": "2023-03-20T08:28:41.033Z"
   },
   {
    "duration": 4,
    "start_time": "2023-03-20T08:28:41.255Z"
   },
   {
    "duration": 12,
    "start_time": "2023-03-20T08:28:41.261Z"
   },
   {
    "duration": 11,
    "start_time": "2023-03-20T08:28:41.274Z"
   },
   {
    "duration": 7,
    "start_time": "2023-03-20T08:28:41.287Z"
   },
   {
    "duration": 11,
    "start_time": "2023-03-20T08:28:41.296Z"
   },
   {
    "duration": 14,
    "start_time": "2023-03-20T08:28:41.309Z"
   },
   {
    "duration": 5,
    "start_time": "2023-03-20T08:28:41.325Z"
   },
   {
    "duration": 19,
    "start_time": "2023-03-20T08:28:41.332Z"
   },
   {
    "duration": 169,
    "start_time": "2023-03-20T08:28:41.353Z"
   },
   {
    "duration": 32,
    "start_time": "2023-03-20T08:28:41.524Z"
   },
   {
    "duration": 120,
    "start_time": "2023-03-20T08:28:41.557Z"
   },
   {
    "duration": 648,
    "start_time": "2023-03-20T08:28:41.679Z"
   },
   {
    "duration": 1123,
    "start_time": "2023-03-20T08:28:42.329Z"
   },
   {
    "duration": 861,
    "start_time": "2023-03-20T08:28:43.454Z"
   },
   {
    "duration": 819,
    "start_time": "2023-03-20T08:28:44.317Z"
   },
   {
    "duration": 709,
    "start_time": "2023-03-20T08:28:45.139Z"
   },
   {
    "duration": 4,
    "start_time": "2023-03-20T08:28:45.850Z"
   },
   {
    "duration": 7,
    "start_time": "2023-03-20T08:28:45.855Z"
   },
   {
    "duration": 23,
    "start_time": "2023-03-20T08:28:45.866Z"
   },
   {
    "duration": 358,
    "start_time": "2023-03-20T08:28:45.891Z"
   },
   {
    "duration": 351,
    "start_time": "2023-03-20T08:28:46.250Z"
   },
   {
    "duration": 695,
    "start_time": "2023-03-20T08:28:46.603Z"
   },
   {
    "duration": 4,
    "start_time": "2023-03-20T08:28:47.300Z"
   },
   {
    "duration": 33,
    "start_time": "2023-03-20T08:28:47.306Z"
   },
   {
    "duration": 17,
    "start_time": "2023-03-20T08:28:47.341Z"
   },
   {
    "duration": 31,
    "start_time": "2023-03-20T08:28:47.360Z"
   },
   {
    "duration": 202,
    "start_time": "2023-03-20T08:28:47.394Z"
   },
   {
    "duration": 490,
    "start_time": "2023-03-20T08:28:47.600Z"
   },
   {
    "duration": 868041,
    "start_time": "2023-03-20T08:28:48.091Z"
   },
   {
    "duration": 0,
    "start_time": "2023-03-20T08:43:16.133Z"
   },
   {
    "duration": 1,
    "start_time": "2023-03-20T08:43:16.134Z"
   },
   {
    "duration": 0,
    "start_time": "2023-03-20T08:43:16.136Z"
   },
   {
    "duration": 0,
    "start_time": "2023-03-20T08:43:16.137Z"
   },
   {
    "duration": 0,
    "start_time": "2023-03-20T08:43:16.138Z"
   },
   {
    "duration": 0,
    "start_time": "2023-03-20T08:43:16.139Z"
   },
   {
    "duration": 0,
    "start_time": "2023-03-20T08:43:16.140Z"
   },
   {
    "duration": 0,
    "start_time": "2023-03-20T08:43:16.141Z"
   },
   {
    "duration": 0,
    "start_time": "2023-03-20T08:43:16.142Z"
   },
   {
    "duration": 0,
    "start_time": "2023-03-20T08:43:16.143Z"
   },
   {
    "duration": 0,
    "start_time": "2023-03-20T08:43:16.144Z"
   },
   {
    "duration": 0,
    "start_time": "2023-03-20T08:43:16.145Z"
   },
   {
    "duration": 0,
    "start_time": "2023-03-20T08:43:16.146Z"
   },
   {
    "duration": 1624,
    "start_time": "2023-03-20T11:56:12.777Z"
   },
   {
    "duration": 2114,
    "start_time": "2023-03-20T11:56:14.403Z"
   },
   {
    "duration": 18,
    "start_time": "2023-03-20T11:56:16.519Z"
   },
   {
    "duration": 14,
    "start_time": "2023-03-20T11:56:16.539Z"
   },
   {
    "duration": 17,
    "start_time": "2023-03-20T11:56:16.554Z"
   },
   {
    "duration": 4,
    "start_time": "2023-03-20T11:56:16.588Z"
   },
   {
    "duration": 17,
    "start_time": "2023-03-20T11:56:16.599Z"
   },
   {
    "duration": 6,
    "start_time": "2023-03-20T11:56:16.617Z"
   },
   {
    "duration": 197,
    "start_time": "2023-03-20T11:56:16.625Z"
   },
   {
    "duration": 4,
    "start_time": "2023-03-20T11:56:16.824Z"
   },
   {
    "duration": 12,
    "start_time": "2023-03-20T11:56:16.829Z"
   },
   {
    "duration": 19,
    "start_time": "2023-03-20T11:56:16.843Z"
   },
   {
    "duration": 19,
    "start_time": "2023-03-20T11:56:16.864Z"
   },
   {
    "duration": 18,
    "start_time": "2023-03-20T11:56:16.884Z"
   },
   {
    "duration": 15,
    "start_time": "2023-03-20T11:56:16.903Z"
   },
   {
    "duration": 9,
    "start_time": "2023-03-20T11:56:16.920Z"
   },
   {
    "duration": 14,
    "start_time": "2023-03-20T11:56:17.343Z"
   },
   {
    "duration": 133,
    "start_time": "2023-03-20T11:56:17.377Z"
   },
   {
    "duration": 24,
    "start_time": "2023-03-20T11:56:17.617Z"
   },
   {
    "duration": 95,
    "start_time": "2023-03-20T11:56:17.733Z"
   },
   {
    "duration": 73,
    "start_time": "2023-03-20T11:56:19.518Z"
   },
   {
    "duration": 353,
    "start_time": "2023-03-20T11:56:53.224Z"
   },
   {
    "duration": 15,
    "start_time": "2023-03-20T11:57:08.927Z"
   },
   {
    "duration": 659,
    "start_time": "2023-03-20T11:58:48.429Z"
   },
   {
    "duration": 4005,
    "start_time": "2023-03-20T11:58:56.445Z"
   },
   {
    "duration": 599,
    "start_time": "2023-03-20T11:59:08.341Z"
   },
   {
    "duration": 220,
    "start_time": "2023-03-20T11:59:21.413Z"
   },
   {
    "duration": 991,
    "start_time": "2023-03-20T12:02:49.041Z"
   },
   {
    "duration": 13,
    "start_time": "2023-03-20T12:03:59.509Z"
   },
   {
    "duration": 195,
    "start_time": "2023-03-20T12:04:11.705Z"
   },
   {
    "duration": 621,
    "start_time": "2023-03-20T12:04:53.242Z"
   },
   {
    "duration": 457,
    "start_time": "2023-03-20T12:05:51.954Z"
   },
   {
    "duration": 615,
    "start_time": "2023-03-20T12:06:13.619Z"
   },
   {
    "duration": 11,
    "start_time": "2023-03-20T12:07:00.505Z"
   },
   {
    "duration": 9,
    "start_time": "2023-03-20T12:07:05.333Z"
   },
   {
    "duration": 187,
    "start_time": "2023-03-20T12:07:19.909Z"
   },
   {
    "duration": 8,
    "start_time": "2023-03-20T12:07:36.041Z"
   },
   {
    "duration": 161,
    "start_time": "2023-03-20T12:07:44.622Z"
   },
   {
    "duration": 127,
    "start_time": "2023-03-20T12:07:57.311Z"
   },
   {
    "duration": 14,
    "start_time": "2023-03-20T12:08:13.470Z"
   },
   {
    "duration": 178,
    "start_time": "2023-03-20T12:08:16.038Z"
   },
   {
    "duration": 535,
    "start_time": "2023-03-20T12:08:38.424Z"
   },
   {
    "duration": 4,
    "start_time": "2023-03-20T12:08:48.604Z"
   },
   {
    "duration": 709,
    "start_time": "2023-03-20T12:08:48.757Z"
   },
   {
    "duration": 35,
    "start_time": "2023-03-20T12:08:49.468Z"
   },
   {
    "duration": 13,
    "start_time": "2023-03-20T12:08:49.504Z"
   },
   {
    "duration": 27,
    "start_time": "2023-03-20T12:08:49.519Z"
   },
   {
    "duration": 8,
    "start_time": "2023-03-20T12:08:49.548Z"
   },
   {
    "duration": 26,
    "start_time": "2023-03-20T12:08:49.558Z"
   },
   {
    "duration": 8,
    "start_time": "2023-03-20T12:08:49.711Z"
   },
   {
    "duration": 137,
    "start_time": "2023-03-20T12:08:50.010Z"
   },
   {
    "duration": 4,
    "start_time": "2023-03-20T12:08:50.155Z"
   },
   {
    "duration": 10,
    "start_time": "2023-03-20T12:08:50.317Z"
   },
   {
    "duration": 10,
    "start_time": "2023-03-20T12:08:51.705Z"
   },
   {
    "duration": 8,
    "start_time": "2023-03-20T12:08:52.042Z"
   },
   {
    "duration": 10,
    "start_time": "2023-03-20T12:08:52.417Z"
   },
   {
    "duration": 9,
    "start_time": "2023-03-20T12:08:52.714Z"
   },
   {
    "duration": 5,
    "start_time": "2023-03-20T12:08:53.061Z"
   },
   {
    "duration": 14,
    "start_time": "2023-03-20T12:08:53.345Z"
   },
   {
    "duration": 129,
    "start_time": "2023-03-20T12:08:54.052Z"
   },
   {
    "duration": 23,
    "start_time": "2023-03-20T12:08:54.508Z"
   },
   {
    "duration": 101,
    "start_time": "2023-03-20T12:08:55.757Z"
   },
   {
    "duration": 600,
    "start_time": "2023-03-20T12:08:58.006Z"
   },
   {
    "duration": 274,
    "start_time": "2023-03-20T12:10:59.409Z"
   },
   {
    "duration": 614,
    "start_time": "2023-03-20T12:11:38.382Z"
   },
   {
    "duration": 79,
    "start_time": "2023-03-20T12:12:06.801Z"
   },
   {
    "duration": 1000,
    "start_time": "2023-03-20T12:12:12.822Z"
   },
   {
    "duration": 873,
    "start_time": "2023-03-20T12:12:20.051Z"
   },
   {
    "duration": 887,
    "start_time": "2023-03-20T12:12:40.533Z"
   },
   {
    "duration": 716,
    "start_time": "2023-03-20T12:12:50.025Z"
   },
   {
    "duration": 752,
    "start_time": "2023-03-20T12:12:56.284Z"
   },
   {
    "duration": 17,
    "start_time": "2023-03-20T12:13:35.288Z"
   },
   {
    "duration": 886,
    "start_time": "2023-03-20T12:14:12.370Z"
   },
   {
    "duration": 674,
    "start_time": "2023-03-20T12:14:13.258Z"
   },
   {
    "duration": 743,
    "start_time": "2023-03-20T12:14:13.934Z"
   },
   {
    "duration": 4,
    "start_time": "2023-03-20T12:14:14.679Z"
   },
   {
    "duration": 5,
    "start_time": "2023-03-20T12:14:14.687Z"
   },
   {
    "duration": 4,
    "start_time": "2023-03-20T12:14:14.709Z"
   },
   {
    "duration": 282,
    "start_time": "2023-03-20T12:14:15.153Z"
   },
   {
    "duration": 392,
    "start_time": "2023-03-20T12:14:15.603Z"
   },
   {
    "duration": 319,
    "start_time": "2023-03-20T12:14:16.212Z"
   },
   {
    "duration": 287,
    "start_time": "2023-03-20T12:14:26.984Z"
   },
   {
    "duration": 233,
    "start_time": "2023-03-20T12:14:35.368Z"
   },
   {
    "duration": 250,
    "start_time": "2023-03-20T12:14:43.361Z"
   },
   {
    "duration": 279,
    "start_time": "2023-03-20T12:15:28.008Z"
   },
   {
    "duration": 241,
    "start_time": "2023-03-20T12:15:36.694Z"
   },
   {
    "duration": 6,
    "start_time": "2023-03-20T12:20:35.131Z"
   },
   {
    "duration": 10,
    "start_time": "2023-03-20T12:20:44.138Z"
   },
   {
    "duration": 11,
    "start_time": "2023-03-20T12:20:50.402Z"
   },
   {
    "duration": 4,
    "start_time": "2023-03-20T12:21:01.061Z"
   },
   {
    "duration": 9,
    "start_time": "2023-03-20T12:21:39.308Z"
   },
   {
    "duration": 694,
    "start_time": "2023-03-20T12:21:46.187Z"
   },
   {
    "duration": 121,
    "start_time": "2023-03-20T12:21:49.599Z"
   },
   {
    "duration": 12,
    "start_time": "2023-03-20T12:21:56.235Z"
   },
   {
    "duration": 12,
    "start_time": "2023-03-20T12:22:53.254Z"
   },
   {
    "duration": 11,
    "start_time": "2023-03-20T12:22:59.733Z"
   },
   {
    "duration": 12,
    "start_time": "2023-03-20T12:23:06.623Z"
   },
   {
    "duration": 8,
    "start_time": "2023-03-20T12:23:13.344Z"
   },
   {
    "duration": 9876,
    "start_time": "2023-03-20T12:23:30.565Z"
   },
   {
    "duration": 1333,
    "start_time": "2023-03-20T12:24:44.716Z"
   },
   {
    "duration": 603,
    "start_time": "2023-03-20T12:28:35.694Z"
   },
   {
    "duration": 592,
    "start_time": "2023-03-20T12:29:06.119Z"
   },
   {
    "duration": 548,
    "start_time": "2023-03-20T12:29:12.009Z"
   },
   {
    "duration": 1481,
    "start_time": "2023-03-20T12:33:43.011Z"
   },
   {
    "duration": 0,
    "start_time": "2023-03-20T12:33:44.495Z"
   },
   {
    "duration": 0,
    "start_time": "2023-03-20T12:33:44.497Z"
   },
   {
    "duration": 0,
    "start_time": "2023-03-20T12:33:44.498Z"
   },
   {
    "duration": 0,
    "start_time": "2023-03-20T12:33:44.499Z"
   },
   {
    "duration": 0,
    "start_time": "2023-03-20T12:33:44.500Z"
   },
   {
    "duration": 0,
    "start_time": "2023-03-20T12:33:44.501Z"
   },
   {
    "duration": 0,
    "start_time": "2023-03-20T12:33:44.502Z"
   },
   {
    "duration": 0,
    "start_time": "2023-03-20T12:33:44.503Z"
   },
   {
    "duration": 0,
    "start_time": "2023-03-20T12:33:44.504Z"
   },
   {
    "duration": 0,
    "start_time": "2023-03-20T12:33:44.506Z"
   },
   {
    "duration": 0,
    "start_time": "2023-03-20T12:33:44.507Z"
   },
   {
    "duration": 0,
    "start_time": "2023-03-20T12:33:44.508Z"
   },
   {
    "duration": 0,
    "start_time": "2023-03-20T12:33:44.509Z"
   },
   {
    "duration": 0,
    "start_time": "2023-03-20T12:33:44.510Z"
   },
   {
    "duration": 0,
    "start_time": "2023-03-20T12:33:44.511Z"
   },
   {
    "duration": 0,
    "start_time": "2023-03-20T12:33:44.512Z"
   },
   {
    "duration": 0,
    "start_time": "2023-03-20T12:33:44.513Z"
   },
   {
    "duration": 0,
    "start_time": "2023-03-20T12:33:44.514Z"
   },
   {
    "duration": 0,
    "start_time": "2023-03-20T12:33:44.516Z"
   },
   {
    "duration": 0,
    "start_time": "2023-03-20T12:33:44.517Z"
   },
   {
    "duration": 0,
    "start_time": "2023-03-20T12:33:44.518Z"
   },
   {
    "duration": 0,
    "start_time": "2023-03-20T12:33:44.519Z"
   },
   {
    "duration": 0,
    "start_time": "2023-03-20T12:33:44.520Z"
   },
   {
    "duration": 0,
    "start_time": "2023-03-20T12:33:44.520Z"
   },
   {
    "duration": 1,
    "start_time": "2023-03-20T12:33:44.521Z"
   },
   {
    "duration": 0,
    "start_time": "2023-03-20T12:33:44.522Z"
   },
   {
    "duration": 0,
    "start_time": "2023-03-20T12:33:44.523Z"
   },
   {
    "duration": 0,
    "start_time": "2023-03-20T12:33:44.524Z"
   },
   {
    "duration": 0,
    "start_time": "2023-03-20T12:33:44.525Z"
   },
   {
    "duration": 0,
    "start_time": "2023-03-20T12:33:44.526Z"
   },
   {
    "duration": 0,
    "start_time": "2023-03-20T12:33:44.527Z"
   },
   {
    "duration": 0,
    "start_time": "2023-03-20T12:33:44.528Z"
   },
   {
    "duration": 0,
    "start_time": "2023-03-20T12:33:44.529Z"
   },
   {
    "duration": 0,
    "start_time": "2023-03-20T12:33:44.530Z"
   },
   {
    "duration": 0,
    "start_time": "2023-03-20T12:33:44.532Z"
   },
   {
    "duration": 0,
    "start_time": "2023-03-20T12:33:44.588Z"
   },
   {
    "duration": 0,
    "start_time": "2023-03-20T12:33:44.589Z"
   },
   {
    "duration": 0,
    "start_time": "2023-03-20T12:33:44.590Z"
   },
   {
    "duration": 0,
    "start_time": "2023-03-20T12:33:44.591Z"
   },
   {
    "duration": 0,
    "start_time": "2023-03-20T12:33:44.593Z"
   },
   {
    "duration": 0,
    "start_time": "2023-03-20T12:33:44.595Z"
   },
   {
    "duration": 0,
    "start_time": "2023-03-20T12:33:44.596Z"
   },
   {
    "duration": 0,
    "start_time": "2023-03-20T12:33:44.600Z"
   },
   {
    "duration": 0,
    "start_time": "2023-03-20T12:33:44.601Z"
   },
   {
    "duration": 0,
    "start_time": "2023-03-20T12:33:44.602Z"
   },
   {
    "duration": 0,
    "start_time": "2023-03-20T12:33:44.603Z"
   },
   {
    "duration": 0,
    "start_time": "2023-03-20T12:33:44.605Z"
   },
   {
    "duration": 0,
    "start_time": "2023-03-20T12:33:44.606Z"
   },
   {
    "duration": 0,
    "start_time": "2023-03-20T12:33:44.607Z"
   },
   {
    "duration": 0,
    "start_time": "2023-03-20T12:33:44.609Z"
   },
   {
    "duration": 1433,
    "start_time": "2023-03-20T12:34:28.697Z"
   },
   {
    "duration": 673,
    "start_time": "2023-03-20T12:34:30.133Z"
   },
   {
    "duration": 19,
    "start_time": "2023-03-20T12:34:30.808Z"
   },
   {
    "duration": 40,
    "start_time": "2023-03-20T12:34:30.829Z"
   },
   {
    "duration": 46,
    "start_time": "2023-03-20T12:34:30.871Z"
   },
   {
    "duration": 13,
    "start_time": "2023-03-20T12:34:30.919Z"
   },
   {
    "duration": 43,
    "start_time": "2023-03-20T12:34:30.934Z"
   },
   {
    "duration": 25,
    "start_time": "2023-03-20T12:34:30.979Z"
   },
   {
    "duration": 181,
    "start_time": "2023-03-20T12:34:31.005Z"
   },
   {
    "duration": 7,
    "start_time": "2023-03-20T12:34:31.189Z"
   },
   {
    "duration": 32,
    "start_time": "2023-03-20T12:34:31.197Z"
   },
   {
    "duration": 39,
    "start_time": "2023-03-20T12:34:31.231Z"
   },
   {
    "duration": 28,
    "start_time": "2023-03-20T12:34:31.271Z"
   },
   {
    "duration": 25,
    "start_time": "2023-03-20T12:34:31.301Z"
   },
   {
    "duration": 38,
    "start_time": "2023-03-20T12:34:31.328Z"
   },
   {
    "duration": 38,
    "start_time": "2023-03-20T12:34:31.368Z"
   },
   {
    "duration": 35,
    "start_time": "2023-03-20T12:34:31.408Z"
   },
   {
    "duration": 152,
    "start_time": "2023-03-20T12:34:31.445Z"
   },
   {
    "duration": 23,
    "start_time": "2023-03-20T12:34:31.598Z"
   },
   {
    "duration": 117,
    "start_time": "2023-03-20T12:34:31.623Z"
   },
   {
    "duration": 561,
    "start_time": "2023-03-20T12:34:31.742Z"
   },
   {
    "duration": 868,
    "start_time": "2023-03-20T12:34:32.304Z"
   },
   {
    "duration": 692,
    "start_time": "2023-03-20T12:34:33.173Z"
   },
   {
    "duration": 709,
    "start_time": "2023-03-20T12:34:33.867Z"
   },
   {
    "duration": 906,
    "start_time": "2023-03-20T12:34:34.578Z"
   },
   {
    "duration": 5,
    "start_time": "2023-03-20T12:34:35.488Z"
   },
   {
    "duration": 11,
    "start_time": "2023-03-20T12:34:35.494Z"
   },
   {
    "duration": 3,
    "start_time": "2023-03-20T12:34:35.509Z"
   },
   {
    "duration": 274,
    "start_time": "2023-03-20T12:34:35.514Z"
   },
   {
    "duration": 234,
    "start_time": "2023-03-20T12:34:35.790Z"
   },
   {
    "duration": 283,
    "start_time": "2023-03-20T12:34:36.026Z"
   },
   {
    "duration": 3,
    "start_time": "2023-03-20T12:34:36.311Z"
   },
   {
    "duration": 13,
    "start_time": "2023-03-20T12:34:36.315Z"
   },
   {
    "duration": 7,
    "start_time": "2023-03-20T12:34:36.329Z"
   },
   {
    "duration": 10,
    "start_time": "2023-03-20T12:34:36.337Z"
   },
   {
    "duration": 150,
    "start_time": "2023-03-20T12:34:36.349Z"
   },
   {
    "duration": 488,
    "start_time": "2023-03-20T12:34:36.501Z"
   },
   {
    "duration": 872112,
    "start_time": "2023-03-20T12:34:36.991Z"
   },
   {
    "duration": 0,
    "start_time": "2023-03-20T12:49:09.105Z"
   },
   {
    "duration": 0,
    "start_time": "2023-03-20T12:49:09.107Z"
   },
   {
    "duration": 0,
    "start_time": "2023-03-20T12:49:09.109Z"
   },
   {
    "duration": 0,
    "start_time": "2023-03-20T12:49:09.110Z"
   },
   {
    "duration": 0,
    "start_time": "2023-03-20T12:49:09.112Z"
   },
   {
    "duration": 0,
    "start_time": "2023-03-20T12:49:09.114Z"
   },
   {
    "duration": 0,
    "start_time": "2023-03-20T12:49:09.114Z"
   },
   {
    "duration": 0,
    "start_time": "2023-03-20T12:49:09.116Z"
   },
   {
    "duration": 0,
    "start_time": "2023-03-20T12:49:09.117Z"
   },
   {
    "duration": 0,
    "start_time": "2023-03-20T12:49:09.118Z"
   },
   {
    "duration": 0,
    "start_time": "2023-03-20T12:49:09.119Z"
   },
   {
    "duration": 0,
    "start_time": "2023-03-20T12:49:09.120Z"
   },
   {
    "duration": 0,
    "start_time": "2023-03-20T12:49:09.121Z"
   },
   {
    "duration": 376967,
    "start_time": "2023-03-20T12:50:19.466Z"
   },
   {
    "duration": 374222,
    "start_time": "2023-03-20T12:57:15.321Z"
   },
   {
    "duration": 9,
    "start_time": "2023-03-20T13:03:44.008Z"
   },
   {
    "duration": 4,
    "start_time": "2023-03-20T13:04:12.843Z"
   },
   {
    "duration": 5,
    "start_time": "2023-03-20T13:04:15.910Z"
   },
   {
    "duration": 6,
    "start_time": "2023-03-20T13:04:28.491Z"
   },
   {
    "duration": 3,
    "start_time": "2023-03-20T13:04:46.207Z"
   },
   {
    "duration": 6302,
    "start_time": "2023-03-20T13:04:46.998Z"
   },
   {
    "duration": 1307327,
    "start_time": "2023-03-20T13:04:55.614Z"
   },
   {
    "duration": 48,
    "start_time": "2023-03-20T13:27:18.548Z"
   },
   {
    "duration": 2929,
    "start_time": "2023-03-20T13:33:27.865Z"
   },
   {
    "duration": 2836,
    "start_time": "2023-03-20T13:33:46.153Z"
   },
   {
    "duration": 15,
    "start_time": "2023-03-20T13:35:00.211Z"
   },
   {
    "duration": 6,
    "start_time": "2023-03-20T13:35:00.537Z"
   },
   {
    "duration": 3,
    "start_time": "2023-03-20T13:35:00.884Z"
   },
   {
    "duration": 3,
    "start_time": "2023-03-20T13:35:01.333Z"
   },
   {
    "duration": 5211,
    "start_time": "2023-03-20T13:35:02.084Z"
   },
   {
    "duration": 6335,
    "start_time": "2023-03-20T13:35:18.858Z"
   },
   {
    "duration": 565580,
    "start_time": "2023-03-20T13:35:28.237Z"
   },
   {
    "duration": 18,
    "start_time": "2023-03-20T13:45:46.434Z"
   },
   {
    "duration": 119978,
    "start_time": "2023-03-20T13:46:18.115Z"
   },
   {
    "duration": 118208,
    "start_time": "2023-03-20T13:50:08.195Z"
   },
   {
    "duration": 3,
    "start_time": "2023-03-20T13:56:44.094Z"
   },
   {
    "duration": 1269,
    "start_time": "2023-03-20T13:59:58.865Z"
   },
   {
    "duration": 463,
    "start_time": "2023-03-20T14:00:59.295Z"
   },
   {
    "duration": 1153,
    "start_time": "2023-03-20T14:01:56.302Z"
   },
   {
    "duration": 1413,
    "start_time": "2023-03-20T14:03:25.767Z"
   },
   {
    "duration": 681,
    "start_time": "2023-03-20T14:03:27.182Z"
   },
   {
    "duration": 24,
    "start_time": "2023-03-20T14:03:27.865Z"
   },
   {
    "duration": 11,
    "start_time": "2023-03-20T14:03:27.892Z"
   },
   {
    "duration": 17,
    "start_time": "2023-03-20T14:03:27.905Z"
   },
   {
    "duration": 3,
    "start_time": "2023-03-20T14:03:27.924Z"
   },
   {
    "duration": 34,
    "start_time": "2023-03-20T14:03:27.929Z"
   },
   {
    "duration": 14,
    "start_time": "2023-03-20T14:03:27.965Z"
   },
   {
    "duration": 182,
    "start_time": "2023-03-20T14:03:27.980Z"
   },
   {
    "duration": 6,
    "start_time": "2023-03-20T14:03:28.166Z"
   },
   {
    "duration": 15,
    "start_time": "2023-03-20T14:03:28.174Z"
   },
   {
    "duration": 14,
    "start_time": "2023-03-20T14:03:28.191Z"
   },
   {
    "duration": 21,
    "start_time": "2023-03-20T14:03:28.206Z"
   },
   {
    "duration": 21,
    "start_time": "2023-03-20T14:03:28.228Z"
   },
   {
    "duration": 15,
    "start_time": "2023-03-20T14:03:28.251Z"
   },
   {
    "duration": 7,
    "start_time": "2023-03-20T14:03:28.268Z"
   },
   {
    "duration": 31,
    "start_time": "2023-03-20T14:03:28.277Z"
   },
   {
    "duration": 141,
    "start_time": "2023-03-20T14:03:28.310Z"
   },
   {
    "duration": 35,
    "start_time": "2023-03-20T14:03:28.453Z"
   },
   {
    "duration": 116,
    "start_time": "2023-03-20T14:03:28.490Z"
   },
   {
    "duration": 73,
    "start_time": "2023-03-20T14:03:28.607Z"
   },
   {
    "duration": 0,
    "start_time": "2023-03-20T14:03:28.683Z"
   },
   {
    "duration": 0,
    "start_time": "2023-03-20T14:03:28.685Z"
   },
   {
    "duration": 0,
    "start_time": "2023-03-20T14:03:28.687Z"
   },
   {
    "duration": 0,
    "start_time": "2023-03-20T14:03:28.688Z"
   },
   {
    "duration": 0,
    "start_time": "2023-03-20T14:03:28.689Z"
   },
   {
    "duration": 0,
    "start_time": "2023-03-20T14:03:28.690Z"
   },
   {
    "duration": 0,
    "start_time": "2023-03-20T14:03:28.691Z"
   },
   {
    "duration": 0,
    "start_time": "2023-03-20T14:03:28.692Z"
   },
   {
    "duration": 0,
    "start_time": "2023-03-20T14:03:28.694Z"
   },
   {
    "duration": 0,
    "start_time": "2023-03-20T14:03:28.695Z"
   },
   {
    "duration": 0,
    "start_time": "2023-03-20T14:03:28.697Z"
   },
   {
    "duration": 0,
    "start_time": "2023-03-20T14:03:28.698Z"
   },
   {
    "duration": 0,
    "start_time": "2023-03-20T14:03:28.699Z"
   },
   {
    "duration": 0,
    "start_time": "2023-03-20T14:03:28.701Z"
   },
   {
    "duration": 0,
    "start_time": "2023-03-20T14:03:28.702Z"
   },
   {
    "duration": 0,
    "start_time": "2023-03-20T14:03:28.704Z"
   },
   {
    "duration": 0,
    "start_time": "2023-03-20T14:03:28.705Z"
   },
   {
    "duration": 0,
    "start_time": "2023-03-20T14:03:28.707Z"
   },
   {
    "duration": 0,
    "start_time": "2023-03-20T14:03:28.708Z"
   },
   {
    "duration": 0,
    "start_time": "2023-03-20T14:03:28.709Z"
   },
   {
    "duration": 0,
    "start_time": "2023-03-20T14:03:28.713Z"
   },
   {
    "duration": 0,
    "start_time": "2023-03-20T14:03:28.714Z"
   },
   {
    "duration": 0,
    "start_time": "2023-03-20T14:03:28.716Z"
   },
   {
    "duration": 0,
    "start_time": "2023-03-20T14:03:28.727Z"
   },
   {
    "duration": 0,
    "start_time": "2023-03-20T14:03:28.728Z"
   },
   {
    "duration": 0,
    "start_time": "2023-03-20T14:03:28.729Z"
   },
   {
    "duration": 0,
    "start_time": "2023-03-20T14:03:28.731Z"
   },
   {
    "duration": 0,
    "start_time": "2023-03-20T14:03:28.733Z"
   },
   {
    "duration": 0,
    "start_time": "2023-03-20T14:03:28.735Z"
   },
   {
    "duration": 0,
    "start_time": "2023-03-20T14:03:28.736Z"
   },
   {
    "duration": 0,
    "start_time": "2023-03-20T14:03:28.738Z"
   },
   {
    "duration": 0,
    "start_time": "2023-03-20T14:03:28.739Z"
   },
   {
    "duration": 1406,
    "start_time": "2023-03-20T14:03:42.898Z"
   },
   {
    "duration": 678,
    "start_time": "2023-03-20T14:03:44.306Z"
   },
   {
    "duration": 18,
    "start_time": "2023-03-20T14:03:44.988Z"
   },
   {
    "duration": 13,
    "start_time": "2023-03-20T14:03:45.009Z"
   },
   {
    "duration": 20,
    "start_time": "2023-03-20T14:03:45.023Z"
   },
   {
    "duration": 3,
    "start_time": "2023-03-20T14:03:45.045Z"
   },
   {
    "duration": 25,
    "start_time": "2023-03-20T14:03:45.049Z"
   },
   {
    "duration": 21,
    "start_time": "2023-03-20T14:03:45.089Z"
   },
   {
    "duration": 166,
    "start_time": "2023-03-20T14:03:45.112Z"
   },
   {
    "duration": 5,
    "start_time": "2023-03-20T14:03:45.280Z"
   },
   {
    "duration": 15,
    "start_time": "2023-03-20T14:03:45.287Z"
   },
   {
    "duration": 9,
    "start_time": "2023-03-20T14:03:45.303Z"
   },
   {
    "duration": 12,
    "start_time": "2023-03-20T14:03:45.313Z"
   },
   {
    "duration": 17,
    "start_time": "2023-03-20T14:03:45.326Z"
   },
   {
    "duration": 14,
    "start_time": "2023-03-20T14:03:45.345Z"
   },
   {
    "duration": 4,
    "start_time": "2023-03-20T14:03:45.361Z"
   },
   {
    "duration": 34,
    "start_time": "2023-03-20T14:03:45.367Z"
   },
   {
    "duration": 131,
    "start_time": "2023-03-20T14:03:45.403Z"
   },
   {
    "duration": 33,
    "start_time": "2023-03-20T14:03:45.536Z"
   },
   {
    "duration": 109,
    "start_time": "2023-03-20T14:03:45.570Z"
   },
   {
    "duration": 74,
    "start_time": "2023-03-20T14:03:45.680Z"
   },
   {
    "duration": 0,
    "start_time": "2023-03-20T14:03:45.756Z"
   },
   {
    "duration": 0,
    "start_time": "2023-03-20T14:03:45.757Z"
   },
   {
    "duration": 0,
    "start_time": "2023-03-20T14:03:45.758Z"
   },
   {
    "duration": 0,
    "start_time": "2023-03-20T14:03:45.760Z"
   },
   {
    "duration": 0,
    "start_time": "2023-03-20T14:03:45.761Z"
   },
   {
    "duration": 0,
    "start_time": "2023-03-20T14:03:45.762Z"
   },
   {
    "duration": 0,
    "start_time": "2023-03-20T14:03:45.763Z"
   },
   {
    "duration": 0,
    "start_time": "2023-03-20T14:03:45.765Z"
   },
   {
    "duration": 0,
    "start_time": "2023-03-20T14:03:45.766Z"
   },
   {
    "duration": 0,
    "start_time": "2023-03-20T14:03:45.768Z"
   },
   {
    "duration": 0,
    "start_time": "2023-03-20T14:03:45.769Z"
   },
   {
    "duration": 0,
    "start_time": "2023-03-20T14:03:45.771Z"
   },
   {
    "duration": 0,
    "start_time": "2023-03-20T14:03:45.772Z"
   },
   {
    "duration": 0,
    "start_time": "2023-03-20T14:03:45.773Z"
   },
   {
    "duration": 0,
    "start_time": "2023-03-20T14:03:45.775Z"
   },
   {
    "duration": 0,
    "start_time": "2023-03-20T14:03:45.776Z"
   },
   {
    "duration": 0,
    "start_time": "2023-03-20T14:03:45.777Z"
   },
   {
    "duration": 0,
    "start_time": "2023-03-20T14:03:45.779Z"
   },
   {
    "duration": 0,
    "start_time": "2023-03-20T14:03:45.780Z"
   },
   {
    "duration": 0,
    "start_time": "2023-03-20T14:03:45.782Z"
   },
   {
    "duration": 0,
    "start_time": "2023-03-20T14:03:45.783Z"
   },
   {
    "duration": 1,
    "start_time": "2023-03-20T14:03:45.784Z"
   },
   {
    "duration": 0,
    "start_time": "2023-03-20T14:03:45.786Z"
   },
   {
    "duration": 0,
    "start_time": "2023-03-20T14:03:45.787Z"
   },
   {
    "duration": 0,
    "start_time": "2023-03-20T14:03:45.789Z"
   },
   {
    "duration": 0,
    "start_time": "2023-03-20T14:03:45.791Z"
   },
   {
    "duration": 0,
    "start_time": "2023-03-20T14:03:45.794Z"
   },
   {
    "duration": 0,
    "start_time": "2023-03-20T14:03:45.795Z"
   },
   {
    "duration": 0,
    "start_time": "2023-03-20T14:03:45.796Z"
   },
   {
    "duration": 0,
    "start_time": "2023-03-20T14:03:45.798Z"
   },
   {
    "duration": 0,
    "start_time": "2023-03-20T14:03:45.799Z"
   },
   {
    "duration": 0,
    "start_time": "2023-03-20T14:03:45.800Z"
   },
   {
    "duration": 1415,
    "start_time": "2023-03-20T14:03:59.044Z"
   },
   {
    "duration": 708,
    "start_time": "2023-03-20T14:04:00.461Z"
   },
   {
    "duration": 33,
    "start_time": "2023-03-20T14:04:01.171Z"
   },
   {
    "duration": 73,
    "start_time": "2023-03-20T14:04:01.207Z"
   },
   {
    "duration": 34,
    "start_time": "2023-03-20T14:04:01.283Z"
   },
   {
    "duration": 60,
    "start_time": "2023-03-20T14:04:01.319Z"
   },
   {
    "duration": 63,
    "start_time": "2023-03-20T14:04:01.382Z"
   },
   {
    "duration": 32,
    "start_time": "2023-03-20T14:04:01.447Z"
   },
   {
    "duration": 185,
    "start_time": "2023-03-20T14:04:01.481Z"
   },
   {
    "duration": 5,
    "start_time": "2023-03-20T14:04:01.669Z"
   },
   {
    "duration": 75,
    "start_time": "2023-03-20T14:04:01.676Z"
   },
   {
    "duration": 45,
    "start_time": "2023-03-20T14:04:01.753Z"
   },
   {
    "duration": 63,
    "start_time": "2023-03-20T14:04:01.800Z"
   },
   {
    "duration": 65,
    "start_time": "2023-03-20T14:04:01.865Z"
   },
   {
    "duration": 21,
    "start_time": "2023-03-20T14:04:01.932Z"
   },
   {
    "duration": 25,
    "start_time": "2023-03-20T14:04:01.955Z"
   },
   {
    "duration": 39,
    "start_time": "2023-03-20T14:04:01.981Z"
   },
   {
    "duration": 147,
    "start_time": "2023-03-20T14:04:02.022Z"
   },
   {
    "duration": 35,
    "start_time": "2023-03-20T14:04:02.170Z"
   },
   {
    "duration": 99,
    "start_time": "2023-03-20T14:04:02.207Z"
   },
   {
    "duration": 1300,
    "start_time": "2023-03-20T14:04:02.307Z"
   },
   {
    "duration": 22,
    "start_time": "2023-03-20T14:04:03.609Z"
   },
   {
    "duration": 597,
    "start_time": "2023-03-20T14:04:03.633Z"
   },
   {
    "duration": 938,
    "start_time": "2023-03-20T14:04:04.232Z"
   },
   {
    "duration": 747,
    "start_time": "2023-03-20T14:04:05.172Z"
   },
   {
    "duration": 698,
    "start_time": "2023-03-20T14:04:05.922Z"
   },
   {
    "duration": 785,
    "start_time": "2023-03-20T14:04:06.621Z"
   },
   {
    "duration": 4,
    "start_time": "2023-03-20T14:04:07.409Z"
   },
   {
    "duration": 5,
    "start_time": "2023-03-20T14:04:07.415Z"
   },
   {
    "duration": 4,
    "start_time": "2023-03-20T14:04:07.422Z"
   },
   {
    "duration": 277,
    "start_time": "2023-03-20T14:04:07.428Z"
   },
   {
    "duration": 232,
    "start_time": "2023-03-20T14:04:07.707Z"
   },
   {
    "duration": 273,
    "start_time": "2023-03-20T14:04:07.941Z"
   },
   {
    "duration": 4,
    "start_time": "2023-03-20T14:04:08.215Z"
   },
   {
    "duration": 7,
    "start_time": "2023-03-20T14:04:08.220Z"
   },
   {
    "duration": 5,
    "start_time": "2023-03-20T14:04:08.229Z"
   },
   {
    "duration": 9,
    "start_time": "2023-03-20T14:04:08.235Z"
   },
   {
    "duration": 243,
    "start_time": "2023-03-20T14:04:08.246Z"
   },
   {
    "duration": 203,
    "start_time": "2023-03-20T14:04:08.491Z"
   },
   {
    "duration": 356515,
    "start_time": "2023-03-20T14:04:08.696Z"
   },
   {
    "duration": 361270,
    "start_time": "2023-03-20T14:10:05.214Z"
   },
   {
    "duration": 5,
    "start_time": "2023-03-20T14:16:06.488Z"
   },
   {
    "duration": 6,
    "start_time": "2023-03-20T14:16:06.495Z"
   },
   {
    "duration": 14,
    "start_time": "2023-03-20T14:16:06.503Z"
   },
   {
    "duration": 4276,
    "start_time": "2023-03-20T14:16:06.518Z"
   },
   {
    "duration": 481273,
    "start_time": "2023-03-20T14:16:10.799Z"
   },
   {
    "duration": 50,
    "start_time": "2023-03-20T14:24:12.073Z"
   },
   {
    "duration": 16,
    "start_time": "2023-03-20T14:24:12.125Z"
   },
   {
    "duration": 5,
    "start_time": "2023-03-20T14:24:12.143Z"
   },
   {
    "duration": 4,
    "start_time": "2023-03-20T14:24:12.150Z"
   },
   {
    "duration": 16,
    "start_time": "2023-03-20T14:24:12.156Z"
   },
   {
    "duration": 2017,
    "start_time": "2023-03-20T14:24:12.174Z"
   },
   {
    "duration": 104999,
    "start_time": "2023-03-20T14:24:14.195Z"
   },
   {
    "duration": 556,
    "start_time": "2023-03-20T14:25:59.197Z"
   },
   {
    "duration": 1078,
    "start_time": "2023-03-20T14:26:37.094Z"
   },
   {
    "duration": 855,
    "start_time": "2023-03-20T14:26:50.711Z"
   },
   {
    "duration": 317,
    "start_time": "2023-03-20T14:26:59.779Z"
   },
   {
    "duration": 530,
    "start_time": "2023-03-20T14:27:25.461Z"
   },
   {
    "duration": 796,
    "start_time": "2023-03-20T14:27:28.156Z"
   },
   {
    "duration": 956,
    "start_time": "2023-03-20T14:27:34.287Z"
   },
   {
    "duration": 241,
    "start_time": "2023-03-20T14:27:40.439Z"
   },
   {
    "duration": 33,
    "start_time": "2023-03-20T14:39:12.968Z"
   },
   {
    "duration": 1581,
    "start_time": "2023-03-20T18:36:07.924Z"
   },
   {
    "duration": 2429,
    "start_time": "2023-03-20T18:36:09.507Z"
   },
   {
    "duration": 19,
    "start_time": "2023-03-20T18:36:11.937Z"
   },
   {
    "duration": 11,
    "start_time": "2023-03-20T18:36:11.958Z"
   },
   {
    "duration": 16,
    "start_time": "2023-03-20T18:36:11.971Z"
   },
   {
    "duration": 2,
    "start_time": "2023-03-20T18:36:11.988Z"
   },
   {
    "duration": 9,
    "start_time": "2023-03-20T18:36:11.992Z"
   },
   {
    "duration": 5,
    "start_time": "2023-03-20T18:36:12.003Z"
   },
   {
    "duration": 34,
    "start_time": "2023-03-20T18:36:12.009Z"
   },
   {
    "duration": 1463,
    "start_time": "2023-03-22T07:32:36.295Z"
   },
   {
    "duration": 2433,
    "start_time": "2023-03-22T07:32:37.759Z"
   },
   {
    "duration": 17,
    "start_time": "2023-03-22T07:32:40.193Z"
   },
   {
    "duration": 11,
    "start_time": "2023-03-22T07:32:40.212Z"
   },
   {
    "duration": 14,
    "start_time": "2023-03-22T07:32:40.225Z"
   },
   {
    "duration": 3,
    "start_time": "2023-03-22T07:32:40.240Z"
   },
   {
    "duration": 20,
    "start_time": "2023-03-22T07:32:40.244Z"
   },
   {
    "duration": 5,
    "start_time": "2023-03-22T07:32:40.266Z"
   },
   {
    "duration": 6,
    "start_time": "2023-03-22T07:32:40.272Z"
   },
   {
    "duration": 10,
    "start_time": "2023-03-22T07:32:40.279Z"
   },
   {
    "duration": 10,
    "start_time": "2023-03-22T07:32:40.290Z"
   },
   {
    "duration": 7,
    "start_time": "2023-03-22T07:32:40.302Z"
   },
   {
    "duration": 6,
    "start_time": "2023-03-22T07:32:40.310Z"
   },
   {
    "duration": 11,
    "start_time": "2023-03-22T07:32:40.319Z"
   },
   {
    "duration": 31,
    "start_time": "2023-03-22T07:32:40.331Z"
   },
   {
    "duration": 3,
    "start_time": "2023-03-22T07:32:40.363Z"
   },
   {
    "duration": 22,
    "start_time": "2023-03-22T07:32:40.367Z"
   },
   {
    "duration": 111,
    "start_time": "2023-03-22T07:32:40.390Z"
   },
   {
    "duration": 23,
    "start_time": "2023-03-22T07:32:40.503Z"
   },
   {
    "duration": 103,
    "start_time": "2023-03-22T07:32:40.528Z"
   },
   {
    "duration": 1353,
    "start_time": "2023-03-22T07:32:40.633Z"
   },
   {
    "duration": 18,
    "start_time": "2023-03-22T07:32:41.988Z"
   },
   {
    "duration": 479,
    "start_time": "2023-03-22T07:32:42.007Z"
   },
   {
    "duration": 803,
    "start_time": "2023-03-22T07:32:42.487Z"
   },
   {
    "duration": 664,
    "start_time": "2023-03-22T07:32:43.292Z"
   },
   {
    "duration": 668,
    "start_time": "2023-03-22T07:32:43.957Z"
   },
   {
    "duration": 715,
    "start_time": "2023-03-22T07:32:44.627Z"
   },
   {
    "duration": 4,
    "start_time": "2023-03-22T07:32:45.344Z"
   },
   {
    "duration": 5,
    "start_time": "2023-03-22T07:32:45.359Z"
   },
   {
    "duration": 11,
    "start_time": "2023-03-22T07:32:45.365Z"
   },
   {
    "duration": 208,
    "start_time": "2023-03-22T07:32:45.377Z"
   },
   {
    "duration": 193,
    "start_time": "2023-03-22T07:32:45.587Z"
   },
   {
    "duration": 225,
    "start_time": "2023-03-22T07:32:45.781Z"
   },
   {
    "duration": 3,
    "start_time": "2023-03-22T07:32:46.008Z"
   },
   {
    "duration": 8,
    "start_time": "2023-03-22T07:32:46.012Z"
   },
   {
    "duration": 5,
    "start_time": "2023-03-22T07:32:46.022Z"
   },
   {
    "duration": 10,
    "start_time": "2023-03-22T07:32:46.028Z"
   },
   {
    "duration": 223,
    "start_time": "2023-03-22T07:32:46.040Z"
   },
   {
    "duration": 302,
    "start_time": "2023-03-22T07:32:46.267Z"
   },
   {
    "duration": 352986,
    "start_time": "2023-03-22T07:32:46.572Z"
   },
   {
    "duration": 390224,
    "start_time": "2023-03-22T07:38:39.562Z"
   },
   {
    "duration": 4,
    "start_time": "2023-03-22T07:45:09.788Z"
   },
   {
    "duration": 5,
    "start_time": "2023-03-22T07:45:09.793Z"
   },
   {
    "duration": 4,
    "start_time": "2023-03-22T07:45:09.799Z"
   },
   {
    "duration": 3154,
    "start_time": "2023-03-22T07:45:09.805Z"
   },
   {
    "duration": 482012,
    "start_time": "2023-03-22T07:45:12.961Z"
   },
   {
    "duration": 38,
    "start_time": "2023-03-22T07:53:14.974Z"
   },
   {
    "duration": 11,
    "start_time": "2023-03-22T07:53:15.014Z"
   },
   {
    "duration": 10,
    "start_time": "2023-03-22T07:53:15.027Z"
   },
   {
    "duration": 22,
    "start_time": "2023-03-22T07:53:15.038Z"
   },
   {
    "duration": 17,
    "start_time": "2023-03-22T07:53:15.062Z"
   },
   {
    "duration": 19,
    "start_time": "2023-03-22T07:53:15.081Z"
   },
   {
    "duration": 10,
    "start_time": "2023-03-22T07:53:15.102Z"
   },
   {
    "duration": 106,
    "start_time": "2023-03-22T07:56:57.217Z"
   },
   {
    "duration": 14273,
    "start_time": "2023-03-22T07:57:28.778Z"
   },
   {
    "duration": 13577,
    "start_time": "2023-03-22T07:58:05.789Z"
   },
   {
    "duration": 103737,
    "start_time": "2023-03-22T07:59:16.322Z"
   },
   {
    "duration": 21,
    "start_time": "2023-03-22T08:01:57.042Z"
   },
   {
    "duration": 15,
    "start_time": "2023-03-22T08:02:16.185Z"
   },
   {
    "duration": 12,
    "start_time": "2023-03-22T08:02:16.630Z"
   },
   {
    "duration": 3,
    "start_time": "2023-03-22T08:02:31.834Z"
   },
   {
    "duration": 2,
    "start_time": "2023-03-22T08:02:32.534Z"
   },
   {
    "duration": 76,
    "start_time": "2023-03-22T08:02:34.186Z"
   },
   {
    "duration": 1262,
    "start_time": "2023-03-22T08:03:35.583Z"
   },
   {
    "duration": 582,
    "start_time": "2023-03-22T08:03:36.846Z"
   },
   {
    "duration": 24,
    "start_time": "2023-03-22T08:03:37.430Z"
   },
   {
    "duration": 19,
    "start_time": "2023-03-22T08:03:37.461Z"
   },
   {
    "duration": 16,
    "start_time": "2023-03-22T08:03:37.483Z"
   },
   {
    "duration": 2,
    "start_time": "2023-03-22T08:03:37.501Z"
   },
   {
    "duration": 12,
    "start_time": "2023-03-22T08:03:37.504Z"
   },
   {
    "duration": 8,
    "start_time": "2023-03-22T08:03:37.517Z"
   },
   {
    "duration": 5,
    "start_time": "2023-03-22T08:03:37.527Z"
   },
   {
    "duration": 28,
    "start_time": "2023-03-22T08:03:37.534Z"
   },
   {
    "duration": 20,
    "start_time": "2023-03-22T08:03:37.563Z"
   },
   {
    "duration": 9,
    "start_time": "2023-03-22T08:03:37.584Z"
   },
   {
    "duration": 14,
    "start_time": "2023-03-22T08:03:37.595Z"
   },
   {
    "duration": 9,
    "start_time": "2023-03-22T08:03:37.612Z"
   },
   {
    "duration": 9,
    "start_time": "2023-03-22T08:03:37.622Z"
   },
   {
    "duration": 4,
    "start_time": "2023-03-22T08:03:37.633Z"
   },
   {
    "duration": 20,
    "start_time": "2023-03-22T08:03:37.660Z"
   },
   {
    "duration": 110,
    "start_time": "2023-03-22T08:03:37.682Z"
   },
   {
    "duration": 20,
    "start_time": "2023-03-22T08:03:37.793Z"
   },
   {
    "duration": 93,
    "start_time": "2023-03-22T08:03:37.815Z"
   },
   {
    "duration": 1250,
    "start_time": "2023-03-22T08:03:37.909Z"
   },
   {
    "duration": 20,
    "start_time": "2023-03-22T08:03:39.160Z"
   },
   {
    "duration": 489,
    "start_time": "2023-03-22T08:03:39.182Z"
   },
   {
    "duration": 735,
    "start_time": "2023-03-22T08:03:39.672Z"
   },
   {
    "duration": 573,
    "start_time": "2023-03-22T08:03:40.408Z"
   },
   {
    "duration": 560,
    "start_time": "2023-03-22T08:03:40.983Z"
   },
   {
    "duration": 704,
    "start_time": "2023-03-22T08:03:41.545Z"
   },
   {
    "duration": 10,
    "start_time": "2023-03-22T08:03:42.251Z"
   },
   {
    "duration": 7,
    "start_time": "2023-03-22T08:03:42.263Z"
   },
   {
    "duration": 6,
    "start_time": "2023-03-22T08:03:42.271Z"
   },
   {
    "duration": 207,
    "start_time": "2023-03-22T08:03:42.280Z"
   },
   {
    "duration": 195,
    "start_time": "2023-03-22T08:03:42.488Z"
   },
   {
    "duration": 222,
    "start_time": "2023-03-22T08:03:42.684Z"
   },
   {
    "duration": 3,
    "start_time": "2023-03-22T08:03:42.907Z"
   },
   {
    "duration": 20,
    "start_time": "2023-03-22T08:03:42.911Z"
   },
   {
    "duration": 5,
    "start_time": "2023-03-22T08:03:42.932Z"
   },
   {
    "duration": 9,
    "start_time": "2023-03-22T08:03:42.938Z"
   },
   {
    "duration": 212,
    "start_time": "2023-03-22T08:03:42.949Z"
   },
   {
    "duration": 106,
    "start_time": "2023-03-22T08:03:43.162Z"
   },
   {
    "duration": 90,
    "start_time": "2023-03-22T08:03:43.270Z"
   },
   {
    "duration": 3,
    "start_time": "2023-03-22T08:03:43.366Z"
   },
   {
    "duration": 90,
    "start_time": "2023-03-22T08:03:43.370Z"
   },
   {
    "duration": 2,
    "start_time": "2023-03-22T08:03:43.462Z"
   },
   {
    "duration": 21,
    "start_time": "2023-03-22T08:03:43.467Z"
   },
   {
    "duration": 2584,
    "start_time": "2023-03-22T08:03:43.489Z"
   },
   {
    "duration": 85,
    "start_time": "2023-03-22T08:03:46.076Z"
   },
   {
    "duration": 11,
    "start_time": "2023-03-22T08:03:46.163Z"
   },
   {
    "duration": 24,
    "start_time": "2023-03-22T08:03:46.176Z"
   },
   {
    "duration": 5,
    "start_time": "2023-03-22T08:03:46.201Z"
   },
   {
    "duration": 11,
    "start_time": "2023-03-22T08:03:46.207Z"
   },
   {
    "duration": 41,
    "start_time": "2023-03-22T08:03:46.219Z"
   },
   {
    "duration": 327,
    "start_time": "2023-03-22T08:03:46.261Z"
   },
   {
    "duration": 0,
    "start_time": "2023-03-22T08:03:46.591Z"
   },
   {
    "duration": 0,
    "start_time": "2023-03-22T08:03:46.592Z"
   },
   {
    "duration": 1785,
    "start_time": "2023-03-24T09:44:46.830Z"
   },
   {
    "duration": 2186,
    "start_time": "2023-03-24T09:44:48.619Z"
   },
   {
    "duration": 24,
    "start_time": "2023-03-24T09:44:50.807Z"
   },
   {
    "duration": 15,
    "start_time": "2023-03-24T09:44:50.833Z"
   },
   {
    "duration": 18,
    "start_time": "2023-03-24T09:44:50.850Z"
   },
   {
    "duration": 3,
    "start_time": "2023-03-24T09:44:50.870Z"
   },
   {
    "duration": 40,
    "start_time": "2023-03-24T09:44:50.903Z"
   },
   {
    "duration": 7,
    "start_time": "2023-03-24T09:44:50.945Z"
   },
   {
    "duration": 43,
    "start_time": "2023-03-24T09:44:50.954Z"
   },
   {
    "duration": 11,
    "start_time": "2023-03-24T09:44:51.000Z"
   },
   {
    "duration": 21,
    "start_time": "2023-03-24T09:44:51.014Z"
   },
   {
    "duration": 9,
    "start_time": "2023-03-24T09:44:51.037Z"
   },
   {
    "duration": 7,
    "start_time": "2023-03-24T09:44:51.047Z"
   },
   {
    "duration": 10,
    "start_time": "2023-03-24T09:44:51.056Z"
   },
   {
    "duration": 42,
    "start_time": "2023-03-24T09:44:51.068Z"
   },
   {
    "duration": 14,
    "start_time": "2023-03-24T09:44:51.112Z"
   },
   {
    "duration": 30,
    "start_time": "2023-03-24T09:44:51.130Z"
   },
   {
    "duration": 135,
    "start_time": "2023-03-24T09:44:51.161Z"
   },
   {
    "duration": 40,
    "start_time": "2023-03-24T09:44:51.297Z"
   },
   {
    "duration": 122,
    "start_time": "2023-03-24T09:44:51.338Z"
   },
   {
    "duration": 1634,
    "start_time": "2023-03-24T09:44:51.461Z"
   },
   {
    "duration": 33,
    "start_time": "2023-03-24T09:44:53.097Z"
   },
   {
    "duration": 663,
    "start_time": "2023-03-24T09:44:53.132Z"
   },
   {
    "duration": 1029,
    "start_time": "2023-03-24T09:44:53.802Z"
   },
   {
    "duration": 798,
    "start_time": "2023-03-24T09:44:54.833Z"
   },
   {
    "duration": 759,
    "start_time": "2023-03-24T09:44:55.633Z"
   },
   {
    "duration": 905,
    "start_time": "2023-03-24T09:44:56.402Z"
   },
   {
    "duration": 7,
    "start_time": "2023-03-24T09:44:57.316Z"
   },
   {
    "duration": 10,
    "start_time": "2023-03-24T09:44:57.326Z"
   },
   {
    "duration": 6,
    "start_time": "2023-03-24T09:44:57.338Z"
   },
   {
    "duration": 311,
    "start_time": "2023-03-24T09:44:57.345Z"
   },
   {
    "duration": 321,
    "start_time": "2023-03-24T09:44:57.658Z"
   },
   {
    "duration": 313,
    "start_time": "2023-03-24T09:44:57.981Z"
   },
   {
    "duration": 6,
    "start_time": "2023-03-24T09:44:58.297Z"
   },
   {
    "duration": 11,
    "start_time": "2023-03-24T09:44:58.307Z"
   },
   {
    "duration": 781,
    "start_time": "2023-03-24T09:44:58.321Z"
   },
   {
    "duration": 508,
    "start_time": "2023-03-24T09:44:59.108Z"
   },
   {
    "duration": 5,
    "start_time": "2023-03-24T09:44:59.621Z"
   },
   {
    "duration": 4,
    "start_time": "2023-03-24T09:44:59.704Z"
   },
   {
    "duration": 3,
    "start_time": "2023-03-24T09:44:59.711Z"
   },
   {
    "duration": 3,
    "start_time": "2023-03-24T09:44:59.716Z"
   },
   {
    "duration": 222,
    "start_time": "2023-03-24T09:44:59.722Z"
   },
   {
    "duration": 0,
    "start_time": "2023-03-24T09:44:59.945Z"
   },
   {
    "duration": 0,
    "start_time": "2023-03-24T09:44:59.947Z"
   },
   {
    "duration": 0,
    "start_time": "2023-03-24T09:44:59.948Z"
   },
   {
    "duration": 0,
    "start_time": "2023-03-24T09:44:59.949Z"
   },
   {
    "duration": 0,
    "start_time": "2023-03-24T09:44:59.950Z"
   },
   {
    "duration": 0,
    "start_time": "2023-03-24T09:44:59.951Z"
   },
   {
    "duration": 0,
    "start_time": "2023-03-24T09:44:59.953Z"
   },
   {
    "duration": 0,
    "start_time": "2023-03-24T09:44:59.954Z"
   },
   {
    "duration": 0,
    "start_time": "2023-03-24T09:44:59.955Z"
   },
   {
    "duration": 0,
    "start_time": "2023-03-24T09:44:59.956Z"
   },
   {
    "duration": 0,
    "start_time": "2023-03-24T09:44:59.957Z"
   },
   {
    "duration": 0,
    "start_time": "2023-03-24T09:44:59.958Z"
   },
   {
    "duration": 16,
    "start_time": "2023-03-24T09:46:47.012Z"
   },
   {
    "duration": 10,
    "start_time": "2023-03-24T09:46:47.500Z"
   },
   {
    "duration": 6,
    "start_time": "2023-03-24T09:46:55.055Z"
   },
   {
    "duration": 3,
    "start_time": "2023-03-24T09:46:55.773Z"
   },
   {
    "duration": 4,
    "start_time": "2023-03-24T09:46:56.312Z"
   },
   {
    "duration": 14,
    "start_time": "2023-03-24T09:48:51.863Z"
   },
   {
    "duration": 7,
    "start_time": "2023-03-24T09:49:07.678Z"
   },
   {
    "duration": 4,
    "start_time": "2023-03-24T09:51:02.269Z"
   },
   {
    "duration": 3,
    "start_time": "2023-03-24T09:51:02.685Z"
   },
   {
    "duration": 4,
    "start_time": "2023-03-24T09:51:03.092Z"
   },
   {
    "duration": 9,
    "start_time": "2023-03-24T09:51:03.599Z"
   },
   {
    "duration": 8,
    "start_time": "2023-03-24T09:51:04.473Z"
   },
   {
    "duration": 7,
    "start_time": "2023-03-24T09:51:30.159Z"
   },
   {
    "duration": 8,
    "start_time": "2023-03-24T09:51:44.403Z"
   },
   {
    "duration": 4,
    "start_time": "2023-03-24T09:51:52.407Z"
   },
   {
    "duration": 4,
    "start_time": "2023-03-24T09:54:36.626Z"
   },
   {
    "duration": 4,
    "start_time": "2023-03-24T09:54:42.196Z"
   },
   {
    "duration": 1012,
    "start_time": "2023-03-24T10:17:41.115Z"
   },
   {
    "duration": 1422,
    "start_time": "2023-03-24T10:18:45.288Z"
   },
   {
    "duration": 14,
    "start_time": "2023-03-24T10:19:43.336Z"
   },
   {
    "duration": 6,
    "start_time": "2023-03-24T10:19:43.779Z"
   },
   {
    "duration": 3,
    "start_time": "2023-03-24T10:19:44.180Z"
   },
   {
    "duration": 82,
    "start_time": "2023-03-24T10:19:46.656Z"
   },
   {
    "duration": 24,
    "start_time": "2023-03-24T10:20:18.235Z"
   },
   {
    "duration": 1261,
    "start_time": "2023-03-24T10:20:50.048Z"
   },
   {
    "duration": 958,
    "start_time": "2023-03-24T10:21:06.075Z"
   },
   {
    "duration": 834,
    "start_time": "2023-03-24T10:21:20.701Z"
   },
   {
    "duration": 72,
    "start_time": "2023-03-24T10:26:03.132Z"
   },
   {
    "duration": 74,
    "start_time": "2023-03-24T10:26:26.334Z"
   },
   {
    "duration": 4,
    "start_time": "2023-03-24T10:26:34.812Z"
   },
   {
    "duration": 3,
    "start_time": "2023-03-24T10:26:35.255Z"
   },
   {
    "duration": 85,
    "start_time": "2023-03-24T10:26:35.738Z"
   },
   {
    "duration": 271,
    "start_time": "2023-03-24T10:26:36.734Z"
   },
   {
    "duration": 111,
    "start_time": "2023-03-24T10:26:58.098Z"
   },
   {
    "duration": 1683,
    "start_time": "2023-03-24T10:34:44.688Z"
   },
   {
    "duration": 770,
    "start_time": "2023-03-24T10:34:46.374Z"
   },
   {
    "duration": 19,
    "start_time": "2023-03-24T10:34:47.145Z"
   },
   {
    "duration": 13,
    "start_time": "2023-03-24T10:34:47.166Z"
   },
   {
    "duration": 47,
    "start_time": "2023-03-24T10:34:47.181Z"
   },
   {
    "duration": 4,
    "start_time": "2023-03-24T10:34:47.229Z"
   },
   {
    "duration": 22,
    "start_time": "2023-03-24T10:34:47.234Z"
   },
   {
    "duration": 8,
    "start_time": "2023-03-24T10:34:47.259Z"
   },
   {
    "duration": 36,
    "start_time": "2023-03-24T10:34:47.270Z"
   },
   {
    "duration": 8,
    "start_time": "2023-03-24T10:34:47.311Z"
   },
   {
    "duration": 11,
    "start_time": "2023-03-24T10:34:47.322Z"
   },
   {
    "duration": 9,
    "start_time": "2023-03-24T10:34:47.335Z"
   },
   {
    "duration": 7,
    "start_time": "2023-03-24T10:34:47.345Z"
   },
   {
    "duration": 49,
    "start_time": "2023-03-24T10:34:47.354Z"
   },
   {
    "duration": 18,
    "start_time": "2023-03-24T10:34:47.407Z"
   },
   {
    "duration": 5,
    "start_time": "2023-03-24T10:34:47.427Z"
   },
   {
    "duration": 25,
    "start_time": "2023-03-24T10:34:47.434Z"
   },
   {
    "duration": 152,
    "start_time": "2023-03-24T10:34:47.461Z"
   },
   {
    "duration": 26,
    "start_time": "2023-03-24T10:34:47.615Z"
   },
   {
    "duration": 120,
    "start_time": "2023-03-24T10:34:47.642Z"
   },
   {
    "duration": 1619,
    "start_time": "2023-03-24T10:34:47.764Z"
   },
   {
    "duration": 34,
    "start_time": "2023-03-24T10:34:49.384Z"
   },
   {
    "duration": 643,
    "start_time": "2023-03-24T10:34:49.421Z"
   },
   {
    "duration": 965,
    "start_time": "2023-03-24T10:34:50.066Z"
   },
   {
    "duration": 800,
    "start_time": "2023-03-24T10:34:51.033Z"
   },
   {
    "duration": 784,
    "start_time": "2023-03-24T10:34:51.835Z"
   },
   {
    "duration": 906,
    "start_time": "2023-03-24T10:34:52.621Z"
   },
   {
    "duration": 4,
    "start_time": "2023-03-24T10:34:53.533Z"
   },
   {
    "duration": 21,
    "start_time": "2023-03-24T10:34:53.539Z"
   },
   {
    "duration": 5,
    "start_time": "2023-03-24T10:34:53.562Z"
   },
   {
    "duration": 312,
    "start_time": "2023-03-24T10:34:53.569Z"
   },
   {
    "duration": 285,
    "start_time": "2023-03-24T10:34:53.882Z"
   },
   {
    "duration": 300,
    "start_time": "2023-03-24T10:34:54.169Z"
   },
   {
    "duration": 3,
    "start_time": "2023-03-24T10:34:54.470Z"
   },
   {
    "duration": 16,
    "start_time": "2023-03-24T10:34:54.474Z"
   },
   {
    "duration": 325,
    "start_time": "2023-03-24T10:34:54.492Z"
   },
   {
    "duration": 783,
    "start_time": "2023-03-24T10:34:54.822Z"
   },
   {
    "duration": 4,
    "start_time": "2023-03-24T10:34:55.607Z"
   },
   {
    "duration": 9,
    "start_time": "2023-03-24T10:34:55.614Z"
   },
   {
    "duration": 75,
    "start_time": "2023-03-24T10:34:55.631Z"
   },
   {
    "duration": 10,
    "start_time": "2023-03-24T10:34:55.710Z"
   },
   {
    "duration": 6,
    "start_time": "2023-03-24T10:34:55.723Z"
   },
   {
    "duration": 6,
    "start_time": "2023-03-24T10:34:55.731Z"
   },
   {
    "duration": 401812,
    "start_time": "2023-03-24T10:34:55.738Z"
   },
   {
    "duration": 419401,
    "start_time": "2023-03-24T10:41:37.551Z"
   },
   {
    "duration": 5,
    "start_time": "2023-03-24T10:48:36.954Z"
   },
   {
    "duration": 14,
    "start_time": "2023-03-24T10:48:36.960Z"
   },
   {
    "duration": 6,
    "start_time": "2023-03-24T10:48:36.976Z"
   },
   {
    "duration": 5,
    "start_time": "2023-03-24T10:48:36.983Z"
   },
   {
    "duration": 6,
    "start_time": "2023-03-24T10:48:37.006Z"
   },
   {
    "duration": 3,
    "start_time": "2023-03-24T10:48:37.015Z"
   },
   {
    "duration": 7,
    "start_time": "2023-03-24T10:48:37.020Z"
   },
   {
    "duration": 4,
    "start_time": "2023-03-24T10:48:37.029Z"
   },
   {
    "duration": 7,
    "start_time": "2023-03-24T10:48:37.036Z"
   },
   {
    "duration": 8,
    "start_time": "2023-03-24T10:48:37.046Z"
   },
   {
    "duration": 5,
    "start_time": "2023-03-24T10:48:37.057Z"
   },
   {
    "duration": 13,
    "start_time": "2023-03-24T10:50:46.536Z"
   },
   {
    "duration": 5,
    "start_time": "2023-03-24T10:50:47.109Z"
   },
   {
    "duration": 3,
    "start_time": "2023-03-24T10:50:48.195Z"
   },
   {
    "duration": 117,
    "start_time": "2023-03-24T10:50:48.947Z"
   },
   {
    "duration": 3,
    "start_time": "2023-03-24T10:51:21.352Z"
   },
   {
    "duration": 4,
    "start_time": "2023-03-24T10:51:21.944Z"
   },
   {
    "duration": 2,
    "start_time": "2023-03-24T10:51:25.324Z"
   },
   {
    "duration": 127585,
    "start_time": "2023-03-24T10:53:14.990Z"
   },
   {
    "duration": 138936,
    "start_time": "2023-03-24T10:55:22.577Z"
   },
   {
    "duration": 5,
    "start_time": "2023-03-24T10:58:54.710Z"
   },
   {
    "duration": 6,
    "start_time": "2023-03-24T10:58:55.668Z"
   },
   {
    "duration": 4,
    "start_time": "2023-03-24T10:58:56.854Z"
   }
  ],
  "kernelspec": {
   "display_name": "Python 3 (ipykernel)",
   "language": "python",
   "name": "python3"
  },
  "language_info": {
   "codemirror_mode": {
    "name": "ipython",
    "version": 3
   },
   "file_extension": ".py",
   "mimetype": "text/x-python",
   "name": "python",
   "nbconvert_exporter": "python",
   "pygments_lexer": "ipython3",
   "version": "3.9.5"
  },
  "toc": {
   "base_numbering": 1,
   "nav_menu": {},
   "number_sections": true,
   "sideBar": true,
   "skip_h1_title": true,
   "title_cell": "Содержание",
   "title_sidebar": "Contents",
   "toc_cell": true,
   "toc_position": {
    "height": "calc(100% - 180px)",
    "left": "10px",
    "top": "150px",
    "width": "269px"
   },
   "toc_section_display": true,
   "toc_window_display": true
  }
 },
 "nbformat": 4,
 "nbformat_minor": 2
}
